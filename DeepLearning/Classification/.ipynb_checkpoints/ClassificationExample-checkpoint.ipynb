{
 "cells": [
  {
   "cell_type": "code",
   "execution_count": 1,
   "metadata": {},
   "outputs": [],
   "source": [
    "import tensorflow as tf\n",
    "from sklearn.datasets import load_breast_cancer\n",
    "from sklearn.model_selection import train_test_split\n",
    "from sklearn.preprocessing import StandardScaler\n",
    "import matplotlib.pyplot as plt"
   ]
  },
  {
   "cell_type": "code",
   "execution_count": 2,
   "metadata": {},
   "outputs": [],
   "source": [
    "data = load_breast_cancer()"
   ]
  },
  {
   "cell_type": "code",
   "execution_count": 3,
   "metadata": {},
   "outputs": [
    {
     "data": {
      "text/plain": [
       "sklearn.utils.Bunch"
      ]
     },
     "execution_count": 3,
     "metadata": {},
     "output_type": "execute_result"
    }
   ],
   "source": [
    "type(data)"
   ]
  },
  {
   "cell_type": "code",
   "execution_count": 4,
   "metadata": {},
   "outputs": [
    {
     "data": {
      "text/plain": [
       "'.. _breast_cancer_dataset:\\n\\nBreast cancer wisconsin (diagnostic) dataset\\n--------------------------------------------\\n\\n**Data Set Characteristics:**\\n\\n    :Number of Instances: 569\\n\\n    :Number of Attributes: 30 numeric, predictive attributes and the class\\n\\n    :Attribute Information:\\n        - radius (mean of distances from center to points on the perimeter)\\n        - texture (standard deviation of gray-scale values)\\n        - perimeter\\n        - area\\n        - smoothness (local variation in radius lengths)\\n        - compactness (perimeter^2 / area - 1.0)\\n        - concavity (severity of concave portions of the contour)\\n        - concave points (number of concave portions of the contour)\\n        - symmetry \\n        - fractal dimension (\"coastline approximation\" - 1)\\n\\n        The mean, standard error, and \"worst\" or largest (mean of the three\\n        largest values) of these features were computed for each image,\\n        resulting in 30 features.  For instance, field 3 is Mean Radius, field\\n        13 is Radius SE, field 23 is Worst Radius.\\n\\n        - class:\\n                - WDBC-Malignant\\n                - WDBC-Benign\\n\\n    :Summary Statistics:\\n\\n    ===================================== ====== ======\\n                                           Min    Max\\n    ===================================== ====== ======\\n    radius (mean):                        6.981  28.11\\n    texture (mean):                       9.71   39.28\\n    perimeter (mean):                     43.79  188.5\\n    area (mean):                          143.5  2501.0\\n    smoothness (mean):                    0.053  0.163\\n    compactness (mean):                   0.019  0.345\\n    concavity (mean):                     0.0    0.427\\n    concave points (mean):                0.0    0.201\\n    symmetry (mean):                      0.106  0.304\\n    fractal dimension (mean):             0.05   0.097\\n    radius (standard error):              0.112  2.873\\n    texture (standard error):             0.36   4.885\\n    perimeter (standard error):           0.757  21.98\\n    area (standard error):                6.802  542.2\\n    smoothness (standard error):          0.002  0.031\\n    compactness (standard error):         0.002  0.135\\n    concavity (standard error):           0.0    0.396\\n    concave points (standard error):      0.0    0.053\\n    symmetry (standard error):            0.008  0.079\\n    fractal dimension (standard error):   0.001  0.03\\n    radius (worst):                       7.93   36.04\\n    texture (worst):                      12.02  49.54\\n    perimeter (worst):                    50.41  251.2\\n    area (worst):                         185.2  4254.0\\n    smoothness (worst):                   0.071  0.223\\n    compactness (worst):                  0.027  1.058\\n    concavity (worst):                    0.0    1.252\\n    concave points (worst):               0.0    0.291\\n    symmetry (worst):                     0.156  0.664\\n    fractal dimension (worst):            0.055  0.208\\n    ===================================== ====== ======\\n\\n    :Missing Attribute Values: None\\n\\n    :Class Distribution: 212 - Malignant, 357 - Benign\\n\\n    :Creator:  Dr. William H. Wolberg, W. Nick Street, Olvi L. Mangasarian\\n\\n    :Donor: Nick Street\\n\\n    :Date: November, 1995\\n\\nThis is a copy of UCI ML Breast Cancer Wisconsin (Diagnostic) datasets.\\nhttps://goo.gl/U2Uwz2\\n\\nFeatures are computed from a digitized image of a fine needle\\naspirate (FNA) of a breast mass.  They describe\\ncharacteristics of the cell nuclei present in the image.\\n\\nSeparating plane described above was obtained using\\nMultisurface Method-Tree (MSM-T) [K. P. Bennett, \"Decision Tree\\nConstruction Via Linear Programming.\" Proceedings of the 4th\\nMidwest Artificial Intelligence and Cognitive Science Society,\\npp. 97-101, 1992], a classification method which uses linear\\nprogramming to construct a decision tree.  Relevant features\\nwere selected using an exhaustive search in the space of 1-4\\nfeatures and 1-3 separating planes.\\n\\nThe actual linear program used to obtain the separating plane\\nin the 3-dimensional space is that described in:\\n[K. P. Bennett and O. L. Mangasarian: \"Robust Linear\\nProgramming Discrimination of Two Linearly Inseparable Sets\",\\nOptimization Methods and Software 1, 1992, 23-34].\\n\\nThis database is also available through the UW CS ftp server:\\n\\nftp ftp.cs.wisc.edu\\ncd math-prog/cpo-dataset/machine-learn/WDBC/\\n\\n.. topic:: References\\n\\n   - W.N. Street, W.H. Wolberg and O.L. Mangasarian. Nuclear feature extraction \\n     for breast tumor diagnosis. IS&T/SPIE 1993 International Symposium on \\n     Electronic Imaging: Science and Technology, volume 1905, pages 861-870,\\n     San Jose, CA, 1993.\\n   - O.L. Mangasarian, W.N. Street and W.H. Wolberg. Breast cancer diagnosis and \\n     prognosis via linear programming. Operations Research, 43(4), pages 570-577, \\n     July-August 1995.\\n   - W.H. Wolberg, W.N. Street, and O.L. Mangasarian. Machine learning techniques\\n     to diagnose breast cancer from fine-needle aspirates. Cancer Letters 77 (1994) \\n     163-171.'"
      ]
     },
     "execution_count": 4,
     "metadata": {},
     "output_type": "execute_result"
    }
   ],
   "source": [
    "data.DESCR"
   ]
  },
  {
   "cell_type": "code",
   "execution_count": 5,
   "metadata": {},
   "outputs": [
    {
     "data": {
      "text/plain": [
       "dict_keys(['data', 'target', 'target_names', 'DESCR', 'feature_names', 'filename'])"
      ]
     },
     "execution_count": 5,
     "metadata": {},
     "output_type": "execute_result"
    }
   ],
   "source": [
    "data.keys()"
   ]
  },
  {
   "cell_type": "code",
   "execution_count": 6,
   "metadata": {},
   "outputs": [
    {
     "data": {
      "text/plain": [
       "(569, 30)"
      ]
     },
     "execution_count": 6,
     "metadata": {},
     "output_type": "execute_result"
    }
   ],
   "source": [
    "data.data.shape"
   ]
  },
  {
   "cell_type": "code",
   "execution_count": 7,
   "metadata": {},
   "outputs": [
    {
     "data": {
      "text/plain": [
       "array([0, 0, 0, 0, 0, 0, 0, 0, 0, 0, 0, 0, 0, 0, 0, 0, 0, 0, 0, 1, 1, 1,\n",
       "       0, 0, 0, 0, 0, 0, 0, 0, 0, 0, 0, 0, 0, 0, 0, 1, 0, 0, 0, 0, 0, 0,\n",
       "       0, 0, 1, 0, 1, 1, 1, 1, 1, 0, 0, 1, 0, 0, 1, 1, 1, 1, 0, 1, 0, 0,\n",
       "       1, 1, 1, 1, 0, 1, 0, 0, 1, 0, 1, 0, 0, 1, 1, 1, 0, 0, 1, 0, 0, 0,\n",
       "       1, 1, 1, 0, 1, 1, 0, 0, 1, 1, 1, 0, 0, 1, 1, 1, 1, 0, 1, 1, 0, 1,\n",
       "       1, 1, 1, 1, 1, 1, 1, 0, 0, 0, 1, 0, 0, 1, 1, 1, 0, 0, 1, 0, 1, 0,\n",
       "       0, 1, 0, 0, 1, 1, 0, 1, 1, 0, 1, 1, 1, 1, 0, 1, 1, 1, 1, 1, 1, 1,\n",
       "       1, 1, 0, 1, 1, 1, 1, 0, 0, 1, 0, 1, 1, 0, 0, 1, 1, 0, 0, 1, 1, 1,\n",
       "       1, 0, 1, 1, 0, 0, 0, 1, 0, 1, 0, 1, 1, 1, 0, 1, 1, 0, 0, 1, 0, 0,\n",
       "       0, 0, 1, 0, 0, 0, 1, 0, 1, 0, 1, 1, 0, 1, 0, 0, 0, 0, 1, 1, 0, 0,\n",
       "       1, 1, 1, 0, 1, 1, 1, 1, 1, 0, 0, 1, 1, 0, 1, 1, 0, 0, 1, 0, 1, 1,\n",
       "       1, 1, 0, 1, 1, 1, 1, 1, 0, 1, 0, 0, 0, 0, 0, 0, 0, 0, 0, 0, 0, 0,\n",
       "       0, 0, 1, 1, 1, 1, 1, 1, 0, 1, 0, 1, 1, 0, 1, 1, 0, 1, 0, 0, 1, 1,\n",
       "       1, 1, 1, 1, 1, 1, 1, 1, 1, 1, 1, 0, 1, 1, 0, 1, 0, 1, 1, 1, 1, 1,\n",
       "       1, 1, 1, 1, 1, 1, 1, 1, 1, 0, 1, 1, 1, 0, 1, 0, 1, 1, 1, 1, 0, 0,\n",
       "       0, 1, 1, 1, 1, 0, 1, 0, 1, 0, 1, 1, 1, 0, 1, 1, 1, 1, 1, 1, 1, 0,\n",
       "       0, 0, 1, 1, 1, 1, 1, 1, 1, 1, 1, 1, 1, 0, 0, 1, 0, 0, 0, 1, 0, 0,\n",
       "       1, 1, 1, 1, 1, 0, 1, 1, 1, 1, 1, 0, 1, 1, 1, 0, 1, 1, 0, 0, 1, 1,\n",
       "       1, 1, 1, 1, 0, 1, 1, 1, 1, 1, 1, 1, 0, 1, 1, 1, 1, 1, 0, 1, 1, 0,\n",
       "       1, 1, 1, 1, 1, 1, 1, 1, 1, 1, 1, 1, 0, 1, 0, 0, 1, 0, 1, 1, 1, 1,\n",
       "       1, 0, 1, 1, 0, 1, 0, 1, 1, 0, 1, 0, 1, 1, 1, 1, 1, 1, 1, 1, 0, 0,\n",
       "       1, 1, 1, 1, 1, 1, 0, 1, 1, 1, 1, 1, 1, 1, 1, 1, 1, 0, 1, 1, 1, 1,\n",
       "       1, 1, 1, 0, 1, 0, 1, 1, 0, 1, 1, 1, 1, 1, 0, 0, 1, 0, 1, 0, 1, 1,\n",
       "       1, 1, 1, 0, 1, 1, 0, 1, 0, 1, 0, 0, 1, 1, 1, 0, 1, 1, 1, 1, 1, 1,\n",
       "       1, 1, 1, 1, 1, 0, 1, 0, 0, 1, 1, 1, 1, 1, 1, 1, 1, 1, 1, 1, 1, 1,\n",
       "       1, 1, 1, 1, 1, 1, 1, 1, 1, 1, 1, 1, 0, 0, 0, 0, 0, 0, 1])"
      ]
     },
     "execution_count": 7,
     "metadata": {},
     "output_type": "execute_result"
    }
   ],
   "source": [
    "data.target"
   ]
  },
  {
   "cell_type": "code",
   "execution_count": 8,
   "metadata": {},
   "outputs": [
    {
     "data": {
      "text/plain": [
       "array(['malignant', 'benign'], dtype='<U9')"
      ]
     },
     "execution_count": 8,
     "metadata": {},
     "output_type": "execute_result"
    }
   ],
   "source": [
    "data.target_names"
   ]
  },
  {
   "cell_type": "code",
   "execution_count": 9,
   "metadata": {},
   "outputs": [
    {
     "data": {
      "text/plain": [
       "(569,)"
      ]
     },
     "execution_count": 9,
     "metadata": {},
     "output_type": "execute_result"
    }
   ],
   "source": [
    "data.target.shape"
   ]
  },
  {
   "cell_type": "code",
   "execution_count": 10,
   "metadata": {},
   "outputs": [
    {
     "data": {
      "text/plain": [
       "array(['mean radius', 'mean texture', 'mean perimeter', 'mean area',\n",
       "       'mean smoothness', 'mean compactness', 'mean concavity',\n",
       "       'mean concave points', 'mean symmetry', 'mean fractal dimension',\n",
       "       'radius error', 'texture error', 'perimeter error', 'area error',\n",
       "       'smoothness error', 'compactness error', 'concavity error',\n",
       "       'concave points error', 'symmetry error',\n",
       "       'fractal dimension error', 'worst radius', 'worst texture',\n",
       "       'worst perimeter', 'worst area', 'worst smoothness',\n",
       "       'worst compactness', 'worst concavity', 'worst concave points',\n",
       "       'worst symmetry', 'worst fractal dimension'], dtype='<U23')"
      ]
     },
     "execution_count": 10,
     "metadata": {},
     "output_type": "execute_result"
    }
   ],
   "source": [
    "data.feature_names"
   ]
  },
  {
   "cell_type": "code",
   "execution_count": 11,
   "metadata": {},
   "outputs": [],
   "source": [
    "X_train, X_test, y_train, y_test = train_test_split(data.data, data.target, test_size=0.33)\n",
    "N, D = X_train.shape"
   ]
  },
  {
   "cell_type": "code",
   "execution_count": 12,
   "metadata": {},
   "outputs": [],
   "source": [
    "scaler = StandardScaler()\n",
    "X_train = scaler.fit_transform(X_train)\n",
    "X_test = scaler.transform(X_test)"
   ]
  },
  {
   "cell_type": "code",
   "execution_count": 16,
   "metadata": {},
   "outputs": [],
   "source": [
    "model = tf.keras.models.Sequential([\n",
    "    tf.keras.layers.Input(shape=(D,)),\n",
    "    tf.keras.layers.Dense(1, activation='sigmoid')\n",
    "])"
   ]
  },
  {
   "cell_type": "code",
   "execution_count": 17,
   "metadata": {},
   "outputs": [],
   "source": [
    "model.compile(optimizer='adam', loss='binary_crossentropy', metrics=['accuracy'])"
   ]
  },
  {
   "cell_type": "code",
   "execution_count": 18,
   "metadata": {},
   "outputs": [
    {
     "name": "stdout",
     "output_type": "stream",
     "text": [
      "Epoch 1/100\n",
      "12/12 [==============================] - 0s 21ms/step - loss: 0.9747 - accuracy: 0.3071 - val_loss: 0.9104 - val_accuracy: 0.3670\n",
      "Epoch 2/100\n",
      "12/12 [==============================] - 0s 13ms/step - loss: 0.8806 - accuracy: 0.3832 - val_loss: 0.8259 - val_accuracy: 0.4309\n",
      "Epoch 3/100\n",
      "12/12 [==============================] - 0s 13ms/step - loss: 0.7989 - accuracy: 0.4619 - val_loss: 0.7489 - val_accuracy: 0.5106\n",
      "Epoch 4/100\n",
      "12/12 [==============================] - 0s 23ms/step - loss: 0.7261 - accuracy: 0.5328 - val_loss: 0.6822 - val_accuracy: 0.5851\n",
      "Epoch 5/100\n",
      "12/12 [==============================] - 0s 12ms/step - loss: 0.6640 - accuracy: 0.6142 - val_loss: 0.6245 - val_accuracy: 0.6809\n",
      "Epoch 6/100\n",
      "12/12 [==============================] - 0s 12ms/step - loss: 0.6104 - accuracy: 0.6798 - val_loss: 0.5747 - val_accuracy: 0.7447\n",
      "Epoch 7/100\n",
      "12/12 [==============================] - 0s 13ms/step - loss: 0.5652 - accuracy: 0.7270 - val_loss: 0.5308 - val_accuracy: 0.7979\n",
      "Epoch 8/100\n",
      "12/12 [==============================] - 0s 12ms/step - loss: 0.5266 - accuracy: 0.7638 - val_loss: 0.4920 - val_accuracy: 0.8191\n",
      "Epoch 9/100\n",
      "12/12 [==============================] - 0s 14ms/step - loss: 0.4921 - accuracy: 0.7848 - val_loss: 0.4589 - val_accuracy: 0.8511\n",
      "Epoch 10/100\n",
      "12/12 [==============================] - 0s 12ms/step - loss: 0.4627 - accuracy: 0.8136 - val_loss: 0.4300 - val_accuracy: 0.8723\n",
      "Epoch 11/100\n",
      "12/12 [==============================] - 0s 13ms/step - loss: 0.4371 - accuracy: 0.8346 - val_loss: 0.4044 - val_accuracy: 0.8830\n",
      "Epoch 12/100\n",
      "12/12 [==============================] - 0s 12ms/step - loss: 0.4144 - accuracy: 0.8635 - val_loss: 0.3819 - val_accuracy: 0.9043\n",
      "Epoch 13/100\n",
      "12/12 [==============================] - 0s 13ms/step - loss: 0.3945 - accuracy: 0.8740 - val_loss: 0.3620 - val_accuracy: 0.9043\n",
      "Epoch 14/100\n",
      "12/12 [==============================] - 0s 11ms/step - loss: 0.3764 - accuracy: 0.8819 - val_loss: 0.3445 - val_accuracy: 0.9149\n",
      "Epoch 15/100\n",
      "12/12 [==============================] - 0s 13ms/step - loss: 0.3601 - accuracy: 0.8898 - val_loss: 0.3290 - val_accuracy: 0.9202\n",
      "Epoch 16/100\n",
      "12/12 [==============================] - 0s 13ms/step - loss: 0.3455 - accuracy: 0.9055 - val_loss: 0.3149 - val_accuracy: 0.9309\n",
      "Epoch 17/100\n",
      "12/12 [==============================] - 0s 13ms/step - loss: 0.3321 - accuracy: 0.9134 - val_loss: 0.3023 - val_accuracy: 0.9415\n",
      "Epoch 18/100\n",
      "12/12 [==============================] - 0s 12ms/step - loss: 0.3199 - accuracy: 0.9213 - val_loss: 0.2908 - val_accuracy: 0.9415\n",
      "Epoch 19/100\n",
      "12/12 [==============================] - 0s 12ms/step - loss: 0.3088 - accuracy: 0.9213 - val_loss: 0.2802 - val_accuracy: 0.9521\n",
      "Epoch 20/100\n",
      "12/12 [==============================] - 0s 13ms/step - loss: 0.2984 - accuracy: 0.9265 - val_loss: 0.2707 - val_accuracy: 0.9521\n",
      "Epoch 21/100\n",
      "12/12 [==============================] - 0s 13ms/step - loss: 0.2889 - accuracy: 0.9265 - val_loss: 0.2620 - val_accuracy: 0.9521\n",
      "Epoch 22/100\n",
      "12/12 [==============================] - 0s 14ms/step - loss: 0.2801 - accuracy: 0.9318 - val_loss: 0.2539 - val_accuracy: 0.9521\n",
      "Epoch 23/100\n",
      "12/12 [==============================] - 0s 14ms/step - loss: 0.2717 - accuracy: 0.9318 - val_loss: 0.2465 - val_accuracy: 0.9521\n",
      "Epoch 24/100\n",
      "12/12 [==============================] - 0s 13ms/step - loss: 0.2642 - accuracy: 0.9318 - val_loss: 0.2396 - val_accuracy: 0.9521\n",
      "Epoch 25/100\n",
      "12/12 [==============================] - 0s 12ms/step - loss: 0.2570 - accuracy: 0.9318 - val_loss: 0.2332 - val_accuracy: 0.9574\n",
      "Epoch 26/100\n",
      "12/12 [==============================] - 0s 13ms/step - loss: 0.2504 - accuracy: 0.9344 - val_loss: 0.2272 - val_accuracy: 0.9574\n",
      "Epoch 27/100\n",
      "12/12 [==============================] - 0s 12ms/step - loss: 0.2442 - accuracy: 0.9344 - val_loss: 0.2216 - val_accuracy: 0.9574\n",
      "Epoch 28/100\n",
      "12/12 [==============================] - 0s 12ms/step - loss: 0.2382 - accuracy: 0.9344 - val_loss: 0.2163 - val_accuracy: 0.9574\n",
      "Epoch 29/100\n",
      "12/12 [==============================] - 0s 13ms/step - loss: 0.2328 - accuracy: 0.9370 - val_loss: 0.2114 - val_accuracy: 0.9574\n",
      "Epoch 30/100\n",
      "12/12 [==============================] - 0s 12ms/step - loss: 0.2275 - accuracy: 0.9396 - val_loss: 0.2068 - val_accuracy: 0.9574\n",
      "Epoch 31/100\n",
      "12/12 [==============================] - 0s 14ms/step - loss: 0.2226 - accuracy: 0.9396 - val_loss: 0.2025 - val_accuracy: 0.9574\n",
      "Epoch 32/100\n",
      "12/12 [==============================] - 0s 13ms/step - loss: 0.2180 - accuracy: 0.9396 - val_loss: 0.1983 - val_accuracy: 0.9574\n",
      "Epoch 33/100\n",
      "12/12 [==============================] - 0s 13ms/step - loss: 0.2136 - accuracy: 0.9449 - val_loss: 0.1944 - val_accuracy: 0.9574\n",
      "Epoch 34/100\n",
      "12/12 [==============================] - 0s 12ms/step - loss: 0.2096 - accuracy: 0.9475 - val_loss: 0.1907 - val_accuracy: 0.9574\n",
      "Epoch 35/100\n",
      "12/12 [==============================] - 0s 13ms/step - loss: 0.2054 - accuracy: 0.9501 - val_loss: 0.1873 - val_accuracy: 0.9574\n",
      "Epoch 36/100\n",
      "12/12 [==============================] - 0s 14ms/step - loss: 0.2017 - accuracy: 0.9528 - val_loss: 0.1840 - val_accuracy: 0.9574\n",
      "Epoch 37/100\n",
      "12/12 [==============================] - 0s 13ms/step - loss: 0.1982 - accuracy: 0.9528 - val_loss: 0.1808 - val_accuracy: 0.9574\n",
      "Epoch 38/100\n",
      "12/12 [==============================] - 0s 13ms/step - loss: 0.1948 - accuracy: 0.9528 - val_loss: 0.1778 - val_accuracy: 0.9574\n",
      "Epoch 39/100\n",
      "12/12 [==============================] - 0s 12ms/step - loss: 0.1915 - accuracy: 0.9554 - val_loss: 0.1749 - val_accuracy: 0.9574\n",
      "Epoch 40/100\n",
      "12/12 [==============================] - 0s 13ms/step - loss: 0.1883 - accuracy: 0.9606 - val_loss: 0.1722 - val_accuracy: 0.9574\n",
      "Epoch 41/100\n",
      "12/12 [==============================] - 0s 14ms/step - loss: 0.1854 - accuracy: 0.9633 - val_loss: 0.1695 - val_accuracy: 0.9574\n",
      "Epoch 42/100\n",
      "12/12 [==============================] - 0s 13ms/step - loss: 0.1826 - accuracy: 0.9606 - val_loss: 0.1671 - val_accuracy: 0.9574\n",
      "Epoch 43/100\n",
      "12/12 [==============================] - 0s 13ms/step - loss: 0.1798 - accuracy: 0.9606 - val_loss: 0.1647 - val_accuracy: 0.9574\n",
      "Epoch 44/100\n",
      "12/12 [==============================] - 0s 12ms/step - loss: 0.1772 - accuracy: 0.9633 - val_loss: 0.1623 - val_accuracy: 0.9574\n",
      "Epoch 45/100\n",
      "12/12 [==============================] - 0s 13ms/step - loss: 0.1747 - accuracy: 0.9633 - val_loss: 0.1601 - val_accuracy: 0.9628\n",
      "Epoch 46/100\n",
      "12/12 [==============================] - 0s 13ms/step - loss: 0.1723 - accuracy: 0.9633 - val_loss: 0.1580 - val_accuracy: 0.9628\n",
      "Epoch 47/100\n",
      "12/12 [==============================] - 0s 13ms/step - loss: 0.1698 - accuracy: 0.9659 - val_loss: 0.1560 - val_accuracy: 0.9628\n",
      "Epoch 48/100\n",
      "12/12 [==============================] - 0s 13ms/step - loss: 0.1677 - accuracy: 0.9685 - val_loss: 0.1540 - val_accuracy: 0.9628\n",
      "Epoch 49/100\n",
      "12/12 [==============================] - 0s 13ms/step - loss: 0.1655 - accuracy: 0.9685 - val_loss: 0.1522 - val_accuracy: 0.9681\n",
      "Epoch 50/100\n",
      "12/12 [==============================] - 0s 14ms/step - loss: 0.1634 - accuracy: 0.9685 - val_loss: 0.1503 - val_accuracy: 0.9734\n",
      "Epoch 51/100\n",
      "12/12 [==============================] - 0s 13ms/step - loss: 0.1614 - accuracy: 0.9685 - val_loss: 0.1485 - val_accuracy: 0.9734\n",
      "Epoch 52/100\n",
      "12/12 [==============================] - 0s 13ms/step - loss: 0.1595 - accuracy: 0.9685 - val_loss: 0.1468 - val_accuracy: 0.9734\n",
      "Epoch 53/100\n",
      "12/12 [==============================] - 0s 13ms/step - loss: 0.1576 - accuracy: 0.9685 - val_loss: 0.1452 - val_accuracy: 0.9787\n",
      "Epoch 54/100\n",
      "12/12 [==============================] - 0s 13ms/step - loss: 0.1558 - accuracy: 0.9685 - val_loss: 0.1436 - val_accuracy: 0.9787\n",
      "Epoch 55/100\n",
      "12/12 [==============================] - 0s 10ms/step - loss: 0.1540 - accuracy: 0.9685 - val_loss: 0.1421 - val_accuracy: 0.9787\n",
      "Epoch 56/100\n",
      "12/12 [==============================] - 0s 10ms/step - loss: 0.1524 - accuracy: 0.9685 - val_loss: 0.1406 - val_accuracy: 0.9787\n",
      "Epoch 57/100\n",
      "12/12 [==============================] - 0s 10ms/step - loss: 0.1506 - accuracy: 0.9685 - val_loss: 0.1391 - val_accuracy: 0.9787\n",
      "Epoch 58/100\n"
     ]
    },
    {
     "name": "stdout",
     "output_type": "stream",
     "text": [
      "12/12 [==============================] - ETA: 0s - loss: 0.1331 - accuracy: 0.97 - 0s 13ms/step - loss: 0.1491 - accuracy: 0.9685 - val_loss: 0.1377 - val_accuracy: 0.9787\n",
      "Epoch 59/100\n",
      "12/12 [==============================] - 0s 13ms/step - loss: 0.1475 - accuracy: 0.9685 - val_loss: 0.1364 - val_accuracy: 0.9787\n",
      "Epoch 60/100\n",
      "12/12 [==============================] - 0s 14ms/step - loss: 0.1460 - accuracy: 0.9685 - val_loss: 0.1351 - val_accuracy: 0.9787\n",
      "Epoch 61/100\n",
      "12/12 [==============================] - 0s 14ms/step - loss: 0.1446 - accuracy: 0.9685 - val_loss: 0.1338 - val_accuracy: 0.9787\n",
      "Epoch 62/100\n",
      "12/12 [==============================] - 0s 12ms/step - loss: 0.1431 - accuracy: 0.9685 - val_loss: 0.1325 - val_accuracy: 0.9787\n",
      "Epoch 63/100\n",
      "12/12 [==============================] - 0s 13ms/step - loss: 0.1418 - accuracy: 0.9685 - val_loss: 0.1314 - val_accuracy: 0.9787\n",
      "Epoch 64/100\n",
      "12/12 [==============================] - 0s 12ms/step - loss: 0.1404 - accuracy: 0.9685 - val_loss: 0.1302 - val_accuracy: 0.9787\n",
      "Epoch 65/100\n",
      "12/12 [==============================] - 0s 14ms/step - loss: 0.1391 - accuracy: 0.9685 - val_loss: 0.1290 - val_accuracy: 0.9787\n",
      "Epoch 66/100\n",
      "12/12 [==============================] - 0s 12ms/step - loss: 0.1379 - accuracy: 0.9711 - val_loss: 0.1280 - val_accuracy: 0.9787\n",
      "Epoch 67/100\n",
      "12/12 [==============================] - 0s 12ms/step - loss: 0.1366 - accuracy: 0.9711 - val_loss: 0.1269 - val_accuracy: 0.9787\n",
      "Epoch 68/100\n",
      "12/12 [==============================] - 0s 12ms/step - loss: 0.1354 - accuracy: 0.9711 - val_loss: 0.1259 - val_accuracy: 0.9787\n",
      "Epoch 69/100\n",
      "12/12 [==============================] - 0s 17ms/step - loss: 0.1342 - accuracy: 0.9711 - val_loss: 0.1249 - val_accuracy: 0.9787\n",
      "Epoch 70/100\n",
      "12/12 [==============================] - 0s 15ms/step - loss: 0.1331 - accuracy: 0.9711 - val_loss: 0.1239 - val_accuracy: 0.9787\n",
      "Epoch 71/100\n",
      "12/12 [==============================] - 0s 17ms/step - loss: 0.1320 - accuracy: 0.9711 - val_loss: 0.1229 - val_accuracy: 0.9787\n",
      "Epoch 72/100\n",
      "12/12 [==============================] - 0s 15ms/step - loss: 0.1309 - accuracy: 0.9711 - val_loss: 0.1219 - val_accuracy: 0.9787\n",
      "Epoch 73/100\n",
      "12/12 [==============================] - 0s 21ms/step - loss: 0.1298 - accuracy: 0.9711 - val_loss: 0.1211 - val_accuracy: 0.9787\n",
      "Epoch 74/100\n",
      "12/12 [==============================] - 0s 15ms/step - loss: 0.1288 - accuracy: 0.9711 - val_loss: 0.1202 - val_accuracy: 0.9787\n",
      "Epoch 75/100\n",
      "12/12 [==============================] - 0s 13ms/step - loss: 0.1278 - accuracy: 0.9711 - val_loss: 0.1193 - val_accuracy: 0.9787\n",
      "Epoch 76/100\n",
      "12/12 [==============================] - 0s 13ms/step - loss: 0.1268 - accuracy: 0.9738 - val_loss: 0.1184 - val_accuracy: 0.9787\n",
      "Epoch 77/100\n",
      "12/12 [==============================] - 0s 13ms/step - loss: 0.1259 - accuracy: 0.9738 - val_loss: 0.1176 - val_accuracy: 0.9787\n",
      "Epoch 78/100\n",
      "12/12 [==============================] - 0s 12ms/step - loss: 0.1249 - accuracy: 0.9738 - val_loss: 0.1168 - val_accuracy: 0.9787\n",
      "Epoch 79/100\n",
      "12/12 [==============================] - 0s 11ms/step - loss: 0.1240 - accuracy: 0.9764 - val_loss: 0.1160 - val_accuracy: 0.9787\n",
      "Epoch 80/100\n",
      "12/12 [==============================] - 0s 12ms/step - loss: 0.1231 - accuracy: 0.9764 - val_loss: 0.1153 - val_accuracy: 0.9787\n",
      "Epoch 81/100\n",
      "12/12 [==============================] - 0s 11ms/step - loss: 0.1222 - accuracy: 0.9764 - val_loss: 0.1145 - val_accuracy: 0.9787\n",
      "Epoch 82/100\n",
      "12/12 [==============================] - 0s 12ms/step - loss: 0.1214 - accuracy: 0.9764 - val_loss: 0.1137 - val_accuracy: 0.9787\n",
      "Epoch 83/100\n",
      "12/12 [==============================] - 0s 11ms/step - loss: 0.1205 - accuracy: 0.9764 - val_loss: 0.1130 - val_accuracy: 0.9787\n",
      "Epoch 84/100\n",
      "12/12 [==============================] - 0s 11ms/step - loss: 0.1198 - accuracy: 0.9764 - val_loss: 0.1123 - val_accuracy: 0.9787\n",
      "Epoch 85/100\n",
      "12/12 [==============================] - 0s 11ms/step - loss: 0.1189 - accuracy: 0.9790 - val_loss: 0.1116 - val_accuracy: 0.9787\n",
      "Epoch 86/100\n",
      "12/12 [==============================] - 0s 11ms/step - loss: 0.1181 - accuracy: 0.9790 - val_loss: 0.1109 - val_accuracy: 0.9787\n",
      "Epoch 87/100\n",
      "12/12 [==============================] - 0s 12ms/step - loss: 0.1174 - accuracy: 0.9790 - val_loss: 0.1102 - val_accuracy: 0.9787\n",
      "Epoch 88/100\n",
      "12/12 [==============================] - 0s 11ms/step - loss: 0.1166 - accuracy: 0.9790 - val_loss: 0.1097 - val_accuracy: 0.9787\n",
      "Epoch 89/100\n",
      "12/12 [==============================] - 0s 14ms/step - loss: 0.1159 - accuracy: 0.9790 - val_loss: 0.1090 - val_accuracy: 0.9787\n",
      "Epoch 90/100\n",
      "12/12 [==============================] - 0s 16ms/step - loss: 0.1151 - accuracy: 0.9790 - val_loss: 0.1083 - val_accuracy: 0.9787\n",
      "Epoch 91/100\n",
      "12/12 [==============================] - 0s 13ms/step - loss: 0.1144 - accuracy: 0.9790 - val_loss: 0.1078 - val_accuracy: 0.9787\n",
      "Epoch 92/100\n",
      "12/12 [==============================] - 0s 13ms/step - loss: 0.1137 - accuracy: 0.9790 - val_loss: 0.1071 - val_accuracy: 0.9787\n",
      "Epoch 93/100\n",
      "12/12 [==============================] - 0s 18ms/step - loss: 0.1131 - accuracy: 0.9790 - val_loss: 0.1066 - val_accuracy: 0.9787\n",
      "Epoch 94/100\n",
      "12/12 [==============================] - 0s 18ms/step - loss: 0.1124 - accuracy: 0.9790 - val_loss: 0.1060 - val_accuracy: 0.9787\n",
      "Epoch 95/100\n",
      "12/12 [==============================] - 0s 18ms/step - loss: 0.1117 - accuracy: 0.9790 - val_loss: 0.1054 - val_accuracy: 0.9787\n",
      "Epoch 96/100\n",
      "12/12 [==============================] - 0s 18ms/step - loss: 0.1110 - accuracy: 0.9816 - val_loss: 0.1049 - val_accuracy: 0.9787\n",
      "Epoch 97/100\n",
      "12/12 [==============================] - 0s 19ms/step - loss: 0.1104 - accuracy: 0.9816 - val_loss: 0.1043 - val_accuracy: 0.9787\n",
      "Epoch 98/100\n",
      "12/12 [==============================] - 0s 17ms/step - loss: 0.1098 - accuracy: 0.9816 - val_loss: 0.1038 - val_accuracy: 0.9787\n",
      "Epoch 99/100\n",
      "12/12 [==============================] - 0s 13ms/step - loss: 0.1092 - accuracy: 0.9816 - val_loss: 0.1033 - val_accuracy: 0.9787\n",
      "Epoch 100/100\n",
      "12/12 [==============================] - 0s 14ms/step - loss: 0.1086 - accuracy: 0.9816 - val_loss: 0.1028 - val_accuracy: 0.9787\n"
     ]
    }
   ],
   "source": [
    "hist = model.fit(X_train, y_train, validation_data=(X_test, y_test), epochs=100)"
   ]
  },
  {
   "cell_type": "code",
   "execution_count": 19,
   "metadata": {},
   "outputs": [
    {
     "name": "stdout",
     "output_type": "stream",
     "text": [
      "12/12 [==============================] - 0s 3ms/step - loss: 0.1082 - accuracy: 0.9816\n",
      "Train Score :  [0.10821624100208282, 0.9816272854804993]\n",
      "6/6 [==============================] - 0s 4ms/step - loss: 0.1028 - accuracy: 0.9787\n",
      "Test Score :  [0.10278429090976715, 0.978723406791687]\n"
     ]
    }
   ],
   "source": [
    "print(\"Train Score : \", model.evaluate(X_train, y_train))\n",
    "print(\"Test Score : \", model.evaluate(X_test, y_test))"
   ]
  },
  {
   "cell_type": "code",
   "execution_count": 20,
   "metadata": {},
   "outputs": [
    {
     "data": {
      "text/plain": [
       "<matplotlib.legend.Legend at 0x21bf501d2c8>"
      ]
     },
     "execution_count": 20,
     "metadata": {},
     "output_type": "execute_result"
    },
    {
     "data": {
      "image/png": "[encoded data removed]",
      "text/plain": [
       "<Figure size 432x288 with 1 Axes>"
      ]
     },
     "metadata": {
      "needs_background": "light"
     },
     "output_type": "display_data"
    }
   ],
   "source": [
    "plt.plot(hist.history['loss'], label='loss')\n",
    "plt.plot(hist.history['val_loss'], label='val_loss')\n",
    "plt.legend()"
   ]
  },
  {
   "cell_type": "code",
   "execution_count": 21,
   "metadata": {},
   "outputs": [
    {
     "data": {
      "text/plain": [
       "<matplotlib.legend.Legend at 0x21bfe70ec08>"
      ]
     },
     "execution_count": 21,
     "metadata": {},
     "output_type": "execute_result"
    },
    {
     "data": {
      "image/png": "[encoded data removed]",
      "text/plain": [
       "<Figure size 432x288 with 1 Axes>"
      ]
     },
     "metadata": {
      "needs_background": "light"
     },
     "output_type": "display_data"
    }
   ],
   "source": [
    "plt.plot(hist.history['accuracy'], label='accuracy')\n",
    "plt.plot(hist.history['val_accuracy'], label='val_accuracy')\n",
    "plt.legend()"
   ]
  },
  {
   "cell_type": "code",
   "execution_count": 22,
   "metadata": {},
   "outputs": [],
   "source": [
    "Pred = model.predict(X_test)"
   ]
  },
  {
   "cell_type": "code",
   "execution_count": 23,
   "metadata": {},
   "outputs": [
    {
     "data": {
      "text/plain": [
       "array([[9.48705018e-01],\n",
       "       [4.60190833e-01],\n",
       "       [1.56098343e-02],\n",
       "       [9.91811037e-01],\n",
       "       [2.75086135e-01],\n",
       "       [1.64827481e-02],\n",
       "       [3.46653536e-03],\n",
       "       [9.32984471e-01],\n",
       "       [1.58791110e-01],\n",
       "       [1.22343235e-01],\n",
       "       [8.03870559e-01],\n",
       "       [1.96446897e-03],\n",
       "       [4.49934959e-01],\n",
       "       [9.98878777e-01],\n",
       "       [9.95860279e-01],\n",
       "       [9.77536261e-01],\n",
       "       [9.83736575e-01],\n",
       "       [6.93166792e-01],\n",
       "       [3.01041640e-03],\n",
       "       [9.96220171e-01],\n",
       "       [1.10664442e-02],\n",
       "       [7.42992610e-02],\n",
       "       [9.97453868e-01],\n",
       "       [9.94199395e-01],\n",
       "       [5.98426282e-01],\n",
       "       [5.55951009e-03],\n",
       "       [8.75121832e-01],\n",
       "       [9.98444974e-01],\n",
       "       [1.08950278e-02],\n",
       "       [1.11721338e-05],\n",
       "       [8.95087063e-01],\n",
       "       [9.72977161e-01],\n",
       "       [8.22806597e-01],\n",
       "       [9.37951505e-01],\n",
       "       [9.94816840e-01],\n",
       "       [9.93921161e-01],\n",
       "       [7.69206107e-01],\n",
       "       [9.93829668e-01],\n",
       "       [6.13493383e-01],\n",
       "       [8.82626712e-01],\n",
       "       [1.56128015e-02],\n",
       "       [9.89657819e-01],\n",
       "       [9.61218655e-01],\n",
       "       [7.29980886e-01],\n",
       "       [9.81265679e-03],\n",
       "       [3.58663779e-03],\n",
       "       [9.78415549e-01],\n",
       "       [9.25578654e-01],\n",
       "       [9.98821199e-01],\n",
       "       [9.98098314e-01],\n",
       "       [9.97678816e-01],\n",
       "       [9.14246380e-01],\n",
       "       [9.97016668e-01],\n",
       "       [9.90943253e-01],\n",
       "       [9.97568548e-01],\n",
       "       [9.40430939e-01],\n",
       "       [9.55149055e-01],\n",
       "       [1.67962993e-04],\n",
       "       [9.80621517e-01],\n",
       "       [9.79788721e-01],\n",
       "       [9.06868696e-01],\n",
       "       [8.91553313e-02],\n",
       "       [1.60641260e-02],\n",
       "       [9.94631171e-01],\n",
       "       [9.75626469e-01],\n",
       "       [8.56371305e-04],\n",
       "       [9.92643893e-01],\n",
       "       [2.32554283e-02],\n",
       "       [9.82280195e-01],\n",
       "       [9.98897195e-01],\n",
       "       [1.96456257e-02],\n",
       "       [9.63064194e-01],\n",
       "       [3.80363606e-04],\n",
       "       [4.53050658e-02],\n",
       "       [9.93666828e-01],\n",
       "       [1.86683759e-02],\n",
       "       [1.11191764e-01],\n",
       "       [9.95764136e-01],\n",
       "       [1.15502696e-03],\n",
       "       [9.37978089e-01],\n",
       "       [3.28579755e-03],\n",
       "       [9.76578303e-05],\n",
       "       [4.53237444e-02],\n",
       "       [1.32096384e-03],\n",
       "       [9.97260928e-01],\n",
       "       [9.95379567e-01],\n",
       "       [4.84979779e-01],\n",
       "       [8.28783393e-01],\n",
       "       [6.99673183e-05],\n",
       "       [8.43896985e-01],\n",
       "       [1.86446711e-01],\n",
       "       [6.36153162e-01],\n",
       "       [9.91814911e-01],\n",
       "       [3.89623582e-01],\n",
       "       [1.16408646e-01],\n",
       "       [9.20263648e-01],\n",
       "       [1.32025918e-02],\n",
       "       [9.89908814e-01],\n",
       "       [8.20824981e-01],\n",
       "       [9.81196404e-01],\n",
       "       [9.64597285e-01],\n",
       "       [1.13989627e-02],\n",
       "       [7.46446801e-03],\n",
       "       [8.43217254e-01],\n",
       "       [7.93191552e-01],\n",
       "       [9.78292406e-01],\n",
       "       [9.75423753e-01],\n",
       "       [5.74560687e-02],\n",
       "       [4.63318825e-01],\n",
       "       [8.51932228e-01],\n",
       "       [9.39282894e-01],\n",
       "       [3.58433306e-01],\n",
       "       [8.03555310e-01],\n",
       "       [9.98592675e-01],\n",
       "       [6.51037088e-04],\n",
       "       [8.19942415e-01],\n",
       "       [1.68061286e-01],\n",
       "       [2.46413460e-04],\n",
       "       [7.84837723e-01],\n",
       "       [5.32863396e-06],\n",
       "       [3.14692818e-02],\n",
       "       [1.41935527e-01],\n",
       "       [9.97662067e-01],\n",
       "       [3.34683321e-02],\n",
       "       [9.88861501e-01],\n",
       "       [9.97940838e-01],\n",
       "       [3.70699496e-07],\n",
       "       [3.24167721e-02],\n",
       "       [9.73965824e-01],\n",
       "       [8.94016147e-01],\n",
       "       [2.93087971e-04],\n",
       "       [8.93594146e-01],\n",
       "       [9.31697488e-01],\n",
       "       [8.72033000e-01],\n",
       "       [9.71787632e-01],\n",
       "       [9.81524825e-01],\n",
       "       [2.57274896e-01],\n",
       "       [9.90160286e-01],\n",
       "       [7.41590513e-03],\n",
       "       [9.85652924e-01],\n",
       "       [4.07104427e-03],\n",
       "       [8.87471497e-01],\n",
       "       [9.49315786e-01],\n",
       "       [3.93212110e-01],\n",
       "       [4.68431012e-04],\n",
       "       [1.89973470e-02],\n",
       "       [9.97959852e-01],\n",
       "       [2.49702774e-04],\n",
       "       [7.51528278e-05],\n",
       "       [8.64661992e-01],\n",
       "       [6.18543290e-02],\n",
       "       [1.03371359e-01],\n",
       "       [9.38094318e-01],\n",
       "       [9.52988625e-01],\n",
       "       [9.97771263e-01],\n",
       "       [8.87823939e-01],\n",
       "       [9.97624576e-01],\n",
       "       [2.49034434e-04],\n",
       "       [9.45943952e-01],\n",
       "       [9.85227227e-01],\n",
       "       [9.72463787e-01],\n",
       "       [9.38512921e-01],\n",
       "       [9.70020354e-01],\n",
       "       [3.41795355e-01],\n",
       "       [9.77968633e-01],\n",
       "       [1.75753180e-02],\n",
       "       [9.85497713e-01],\n",
       "       [8.85810554e-01],\n",
       "       [1.25958845e-01],\n",
       "       [9.68369365e-01],\n",
       "       [9.97906804e-01],\n",
       "       [3.96455564e-02],\n",
       "       [9.39231277e-01],\n",
       "       [9.24236000e-01],\n",
       "       [9.93816137e-01],\n",
       "       [1.54931204e-05],\n",
       "       [9.98393357e-01],\n",
       "       [9.53736246e-01],\n",
       "       [1.58993471e-02],\n",
       "       [9.91612315e-01],\n",
       "       [3.18884820e-01],\n",
       "       [9.75575984e-01],\n",
       "       [9.10825074e-01],\n",
       "       [2.60111596e-02],\n",
       "       [3.55162993e-02],\n",
       "       [9.26699579e-01],\n",
       "       [6.87108815e-01],\n",
       "       [7.42794387e-03]], dtype=float32)"
      ]
     },
     "execution_count": 23,
     "metadata": {},
     "output_type": "execute_result"
    }
   ],
   "source": [
    "Pred"
   ]
  },
  {
   "cell_type": "code",
   "execution_count": null,
   "metadata": {},
   "outputs": [],
   "source": []
  }
 ],
 "metadata": {
  "kernelspec": {
   "display_name": "Python 3",
   "language": "python",
   "name": "python3"
  },
  "language_info": {
   "codemirror_mode": {
    "name": "ipython",
    "version": 3
   },
   "file_extension": ".py",
   "mimetype": "text/x-python",
   "name": "python",
   "nbconvert_exporter": "python",
   "pygments_lexer": "ipython3",
   "version": "3.7.6"
  }
 },
 "nbformat": 4,
 "nbformat_minor": 4
}
