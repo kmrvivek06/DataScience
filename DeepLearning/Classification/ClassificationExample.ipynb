{
 "cells": [
  {
   "cell_type": "code",
   "execution_count": 1,
   "metadata": {},
   "outputs": [],
   "source": [
    "import tensorflow as tf\n",
    "from sklearn.datasets import load_breast_cancer\n",
    "from sklearn.model_selection import train_test_split\n",
    "from sklearn.preprocessing import StandardScaler\n",
    "import matplotlib.pyplot as plt"
   ]
  },
  {
   "cell_type": "code",
   "execution_count": 2,
   "metadata": {},
   "outputs": [],
   "source": [
    "data = load_breast_cancer()"
   ]
  },
  {
   "cell_type": "code",
   "execution_count": 3,
   "metadata": {},
   "outputs": [
    {
     "data": {
      "text/plain": [
       "sklearn.utils.Bunch"
      ]
     },
     "execution_count": 3,
     "metadata": {},
     "output_type": "execute_result"
    }
   ],
   "source": [
    "type(data)"
   ]
  },
  {
   "cell_type": "code",
   "execution_count": 4,
   "metadata": {},
   "outputs": [
    {
     "data": {
      "text/plain": [
       "'.. _breast_cancer_dataset:\\n\\nBreast cancer wisconsin (diagnostic) dataset\\n--------------------------------------------\\n\\n**Data Set Characteristics:**\\n\\n    :Number of Instances: 569\\n\\n    :Number of Attributes: 30 numeric, predictive attributes and the class\\n\\n    :Attribute Information:\\n        - radius (mean of distances from center to points on the perimeter)\\n        - texture (standard deviation of gray-scale values)\\n        - perimeter\\n        - area\\n        - smoothness (local variation in radius lengths)\\n        - compactness (perimeter^2 / area - 1.0)\\n        - concavity (severity of concave portions of the contour)\\n        - concave points (number of concave portions of the contour)\\n        - symmetry \\n        - fractal dimension (\"coastline approximation\" - 1)\\n\\n        The mean, standard error, and \"worst\" or largest (mean of the three\\n        largest values) of these features were computed for each image,\\n        resulting in 30 features.  For instance, field 3 is Mean Radius, field\\n        13 is Radius SE, field 23 is Worst Radius.\\n\\n        - class:\\n                - WDBC-Malignant\\n                - WDBC-Benign\\n\\n    :Summary Statistics:\\n\\n    ===================================== ====== ======\\n                                           Min    Max\\n    ===================================== ====== ======\\n    radius (mean):                        6.981  28.11\\n    texture (mean):                       9.71   39.28\\n    perimeter (mean):                     43.79  188.5\\n    area (mean):                          143.5  2501.0\\n    smoothness (mean):                    0.053  0.163\\n    compactness (mean):                   0.019  0.345\\n    concavity (mean):                     0.0    0.427\\n    concave points (mean):                0.0    0.201\\n    symmetry (mean):                      0.106  0.304\\n    fractal dimension (mean):             0.05   0.097\\n    radius (standard error):              0.112  2.873\\n    texture (standard error):             0.36   4.885\\n    perimeter (standard error):           0.757  21.98\\n    area (standard error):                6.802  542.2\\n    smoothness (standard error):          0.002  0.031\\n    compactness (standard error):         0.002  0.135\\n    concavity (standard error):           0.0    0.396\\n    concave points (standard error):      0.0    0.053\\n    symmetry (standard error):            0.008  0.079\\n    fractal dimension (standard error):   0.001  0.03\\n    radius (worst):                       7.93   36.04\\n    texture (worst):                      12.02  49.54\\n    perimeter (worst):                    50.41  251.2\\n    area (worst):                         185.2  4254.0\\n    smoothness (worst):                   0.071  0.223\\n    compactness (worst):                  0.027  1.058\\n    concavity (worst):                    0.0    1.252\\n    concave points (worst):               0.0    0.291\\n    symmetry (worst):                     0.156  0.664\\n    fractal dimension (worst):            0.055  0.208\\n    ===================================== ====== ======\\n\\n    :Missing Attribute Values: None\\n\\n    :Class Distribution: 212 - Malignant, 357 - Benign\\n\\n    :Creator:  Dr. William H. Wolberg, W. Nick Street, Olvi L. Mangasarian\\n\\n    :Donor: Nick Street\\n\\n    :Date: November, 1995\\n\\nThis is a copy of UCI ML Breast Cancer Wisconsin (Diagnostic) datasets.\\nhttps://goo.gl/U2Uwz2\\n\\nFeatures are computed from a digitized image of a fine needle\\naspirate (FNA) of a breast mass.  They describe\\ncharacteristics of the cell nuclei present in the image.\\n\\nSeparating plane described above was obtained using\\nMultisurface Method-Tree (MSM-T) [K. P. Bennett, \"Decision Tree\\nConstruction Via Linear Programming.\" Proceedings of the 4th\\nMidwest Artificial Intelligence and Cognitive Science Society,\\npp. 97-101, 1992], a classification method which uses linear\\nprogramming to construct a decision tree.  Relevant features\\nwere selected using an exhaustive search in the space of 1-4\\nfeatures and 1-3 separating planes.\\n\\nThe actual linear program used to obtain the separating plane\\nin the 3-dimensional space is that described in:\\n[K. P. Bennett and O. L. Mangasarian: \"Robust Linear\\nProgramming Discrimination of Two Linearly Inseparable Sets\",\\nOptimization Methods and Software 1, 1992, 23-34].\\n\\nThis database is also available through the UW CS ftp server:\\n\\nftp ftp.cs.wisc.edu\\ncd math-prog/cpo-dataset/machine-learn/WDBC/\\n\\n.. topic:: References\\n\\n   - W.N. Street, W.H. Wolberg and O.L. Mangasarian. Nuclear feature extraction \\n     for breast tumor diagnosis. IS&T/SPIE 1993 International Symposium on \\n     Electronic Imaging: Science and Technology, volume 1905, pages 861-870,\\n     San Jose, CA, 1993.\\n   - O.L. Mangasarian, W.N. Street and W.H. Wolberg. Breast cancer diagnosis and \\n     prognosis via linear programming. Operations Research, 43(4), pages 570-577, \\n     July-August 1995.\\n   - W.H. Wolberg, W.N. Street, and O.L. Mangasarian. Machine learning techniques\\n     to diagnose breast cancer from fine-needle aspirates. Cancer Letters 77 (1994) \\n     163-171.'"
      ]
     },
     "execution_count": 4,
     "metadata": {},
     "output_type": "execute_result"
    }
   ],
   "source": [
    "data.DESCR"
   ]
  },
  {
   "cell_type": "code",
   "execution_count": 5,
   "metadata": {},
   "outputs": [
    {
     "data": {
      "text/plain": [
       "dict_keys(['data', 'target', 'target_names', 'DESCR', 'feature_names', 'filename'])"
      ]
     },
     "execution_count": 5,
     "metadata": {},
     "output_type": "execute_result"
    }
   ],
   "source": [
    "data.keys()"
   ]
  },
  {
   "cell_type": "code",
   "execution_count": 6,
   "metadata": {},
   "outputs": [
    {
     "data": {
      "text/plain": [
       "(569, 30)"
      ]
     },
     "execution_count": 6,
     "metadata": {},
     "output_type": "execute_result"
    }
   ],
   "source": [
    "data.data.shape"
   ]
  },
  {
   "cell_type": "code",
   "execution_count": 7,
   "metadata": {},
   "outputs": [
    {
     "data": {
      "text/plain": [
       "array([0, 0, 0, 0, 0, 0, 0, 0, 0, 0, 0, 0, 0, 0, 0, 0, 0, 0, 0, 1, 1, 1,\n",
       "       0, 0, 0, 0, 0, 0, 0, 0, 0, 0, 0, 0, 0, 0, 0, 1, 0, 0, 0, 0, 0, 0,\n",
       "       0, 0, 1, 0, 1, 1, 1, 1, 1, 0, 0, 1, 0, 0, 1, 1, 1, 1, 0, 1, 0, 0,\n",
       "       1, 1, 1, 1, 0, 1, 0, 0, 1, 0, 1, 0, 0, 1, 1, 1, 0, 0, 1, 0, 0, 0,\n",
       "       1, 1, 1, 0, 1, 1, 0, 0, 1, 1, 1, 0, 0, 1, 1, 1, 1, 0, 1, 1, 0, 1,\n",
       "       1, 1, 1, 1, 1, 1, 1, 0, 0, 0, 1, 0, 0, 1, 1, 1, 0, 0, 1, 0, 1, 0,\n",
       "       0, 1, 0, 0, 1, 1, 0, 1, 1, 0, 1, 1, 1, 1, 0, 1, 1, 1, 1, 1, 1, 1,\n",
       "       1, 1, 0, 1, 1, 1, 1, 0, 0, 1, 0, 1, 1, 0, 0, 1, 1, 0, 0, 1, 1, 1,\n",
       "       1, 0, 1, 1, 0, 0, 0, 1, 0, 1, 0, 1, 1, 1, 0, 1, 1, 0, 0, 1, 0, 0,\n",
       "       0, 0, 1, 0, 0, 0, 1, 0, 1, 0, 1, 1, 0, 1, 0, 0, 0, 0, 1, 1, 0, 0,\n",
       "       1, 1, 1, 0, 1, 1, 1, 1, 1, 0, 0, 1, 1, 0, 1, 1, 0, 0, 1, 0, 1, 1,\n",
       "       1, 1, 0, 1, 1, 1, 1, 1, 0, 1, 0, 0, 0, 0, 0, 0, 0, 0, 0, 0, 0, 0,\n",
       "       0, 0, 1, 1, 1, 1, 1, 1, 0, 1, 0, 1, 1, 0, 1, 1, 0, 1, 0, 0, 1, 1,\n",
       "       1, 1, 1, 1, 1, 1, 1, 1, 1, 1, 1, 0, 1, 1, 0, 1, 0, 1, 1, 1, 1, 1,\n",
       "       1, 1, 1, 1, 1, 1, 1, 1, 1, 0, 1, 1, 1, 0, 1, 0, 1, 1, 1, 1, 0, 0,\n",
       "       0, 1, 1, 1, 1, 0, 1, 0, 1, 0, 1, 1, 1, 0, 1, 1, 1, 1, 1, 1, 1, 0,\n",
       "       0, 0, 1, 1, 1, 1, 1, 1, 1, 1, 1, 1, 1, 0, 0, 1, 0, 0, 0, 1, 0, 0,\n",
       "       1, 1, 1, 1, 1, 0, 1, 1, 1, 1, 1, 0, 1, 1, 1, 0, 1, 1, 0, 0, 1, 1,\n",
       "       1, 1, 1, 1, 0, 1, 1, 1, 1, 1, 1, 1, 0, 1, 1, 1, 1, 1, 0, 1, 1, 0,\n",
       "       1, 1, 1, 1, 1, 1, 1, 1, 1, 1, 1, 1, 0, 1, 0, 0, 1, 0, 1, 1, 1, 1,\n",
       "       1, 0, 1, 1, 0, 1, 0, 1, 1, 0, 1, 0, 1, 1, 1, 1, 1, 1, 1, 1, 0, 0,\n",
       "       1, 1, 1, 1, 1, 1, 0, 1, 1, 1, 1, 1, 1, 1, 1, 1, 1, 0, 1, 1, 1, 1,\n",
       "       1, 1, 1, 0, 1, 0, 1, 1, 0, 1, 1, 1, 1, 1, 0, 0, 1, 0, 1, 0, 1, 1,\n",
       "       1, 1, 1, 0, 1, 1, 0, 1, 0, 1, 0, 0, 1, 1, 1, 0, 1, 1, 1, 1, 1, 1,\n",
       "       1, 1, 1, 1, 1, 0, 1, 0, 0, 1, 1, 1, 1, 1, 1, 1, 1, 1, 1, 1, 1, 1,\n",
       "       1, 1, 1, 1, 1, 1, 1, 1, 1, 1, 1, 1, 0, 0, 0, 0, 0, 0, 1])"
      ]
     },
     "execution_count": 7,
     "metadata": {},
     "output_type": "execute_result"
    }
   ],
   "source": [
    "data.target"
   ]
  },
  {
   "cell_type": "code",
   "execution_count": 8,
   "metadata": {},
   "outputs": [
    {
     "data": {
      "text/plain": [
       "array(['malignant', 'benign'], dtype='<U9')"
      ]
     },
     "execution_count": 8,
     "metadata": {},
     "output_type": "execute_result"
    }
   ],
   "source": [
    "data.target_names"
   ]
  },
  {
   "cell_type": "code",
   "execution_count": 9,
   "metadata": {},
   "outputs": [
    {
     "data": {
      "text/plain": [
       "(569,)"
      ]
     },
     "execution_count": 9,
     "metadata": {},
     "output_type": "execute_result"
    }
   ],
   "source": [
    "data.target.shape"
   ]
  },
  {
   "cell_type": "code",
   "execution_count": 10,
   "metadata": {},
   "outputs": [
    {
     "data": {
      "text/plain": [
       "array(['mean radius', 'mean texture', 'mean perimeter', 'mean area',\n",
       "       'mean smoothness', 'mean compactness', 'mean concavity',\n",
       "       'mean concave points', 'mean symmetry', 'mean fractal dimension',\n",
       "       'radius error', 'texture error', 'perimeter error', 'area error',\n",
       "       'smoothness error', 'compactness error', 'concavity error',\n",
       "       'concave points error', 'symmetry error',\n",
       "       'fractal dimension error', 'worst radius', 'worst texture',\n",
       "       'worst perimeter', 'worst area', 'worst smoothness',\n",
       "       'worst compactness', 'worst concavity', 'worst concave points',\n",
       "       'worst symmetry', 'worst fractal dimension'], dtype='<U23')"
      ]
     },
     "execution_count": 10,
     "metadata": {},
     "output_type": "execute_result"
    }
   ],
   "source": [
    "data.feature_names"
   ]
  },
  {
   "cell_type": "code",
   "execution_count": 11,
   "metadata": {},
   "outputs": [],
   "source": [
    "X_train, X_test, y_train, y_test = train_test_split(data.data, data.target, test_size=0.33)\n",
    "N, D = X_train.shape"
   ]
  },
  {
   "cell_type": "code",
   "execution_count": 12,
   "metadata": {},
   "outputs": [],
   "source": [
    "scaler = StandardScaler()\n",
    "X_train = scaler.fit_transform(X_train)\n",
    "X_test = scaler.transform(X_test)"
   ]
  },
  {
   "cell_type": "code",
   "execution_count": 32,
   "metadata": {},
   "outputs": [],
   "source": [
    "model = tf.keras.models.Sequential([\n",
    "    tf.keras.layers.Input(shape=(D,)),\n",
    "    tf.keras.layers.Dense(2, activation='sigmoid')\n",
    "])"
   ]
  },
  {
   "cell_type": "code",
   "execution_count": 38,
   "metadata": {},
   "outputs": [],
   "source": [
    "model.compile(optimizer='adam', loss='sparse_categorical_crossentropy', metrics=['accuracy'])"
   ]
  },
  {
   "cell_type": "code",
   "execution_count": 39,
   "metadata": {},
   "outputs": [
    {
     "name": "stdout",
     "output_type": "stream",
     "text": [
      "Epoch 1/100\n",
      "12/12 [==============================] - 0s 24ms/step - loss: 0.7544 - accuracy: 0.4383 - val_loss: 0.7575 - val_accuracy: 0.4415\n",
      "Epoch 2/100\n",
      "12/12 [==============================] - 0s 11ms/step - loss: 0.6777 - accuracy: 0.5774 - val_loss: 0.6871 - val_accuracy: 0.5851\n",
      "Epoch 3/100\n",
      "12/12 [==============================] - 0s 11ms/step - loss: 0.6147 - accuracy: 0.6850 - val_loss: 0.6251 - val_accuracy: 0.6915\n",
      "Epoch 4/100\n",
      "12/12 [==============================] - 0s 11ms/step - loss: 0.5615 - accuracy: 0.7664 - val_loss: 0.5726 - val_accuracy: 0.7660\n",
      "Epoch 5/100\n",
      "12/12 [==============================] - 0s 11ms/step - loss: 0.5163 - accuracy: 0.8110 - val_loss: 0.5291 - val_accuracy: 0.8032\n",
      "Epoch 6/100\n",
      "12/12 [==============================] - 0s 11ms/step - loss: 0.4790 - accuracy: 0.8478 - val_loss: 0.4917 - val_accuracy: 0.8404\n",
      "Epoch 7/100\n",
      "12/12 [==============================] - 0s 11ms/step - loss: 0.4470 - accuracy: 0.8845 - val_loss: 0.4595 - val_accuracy: 0.8617\n",
      "Epoch 8/100\n",
      "12/12 [==============================] - 0s 11ms/step - loss: 0.4196 - accuracy: 0.9029 - val_loss: 0.4307 - val_accuracy: 0.8830\n",
      "Epoch 9/100\n",
      "12/12 [==============================] - 0s 11ms/step - loss: 0.3947 - accuracy: 0.9108 - val_loss: 0.4053 - val_accuracy: 0.8936\n",
      "Epoch 10/100\n",
      "12/12 [==============================] - 0s 11ms/step - loss: 0.3726 - accuracy: 0.9239 - val_loss: 0.3824 - val_accuracy: 0.8936\n",
      "Epoch 11/100\n",
      "12/12 [==============================] - 0s 11ms/step - loss: 0.3522 - accuracy: 0.9239 - val_loss: 0.3623 - val_accuracy: 0.8989\n",
      "Epoch 12/100\n",
      "12/12 [==============================] - 0s 11ms/step - loss: 0.3342 - accuracy: 0.9344 - val_loss: 0.3440 - val_accuracy: 0.9043\n",
      "Epoch 13/100\n",
      "12/12 [==============================] - 0s 11ms/step - loss: 0.3178 - accuracy: 0.9396 - val_loss: 0.3274 - val_accuracy: 0.9043\n",
      "Epoch 14/100\n",
      "12/12 [==============================] - 0s 11ms/step - loss: 0.3028 - accuracy: 0.9423 - val_loss: 0.3127 - val_accuracy: 0.9096\n",
      "Epoch 15/100\n",
      "12/12 [==============================] - 0s 11ms/step - loss: 0.2897 - accuracy: 0.9423 - val_loss: 0.2992 - val_accuracy: 0.9096\n",
      "Epoch 16/100\n",
      "12/12 [==============================] - 0s 11ms/step - loss: 0.2777 - accuracy: 0.9423 - val_loss: 0.2869 - val_accuracy: 0.9149\n",
      "Epoch 17/100\n",
      "12/12 [==============================] - 0s 17ms/step - loss: 0.2667 - accuracy: 0.9449 - val_loss: 0.2762 - val_accuracy: 0.9202\n",
      "Epoch 18/100\n",
      "12/12 [==============================] - 0s 16ms/step - loss: 0.2568 - accuracy: 0.9475 - val_loss: 0.2664 - val_accuracy: 0.9202\n",
      "Epoch 19/100\n",
      "12/12 [==============================] - 0s 16ms/step - loss: 0.2480 - accuracy: 0.9475 - val_loss: 0.2572 - val_accuracy: 0.9202\n",
      "Epoch 20/100\n",
      "12/12 [==============================] - 0s 12ms/step - loss: 0.2398 - accuracy: 0.9501 - val_loss: 0.2489 - val_accuracy: 0.9202\n",
      "Epoch 21/100\n",
      "12/12 [==============================] - 0s 13ms/step - loss: 0.2320 - accuracy: 0.9501 - val_loss: 0.2414 - val_accuracy: 0.9309\n",
      "Epoch 22/100\n",
      "12/12 [==============================] - 0s 12ms/step - loss: 0.2251 - accuracy: 0.9501 - val_loss: 0.2345 - val_accuracy: 0.9309\n",
      "Epoch 23/100\n",
      "12/12 [==============================] - 0s 12ms/step - loss: 0.2187 - accuracy: 0.9501 - val_loss: 0.2278 - val_accuracy: 0.9309\n",
      "Epoch 24/100\n",
      "12/12 [==============================] - 0s 12ms/step - loss: 0.2127 - accuracy: 0.9501 - val_loss: 0.2216 - val_accuracy: 0.9362\n",
      "Epoch 25/100\n",
      "12/12 [==============================] - 0s 12ms/step - loss: 0.2070 - accuracy: 0.9501 - val_loss: 0.2160 - val_accuracy: 0.9362\n",
      "Epoch 26/100\n",
      "12/12 [==============================] - 0s 12ms/step - loss: 0.2018 - accuracy: 0.9501 - val_loss: 0.2109 - val_accuracy: 0.9362\n",
      "Epoch 27/100\n",
      "12/12 [==============================] - 0s 12ms/step - loss: 0.1968 - accuracy: 0.9528 - val_loss: 0.2059 - val_accuracy: 0.9415\n",
      "Epoch 28/100\n",
      "12/12 [==============================] - 0s 12ms/step - loss: 0.1922 - accuracy: 0.9554 - val_loss: 0.2012 - val_accuracy: 0.9415\n",
      "Epoch 29/100\n",
      "12/12 [==============================] - 0s 13ms/step - loss: 0.1878 - accuracy: 0.9554 - val_loss: 0.1969 - val_accuracy: 0.9468\n",
      "Epoch 30/100\n",
      "12/12 [==============================] - 0s 12ms/step - loss: 0.1836 - accuracy: 0.9554 - val_loss: 0.1928 - val_accuracy: 0.9468\n",
      "Epoch 31/100\n",
      "12/12 [==============================] - 0s 12ms/step - loss: 0.1798 - accuracy: 0.9554 - val_loss: 0.1889 - val_accuracy: 0.9468\n",
      "Epoch 32/100\n",
      "12/12 [==============================] - 0s 12ms/step - loss: 0.1760 - accuracy: 0.9554 - val_loss: 0.1852 - val_accuracy: 0.9468\n",
      "Epoch 33/100\n",
      "12/12 [==============================] - 0s 12ms/step - loss: 0.1725 - accuracy: 0.9554 - val_loss: 0.1818 - val_accuracy: 0.9468\n",
      "Epoch 34/100\n",
      "12/12 [==============================] - 0s 12ms/step - loss: 0.1692 - accuracy: 0.9606 - val_loss: 0.1784 - val_accuracy: 0.9468\n",
      "Epoch 35/100\n",
      "12/12 [==============================] - 0s 12ms/step - loss: 0.1661 - accuracy: 0.9606 - val_loss: 0.1753 - val_accuracy: 0.9468\n",
      "Epoch 36/100\n",
      "12/12 [==============================] - 0s 12ms/step - loss: 0.1630 - accuracy: 0.9606 - val_loss: 0.1723 - val_accuracy: 0.9468\n",
      "Epoch 37/100\n",
      "12/12 [==============================] - 0s 12ms/step - loss: 0.1602 - accuracy: 0.9633 - val_loss: 0.1695 - val_accuracy: 0.9521\n",
      "Epoch 38/100\n",
      "12/12 [==============================] - 0s 12ms/step - loss: 0.1573 - accuracy: 0.9633 - val_loss: 0.1668 - val_accuracy: 0.9521\n",
      "Epoch 39/100\n",
      "12/12 [==============================] - 0s 12ms/step - loss: 0.1548 - accuracy: 0.9633 - val_loss: 0.1641 - val_accuracy: 0.9521\n",
      "Epoch 40/100\n",
      "12/12 [==============================] - 0s 12ms/step - loss: 0.1522 - accuracy: 0.9633 - val_loss: 0.1617 - val_accuracy: 0.9521\n",
      "Epoch 41/100\n",
      "12/12 [==============================] - 0s 31ms/step - loss: 0.1498 - accuracy: 0.9633 - val_loss: 0.1593 - val_accuracy: 0.9468\n",
      "Epoch 42/100\n",
      "12/12 [==============================] - 0s 18ms/step - loss: 0.1475 - accuracy: 0.9633 - val_loss: 0.1571 - val_accuracy: 0.9468\n",
      "Epoch 43/100\n",
      "12/12 [==============================] - 0s 18ms/step - loss: 0.1453 - accuracy: 0.9633 - val_loss: 0.1549 - val_accuracy: 0.9468\n",
      "Epoch 44/100\n",
      "12/12 [==============================] - 0s 16ms/step - loss: 0.1433 - accuracy: 0.9633 - val_loss: 0.1528 - val_accuracy: 0.9521\n",
      "Epoch 45/100\n",
      "12/12 [==============================] - 0s 13ms/step - loss: 0.1413 - accuracy: 0.9633 - val_loss: 0.1508 - val_accuracy: 0.9574\n",
      "Epoch 46/100\n",
      "12/12 [==============================] - 0s 13ms/step - loss: 0.1392 - accuracy: 0.9633 - val_loss: 0.1488 - val_accuracy: 0.9574\n",
      "Epoch 47/100\n",
      "12/12 [==============================] - 0s 13ms/step - loss: 0.1373 - accuracy: 0.9633 - val_loss: 0.1469 - val_accuracy: 0.9574\n",
      "Epoch 48/100\n",
      "12/12 [==============================] - 0s 13ms/step - loss: 0.1355 - accuracy: 0.9633 - val_loss: 0.1451 - val_accuracy: 0.9574\n",
      "Epoch 49/100\n",
      "12/12 [==============================] - 0s 12ms/step - loss: 0.1337 - accuracy: 0.9633 - val_loss: 0.1434 - val_accuracy: 0.9574\n",
      "Epoch 50/100\n",
      "12/12 [==============================] - 0s 18ms/step - loss: 0.1320 - accuracy: 0.9659 - val_loss: 0.1417 - val_accuracy: 0.9574\n",
      "Epoch 51/100\n",
      "12/12 [==============================] - 0s 20ms/step - loss: 0.1303 - accuracy: 0.9659 - val_loss: 0.1401 - val_accuracy: 0.9574\n",
      "Epoch 52/100\n",
      "12/12 [==============================] - 0s 18ms/step - loss: 0.1289 - accuracy: 0.9685 - val_loss: 0.1385 - val_accuracy: 0.9574\n",
      "Epoch 53/100\n",
      "12/12 [==============================] - 0s 18ms/step - loss: 0.1273 - accuracy: 0.9738 - val_loss: 0.1369 - val_accuracy: 0.9574\n",
      "Epoch 54/100\n",
      "12/12 [==============================] - 0s 17ms/step - loss: 0.1258 - accuracy: 0.9738 - val_loss: 0.1354 - val_accuracy: 0.9574\n",
      "Epoch 55/100\n",
      "12/12 [==============================] - 0s 17ms/step - loss: 0.1243 - accuracy: 0.9738 - val_loss: 0.1340 - val_accuracy: 0.9574\n",
      "Epoch 56/100\n",
      "12/12 [==============================] - 0s 17ms/step - loss: 0.1229 - accuracy: 0.9764 - val_loss: 0.1327 - val_accuracy: 0.9574\n",
      "Epoch 57/100\n",
      "12/12 [==============================] - 0s 16ms/step - loss: 0.1216 - accuracy: 0.9764 - val_loss: 0.1313 - val_accuracy: 0.9574\n",
      "Epoch 58/100\n"
     ]
    },
    {
     "name": "stdout",
     "output_type": "stream",
     "text": [
      "12/12 [==============================] - 0s 11ms/step - loss: 0.1203 - accuracy: 0.9764 - val_loss: 0.1300 - val_accuracy: 0.9574\n",
      "Epoch 59/100\n",
      "12/12 [==============================] - 0s 12ms/step - loss: 0.1190 - accuracy: 0.9764 - val_loss: 0.1286 - val_accuracy: 0.9574\n",
      "Epoch 60/100\n",
      "12/12 [==============================] - 0s 11ms/step - loss: 0.1177 - accuracy: 0.9764 - val_loss: 0.1274 - val_accuracy: 0.9574\n",
      "Epoch 61/100\n",
      "12/12 [==============================] - 0s 11ms/step - loss: 0.1165 - accuracy: 0.9764 - val_loss: 0.1262 - val_accuracy: 0.9574\n",
      "Epoch 62/100\n",
      "12/12 [==============================] - 0s 11ms/step - loss: 0.1152 - accuracy: 0.9764 - val_loss: 0.1250 - val_accuracy: 0.9574\n",
      "Epoch 63/100\n",
      "12/12 [==============================] - 0s 12ms/step - loss: 0.1141 - accuracy: 0.9764 - val_loss: 0.1239 - val_accuracy: 0.9574\n",
      "Epoch 64/100\n",
      "12/12 [==============================] - 0s 12ms/step - loss: 0.1130 - accuracy: 0.9764 - val_loss: 0.1227 - val_accuracy: 0.9574\n",
      "Epoch 65/100\n",
      "12/12 [==============================] - 0s 12ms/step - loss: 0.1119 - accuracy: 0.9764 - val_loss: 0.1216 - val_accuracy: 0.9574\n",
      "Epoch 66/100\n",
      "12/12 [==============================] - 0s 11ms/step - loss: 0.1108 - accuracy: 0.9764 - val_loss: 0.1205 - val_accuracy: 0.9574\n",
      "Epoch 67/100\n",
      "12/12 [==============================] - 0s 11ms/step - loss: 0.1097 - accuracy: 0.9764 - val_loss: 0.1194 - val_accuracy: 0.9574\n",
      "Epoch 68/100\n",
      "12/12 [==============================] - 0s 12ms/step - loss: 0.1087 - accuracy: 0.9764 - val_loss: 0.1184 - val_accuracy: 0.9628\n",
      "Epoch 69/100\n",
      "12/12 [==============================] - 0s 11ms/step - loss: 0.1076 - accuracy: 0.9764 - val_loss: 0.1174 - val_accuracy: 0.9628\n",
      "Epoch 70/100\n",
      "12/12 [==============================] - 0s 11ms/step - loss: 0.1067 - accuracy: 0.9764 - val_loss: 0.1163 - val_accuracy: 0.9628\n",
      "Epoch 71/100\n",
      "12/12 [==============================] - 0s 11ms/step - loss: 0.1056 - accuracy: 0.9764 - val_loss: 0.1154 - val_accuracy: 0.9628\n",
      "Epoch 72/100\n",
      "12/12 [==============================] - 0s 11ms/step - loss: 0.1048 - accuracy: 0.9764 - val_loss: 0.1143 - val_accuracy: 0.9681\n",
      "Epoch 73/100\n",
      "12/12 [==============================] - 0s 11ms/step - loss: 0.1037 - accuracy: 0.9764 - val_loss: 0.1135 - val_accuracy: 0.9681\n",
      "Epoch 74/100\n",
      "12/12 [==============================] - 0s 11ms/step - loss: 0.1029 - accuracy: 0.9764 - val_loss: 0.1126 - val_accuracy: 0.9681\n",
      "Epoch 75/100\n",
      "12/12 [==============================] - 0s 11ms/step - loss: 0.1020 - accuracy: 0.9764 - val_loss: 0.1116 - val_accuracy: 0.9681\n",
      "Epoch 76/100\n",
      "12/12 [==============================] - 0s 11ms/step - loss: 0.1011 - accuracy: 0.9738 - val_loss: 0.1108 - val_accuracy: 0.9681\n",
      "Epoch 77/100\n",
      "12/12 [==============================] - 0s 12ms/step - loss: 0.1003 - accuracy: 0.9764 - val_loss: 0.1099 - val_accuracy: 0.9681\n",
      "Epoch 78/100\n",
      "12/12 [==============================] - 0s 12ms/step - loss: 0.0994 - accuracy: 0.9764 - val_loss: 0.1091 - val_accuracy: 0.9681\n",
      "Epoch 79/100\n",
      "12/12 [==============================] - 0s 19ms/step - loss: 0.0986 - accuracy: 0.9764 - val_loss: 0.1083 - val_accuracy: 0.9734\n",
      "Epoch 80/100\n",
      "12/12 [==============================] - 0s 16ms/step - loss: 0.0979 - accuracy: 0.9816 - val_loss: 0.1075 - val_accuracy: 0.9734\n",
      "Epoch 81/100\n",
      "12/12 [==============================] - 0s 12ms/step - loss: 0.0971 - accuracy: 0.9843 - val_loss: 0.1067 - val_accuracy: 0.9734\n",
      "Epoch 82/100\n",
      "12/12 [==============================] - 0s 12ms/step - loss: 0.0964 - accuracy: 0.9843 - val_loss: 0.1059 - val_accuracy: 0.9734\n",
      "Epoch 83/100\n",
      "12/12 [==============================] - 0s 12ms/step - loss: 0.0956 - accuracy: 0.9843 - val_loss: 0.1052 - val_accuracy: 0.9734\n",
      "Epoch 84/100\n",
      "12/12 [==============================] - 0s 13ms/step - loss: 0.0949 - accuracy: 0.9843 - val_loss: 0.1044 - val_accuracy: 0.9734\n",
      "Epoch 85/100\n",
      "12/12 [==============================] - 0s 12ms/step - loss: 0.0942 - accuracy: 0.9843 - val_loss: 0.1037 - val_accuracy: 0.9734\n",
      "Epoch 86/100\n",
      "12/12 [==============================] - 0s 13ms/step - loss: 0.0935 - accuracy: 0.9843 - val_loss: 0.1030 - val_accuracy: 0.9734\n",
      "Epoch 87/100\n",
      "12/12 [==============================] - 0s 13ms/step - loss: 0.0929 - accuracy: 0.9843 - val_loss: 0.1023 - val_accuracy: 0.9734\n",
      "Epoch 88/100\n",
      "12/12 [==============================] - 0s 16ms/step - loss: 0.0922 - accuracy: 0.9843 - val_loss: 0.1017 - val_accuracy: 0.9734\n",
      "Epoch 89/100\n",
      "12/12 [==============================] - 0s 16ms/step - loss: 0.0916 - accuracy: 0.9843 - val_loss: 0.1010 - val_accuracy: 0.9734\n",
      "Epoch 90/100\n",
      "12/12 [==============================] - 0s 16ms/step - loss: 0.0910 - accuracy: 0.9843 - val_loss: 0.1004 - val_accuracy: 0.9734\n",
      "Epoch 91/100\n",
      "12/12 [==============================] - 0s 14ms/step - loss: 0.0904 - accuracy: 0.9843 - val_loss: 0.0998 - val_accuracy: 0.9734\n",
      "Epoch 92/100\n",
      "12/12 [==============================] - 0s 11ms/step - loss: 0.0898 - accuracy: 0.9843 - val_loss: 0.0991 - val_accuracy: 0.9734\n",
      "Epoch 93/100\n",
      "12/12 [==============================] - 0s 11ms/step - loss: 0.0892 - accuracy: 0.9843 - val_loss: 0.0986 - val_accuracy: 0.9734\n",
      "Epoch 94/100\n",
      "12/12 [==============================] - 0s 11ms/step - loss: 0.0887 - accuracy: 0.9843 - val_loss: 0.0980 - val_accuracy: 0.9734\n",
      "Epoch 95/100\n",
      "12/12 [==============================] - 0s 11ms/step - loss: 0.0881 - accuracy: 0.9843 - val_loss: 0.0975 - val_accuracy: 0.9734\n",
      "Epoch 96/100\n",
      "12/12 [==============================] - 0s 12ms/step - loss: 0.0876 - accuracy: 0.9843 - val_loss: 0.0969 - val_accuracy: 0.9734\n",
      "Epoch 97/100\n",
      "12/12 [==============================] - 0s 14ms/step - loss: 0.0870 - accuracy: 0.9843 - val_loss: 0.0964 - val_accuracy: 0.9734\n",
      "Epoch 98/100\n",
      "12/12 [==============================] - 0s 14ms/step - loss: 0.0865 - accuracy: 0.9843 - val_loss: 0.0959 - val_accuracy: 0.9734\n",
      "Epoch 99/100\n",
      "12/12 [==============================] - 0s 13ms/step - loss: 0.0860 - accuracy: 0.9843 - val_loss: 0.0953 - val_accuracy: 0.9734\n",
      "Epoch 100/100\n",
      "12/12 [==============================] - 0s 18ms/step - loss: 0.0855 - accuracy: 0.9843 - val_loss: 0.0949 - val_accuracy: 0.9734\n"
     ]
    }
   ],
   "source": [
    "hist = model.fit(X_train, y_train, validation_data=(X_test, y_test), epochs=100)"
   ]
  },
  {
   "cell_type": "code",
   "execution_count": 40,
   "metadata": {},
   "outputs": [
    {
     "name": "stdout",
     "output_type": "stream",
     "text": [
      "12/12 [==============================] - 0s 3ms/step - loss: 0.0851 - accuracy: 0.9843\n",
      "Train Score :  [0.08514666557312012, 0.9842519760131836]\n",
      "6/6 [==============================] - 0s 4ms/step - loss: 0.0949 - accuracy: 0.9734\n",
      "Test Score :  [0.09485520422458649, 0.9734042286872864]\n"
     ]
    }
   ],
   "source": [
    "print(\"Train Score : \", model.evaluate(X_train, y_train))\n",
    "print(\"Test Score : \", model.evaluate(X_test, y_test))"
   ]
  },
  {
   "cell_type": "code",
   "execution_count": 41,
   "metadata": {},
   "outputs": [
    {
     "data": {
      "text/plain": [
       "<matplotlib.legend.Legend at 0x21c0347a5c8>"
      ]
     },
     "execution_count": 41,
     "metadata": {},
     "output_type": "execute_result"
    },
    {
     "data": {
      "image/png": "[encoded data removed]",
      "text/plain": [
       "<Figure size 432x288 with 1 Axes>"
      ]
     },
     "metadata": {
      "needs_background": "light"
     },
     "output_type": "display_data"
    }
   ],
   "source": [
    "plt.plot(hist.history['loss'], label='loss')\n",
    "plt.plot(hist.history['val_loss'], label='val_loss')\n",
    "plt.legend()"
   ]
  },
  {
   "cell_type": "code",
   "execution_count": 42,
   "metadata": {},
   "outputs": [
    {
     "data": {
      "text/plain": [
       "<matplotlib.legend.Legend at 0x21bfe6989c8>"
      ]
     },
     "execution_count": 42,
     "metadata": {},
     "output_type": "execute_result"
    },
    {
     "data": {
      "image/png": "[encoded data removed]",
      "text/plain": [
       "<Figure size 432x288 with 1 Axes>"
      ]
     },
     "metadata": {
      "needs_background": "light"
     },
     "output_type": "display_data"
    }
   ],
   "source": [
    "plt.plot(hist.history['accuracy'], label='accuracy')\n",
    "plt.plot(hist.history['val_accuracy'], label='val_accuracy')\n",
    "plt.legend()"
   ]
  },
  {
   "cell_type": "code",
   "execution_count": 43,
   "metadata": {},
   "outputs": [],
   "source": [
    "Pred = model.predict(X_test)"
   ]
  },
  {
   "cell_type": "code",
   "execution_count": 50,
   "metadata": {},
   "outputs": [
    {
     "data": {
      "text/plain": [
       "array([1, 1, 0, 1, 0, 0, 0, 1, 0, 0, 1, 0, 0, 1, 1, 1, 1, 1, 0, 1, 0, 0,\n",
       "       1, 1, 1, 0, 1, 1, 0, 0, 1, 1, 1, 1, 1, 1, 1, 1, 0, 1, 0, 1, 1, 1,\n",
       "       0, 0, 1, 1, 1, 1, 1, 1, 1, 1, 1, 1, 1, 0, 1, 1, 1, 0, 0, 1, 1, 0,\n",
       "       1, 0, 1, 1, 0, 1, 0, 0, 1, 0, 0, 1, 0, 1, 0, 0, 0, 0, 1, 1, 1, 1,\n",
       "       0, 1, 0, 1, 1, 0, 0, 1, 0, 1, 1, 1, 1, 0, 0, 1, 1, 1, 1, 0, 0, 1,\n",
       "       1, 0, 1, 1, 0, 1, 0, 0, 1, 0, 0, 0, 1, 0, 1, 1, 0, 0, 1, 1, 0, 1,\n",
       "       1, 1, 1, 1, 0, 1, 0, 1, 0, 1, 1, 0, 0, 0, 1, 0, 0, 1, 0, 0, 1, 1,\n",
       "       1, 1, 1, 0, 1, 1, 1, 1, 1, 0, 1, 0, 1, 1, 0, 1, 1, 0, 1, 1, 1, 0,\n",
       "       1, 1, 0, 1, 0, 1, 1, 0, 0, 1, 1, 0], dtype=int64)"
      ]
     },
     "execution_count": 50,
     "metadata": {},
     "output_type": "execute_result"
    }
   ],
   "source": [
    "Pred.argmax(axis=1)"
   ]
  },
  {
   "cell_type": "code",
   "execution_count": null,
   "metadata": {},
   "outputs": [],
   "source": []
  }
 ],
 "metadata": {
  "kernelspec": {
   "display_name": "Python 3",
   "language": "python",
   "name": "python3"
  },
  "language_info": {
   "codemirror_mode": {
    "name": "ipython",
    "version": 3
   },
   "file_extension": ".py",
   "mimetype": "text/x-python",
   "name": "python",
   "nbconvert_exporter": "python",
   "pygments_lexer": "ipython3",
   "version": "3.7.6"
  }
 },
 "nbformat": 4,
 "nbformat_minor": 4
}
