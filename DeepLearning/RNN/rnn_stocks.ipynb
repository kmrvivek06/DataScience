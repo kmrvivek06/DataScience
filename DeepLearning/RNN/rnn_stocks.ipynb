{
 "cells": [
  {
   "cell_type": "code",
   "execution_count": null,
   "metadata": {},
   "outputs": [],
   "source": [
    "import tensorflow as tf\n",
    "from tensorflow.keras.layers import Input, SimpleRNN, GRU, LSTM, Dense, Flatten, GlobalMaxPooling1D\n",
    "from tensorflow.keras.models import Model\n",
    "from tensorflow.keras.optimizers import Adam, SGD\n",
    "import numpy as np\n",
    "import pandas as pd\n",
    "import matplotlib.pyplot as plt\n",
    "from sklearn.preprocessing import StandardScaler"
   ]
  },
  {
   "cell_type": "code",
   "execution_count": null,
   "metadata": {},
   "outputs": [],
   "source": [
    "df = pd.read_csv('data/sbux.csv')\n",
    "df.head()"
   ]
  },
  {
   "cell_type": "markdown",
   "metadata": {},
   "source": [
    "### Wrong Approach (Model 1)"
   ]
  },
  {
   "cell_type": "code",
   "execution_count": null,
   "metadata": {},
   "outputs": [],
   "source": [
    "series = df['close'].values.reshape(-1,1)"
   ]
  },
  {
   "cell_type": "code",
   "execution_count": null,
   "metadata": {},
   "outputs": [],
   "source": [
    "scalar = StandardScaler()\n",
    "scalar.fit(series[:len(series)//2])\n",
    "series = scalar.transform(series).flatten()"
   ]
  },
  {
   "cell_type": "code",
   "execution_count": null,
   "metadata": {},
   "outputs": [],
   "source": [
    "series.shape"
   ]
  },
  {
   "cell_type": "code",
   "execution_count": null,
   "metadata": {},
   "outputs": [],
   "source": [
    "# build the data set\n",
    "T = 10\n",
    "D = 1\n",
    "X = []\n",
    "Y = []\n",
    "for t in range(len(series) - T):\n",
    "    x = series[t:t+T]\n",
    "    y = series[t+T]\n",
    "    X.append(x)\n",
    "    Y.append(y)\n",
    "    \n",
    "X = np.array(X).reshape(-1, T)\n",
    "Y = np.array(Y)\n",
    "\n",
    "N = len(X)\n",
    "print(\"X.shape\", X.shape, \"Y.shape\", Y.shape)"
   ]
  },
  {
   "cell_type": "code",
   "execution_count": null,
   "metadata": {},
   "outputs": [],
   "source": [
    "# build RNN model\n",
    "i = Input(shape=(T,1))\n",
    "x = LSTM(5)(i)\n",
    "x = Dense(1)(x)\n",
    "model = Model(i, x)\n",
    "model.compile(loss='mse', optimizer=Adam(lr=0.1))"
   ]
  },
  {
   "cell_type": "code",
   "execution_count": null,
   "metadata": {},
   "outputs": [],
   "source": [
    "r = model.fit(X[:-N//2], Y[:-N//2], validation_data=(X[-N//2:], Y[-N//2:]), epochs=80)"
   ]
  },
  {
   "cell_type": "code",
   "execution_count": null,
   "metadata": {},
   "outputs": [],
   "source": [
    "# Plot loss per iteration\n",
    "plt.plot(r.history['loss'], label='loss')\n",
    "plt.plot(r.history['val_loss'], label='val_loss')\n",
    "plt.legend()\n",
    "plt.show()"
   ]
  },
  {
   "cell_type": "code",
   "execution_count": null,
   "metadata": {},
   "outputs": [],
   "source": [
    "# \"wrong\" forecast using true targets\n",
    "validation_target = Y[-N//2:]\n",
    "validation_predictions = []\n",
    "\n",
    "# index of first validation\n",
    "i = -N//2\n",
    "\n",
    "while(len(validation_predictions) < len(validation_target)):\n",
    "    P = model.predict(X[i].reshape(1,-1,1))[0,0]\n",
    "    i = i+1\n",
    "    validation_predictions.append(P)"
   ]
  },
  {
   "cell_type": "code",
   "execution_count": null,
   "metadata": {},
   "outputs": [],
   "source": [
    "# Plot the predictions\n",
    "plt.plot(validation_target, label='validation_target')\n",
    "plt.plot(validation_predictions, label='validation_predictions')\n",
    "plt.legend()\n",
    "plt.show()"
   ]
  },
  {
   "cell_type": "code",
   "execution_count": null,
   "metadata": {},
   "outputs": [],
   "source": [
    "# \"Correct\" forecast using self predicted\n",
    "validation_target = Y[-N//2:]\n",
    "validation_predictions = []\n",
    "\n",
    "# index of first validation\n",
    "last_x = X[-N//2]\n",
    "\n",
    "while(len(validation_predictions) < len(validation_target)):\n",
    "    P = model.predict(last_x.reshape(1,-1,1))[0,0]\n",
    "    validation_predictions.append(P)\n",
    "    last_x = np.roll(last_x, -1)\n",
    "    last_x[-1] = P\n",
    "    \n",
    "# Plot the predictions\n",
    "plt.plot(validation_target, label='validation_target')\n",
    "plt.plot(validation_predictions, label='validation_predictions')\n",
    "plt.legend()\n",
    "plt.show()"
   ]
  },
  {
   "cell_type": "markdown",
   "metadata": {},
   "source": [
    "### Calculating returns (Model 2)"
   ]
  },
  {
   "cell_type": "code",
   "execution_count": null,
   "metadata": {},
   "outputs": [],
   "source": [
    "# Shift the data\n",
    "df['PrevClose'] = df['close'].shift(1)  #move everything up\n",
    "df.head()"
   ]
  },
  {
   "cell_type": "code",
   "execution_count": null,
   "metadata": {},
   "outputs": [],
   "source": [
    "df.tail()"
   ]
  },
  {
   "cell_type": "code",
   "execution_count": null,
   "metadata": {},
   "outputs": [],
   "source": [
    "# Calculate the return\n",
    "df['Return'] = (df['close'] - df['PrevClose']) / df['PrevClose']\n",
    "df.head()"
   ]
  },
  {
   "cell_type": "code",
   "execution_count": null,
   "metadata": {},
   "outputs": [],
   "source": [
    "df['Return'].hist()"
   ]
  },
  {
   "cell_type": "code",
   "execution_count": null,
   "metadata": {},
   "outputs": [],
   "source": [
    "series = df['Return'].values[1:].reshape(-1,1)\n",
    "scalar = StandardScaler()\n",
    "scalar.fit(series[:len(series)//2])\n",
    "series = scalar.transform(series).flatten()"
   ]
  },
  {
   "cell_type": "code",
   "execution_count": null,
   "metadata": {},
   "outputs": [],
   "source": [
    "# build the data set\n",
    "T = 10\n",
    "D = 1\n",
    "X = []\n",
    "Y = []\n",
    "for t in range(len(series) - T):\n",
    "    x = series[t:t+T]\n",
    "    y = series[t+T]\n",
    "    X.append(x)\n",
    "    Y.append(y)\n",
    "    \n",
    "X = np.array(X).reshape(-1, T)\n",
    "Y = np.array(Y)\n",
    "\n",
    "N = len(X)\n",
    "print(\"X.shape\", X.shape, \"Y.shape\", Y.shape)"
   ]
  },
  {
   "cell_type": "code",
   "execution_count": null,
   "metadata": {},
   "outputs": [],
   "source": [
    "# build RNN model\n",
    "i = Input(shape=(T,1))\n",
    "x = LSTM(5)(i)\n",
    "x = Dense(1)(x)\n",
    "model = Model(i, x)\n",
    "model.compile(loss='mse', optimizer=Adam(lr=0.1))"
   ]
  },
  {
   "cell_type": "code",
   "execution_count": null,
   "metadata": {},
   "outputs": [],
   "source": [
    "r = model.fit(X[:-N//2], Y[:-N//2], validation_data=(X[-N//2:], Y[-N//2:]), epochs=80)"
   ]
  },
  {
   "cell_type": "code",
   "execution_count": null,
   "metadata": {},
   "outputs": [],
   "source": [
    "# Plot loss per iteration\n",
    "plt.plot(r.history['loss'], label='loss')\n",
    "plt.plot(r.history['val_loss'], label='val_loss')\n",
    "plt.legend()\n",
    "plt.show()"
   ]
  },
  {
   "cell_type": "code",
   "execution_count": null,
   "metadata": {},
   "outputs": [],
   "source": [
    "# \"wrong\" forecast using true targets\n",
    "validation_target = Y[-N//2:]\n",
    "validation_predictions = []\n",
    "\n",
    "# index of first validation\n",
    "i = -N//2\n",
    "\n",
    "while(len(validation_predictions) < len(validation_target)):\n",
    "    P = model.predict(X[i].reshape(1,-1,1))[0,0]\n",
    "    i = i+1\n",
    "    validation_predictions.append(P)\n",
    "    \n",
    "# Plot the predictions\n",
    "plt.plot(validation_target, label='validation_target')\n",
    "plt.plot(validation_predictions, label='validation_predictions')\n",
    "plt.legend()\n",
    "plt.show()"
   ]
  },
  {
   "cell_type": "code",
   "execution_count": null,
   "metadata": {},
   "outputs": [],
   "source": [
    "# \"Correct\" forecast using self predicted\n",
    "validation_target = Y[-N//2:]\n",
    "validation_predictions = []\n",
    "\n",
    "# index of first validation\n",
    "last_x = X[-N//2]\n",
    "\n",
    "while(len(validation_predictions) < len(validation_target)):\n",
    "    P = model.predict(last_x.reshape(1,-1,1))[0,0]\n",
    "    validation_predictions.append(P)\n",
    "    last_x = np.roll(last_x, -1)\n",
    "    last_x[-1] = P\n",
    "    \n",
    "# Plot the predictions\n",
    "plt.plot(validation_target, label='validation_target')\n",
    "plt.plot(validation_predictions, label='validation_predictions')\n",
    "plt.legend()\n",
    "plt.show()"
   ]
  },
  {
   "cell_type": "markdown",
   "metadata": {},
   "source": [
    "### Model 3 (Use all data)"
   ]
  },
  {
   "cell_type": "markdown",
   "metadata": {},
   "source": [
    "Make it a classification problem, instead of predicting price, just predict wether the price will go up or down."
   ]
  },
  {
   "cell_type": "code",
   "execution_count": null,
   "metadata": {},
   "outputs": [],
   "source": [
    "input_data = df[['open', 'high', 'low', 'close', 'volume']]\n",
    "target = df['Return']"
   ]
  },
  {
   "cell_type": "code",
   "execution_count": null,
   "metadata": {},
   "outputs": [],
   "source": [
    "T = 10\n",
    "D = input_data.shape[1]\n",
    "N = len(input_data) - T"
   ]
  },
  {
   "cell_type": "code",
   "execution_count": null,
   "metadata": {},
   "outputs": [],
   "source": [
    "# Normalize the inputs\n",
    "Ntrain = len(input_data) * 2 // 3\n",
    "scalar = StandardScaler()\n",
    "scalar.fit(input_data[:Ntrain + T])\n",
    "series = scalar.transform(input_data).flatten()"
   ]
  },
  {
   "cell_type": "code",
   "execution_count": null,
   "metadata": {},
   "outputs": [],
   "source": [
    "# Setup X_train and y_train\n",
    "X_train = np.zeros((Ntrain, T, D))\n",
    "y_train = np.zeros(Ntrain)\n",
    "\n",
    "for t in range(Ntrain):\n",
    "    X_train[t, :, :] = input_data[t:t+T]\n",
    "    y_train[t] = (target[t+T] > 0)"
   ]
  },
  {
   "cell_type": "code",
   "execution_count": null,
   "metadata": {},
   "outputs": [],
   "source": [
    "# Setup X_test and y_test\n",
    "X_test = np.zeros((N-Ntrain, T, D))\n",
    "y_test = np.zeros(N-Ntrain)\n",
    "\n",
    "for u in range(N-Ntrain):\n",
    "    t = u + Ntrain\n",
    "    X_test[u, :, :] = input_data[t:t+T]\n",
    "    y_test[u] = (target[t+T] > 0)"
   ]
  },
  {
   "cell_type": "code",
   "execution_count": null,
   "metadata": {},
   "outputs": [],
   "source": [
    "# build RNN model\n",
    "i = Input(shape=(T,D))\n",
    "x = LSTM(50, return_sequences=True)(i)\n",
    "x = GlobalMaxPooling1D()(x)\n",
    "X = Dense(100, activation='relu')\n",
    "X = Dense(10, activation='relu')\n",
    "x = Dense(1, activation='sigmoid')(x)\n",
    "model = Model(i, x)\n",
    "model.compile(loss='binary_crossentropy', optimizer=Adam(lr=0.001), metrics='accuracy')"
   ]
  },
  {
   "cell_type": "code",
   "execution_count": null,
   "metadata": {},
   "outputs": [],
   "source": [
    "r = model.fit(X_train, y_train, validation_data=(X_test, y_test), epochs=50, batch_size=1)"
   ]
  },
  {
   "cell_type": "code",
   "execution_count": null,
   "metadata": {},
   "outputs": [],
   "source": [
    "# Plot loss per iteration\n",
    "plt.plot(r.history['loss'], label='loss')\n",
    "plt.plot(r.history['val_loss'], label='val_loss')\n",
    "plt.legend()\n",
    "plt.show()"
   ]
  },
  {
   "cell_type": "code",
   "execution_count": null,
   "metadata": {},
   "outputs": [],
   "source": [
    "# Plot loss per iteration\n",
    "plt.plot(r.history['accuracy'], label='accuracy')\n",
    "plt.plot(r.history['val_accuracy'], label='val_accuracy')\n",
    "plt.legend()\n",
    "plt.show()"
   ]
  },
  {
   "cell_type": "code",
   "execution_count": null,
   "metadata": {},
   "outputs": [],
   "source": []
  },
  {
   "cell_type": "code",
   "execution_count": null,
   "metadata": {},
   "outputs": [],
   "source": []
  }
 ],
 "metadata": {
  "kernelspec": {
   "display_name": "Python 3",
   "language": "python",
   "name": "python3"
  },
  "language_info": {
   "codemirror_mode": {
    "name": "ipython",
    "version": 3
   },
   "file_extension": ".py",
   "mimetype": "text/x-python",
   "name": "python",
   "nbconvert_exporter": "python",
   "pygments_lexer": "ipython3",
   "version": "3.7.6"
  }
 },
 "nbformat": 4,
 "nbformat_minor": 4
}
