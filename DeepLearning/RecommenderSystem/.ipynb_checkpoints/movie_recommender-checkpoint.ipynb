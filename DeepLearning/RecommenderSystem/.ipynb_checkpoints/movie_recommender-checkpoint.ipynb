{
 "cells": [
  {
   "cell_type": "code",
   "execution_count": 1,
   "metadata": {},
   "outputs": [],
   "source": [
    "import numpy as np\n",
    "import pandas as pd\n",
    "import matplotlib.pyplot as plt\n",
    "from sklearn.utils import shuffle\n",
    "\n",
    "from tensorflow.keras.layers import Dense, Input, Embedding, Flatten, Concatenate\n",
    "from tensorflow.keras.models import Model\n",
    "from tensorflow.keras.optimizers import Adam, SGD"
   ]
  },
  {
   "cell_type": "code",
   "execution_count": 2,
   "metadata": {},
   "outputs": [
    {
     "data": {
      "text/html": [
       "<div>\n",
       "<style scoped>\n",
       "    .dataframe tbody tr th:only-of-type {\n",
       "        vertical-align: middle;\n",
       "    }\n",
       "\n",
       "    .dataframe tbody tr th {\n",
       "        vertical-align: top;\n",
       "    }\n",
       "\n",
       "    .dataframe thead th {\n",
       "        text-align: right;\n",
       "    }\n",
       "</style>\n",
       "<table border=\"1\" class=\"dataframe\">\n",
       "  <thead>\n",
       "    <tr style=\"text-align: right;\">\n",
       "      <th></th>\n",
       "      <th>userId</th>\n",
       "      <th>movieId</th>\n",
       "      <th>rating</th>\n",
       "      <th>timestamp</th>\n",
       "    </tr>\n",
       "  </thead>\n",
       "  <tbody>\n",
       "    <tr>\n",
       "      <th>0</th>\n",
       "      <td>1</td>\n",
       "      <td>2</td>\n",
       "      <td>3.5</td>\n",
       "      <td>1112486027</td>\n",
       "    </tr>\n",
       "    <tr>\n",
       "      <th>1</th>\n",
       "      <td>1</td>\n",
       "      <td>29</td>\n",
       "      <td>3.5</td>\n",
       "      <td>1112484676</td>\n",
       "    </tr>\n",
       "    <tr>\n",
       "      <th>2</th>\n",
       "      <td>1</td>\n",
       "      <td>32</td>\n",
       "      <td>3.5</td>\n",
       "      <td>1112484819</td>\n",
       "    </tr>\n",
       "    <tr>\n",
       "      <th>3</th>\n",
       "      <td>1</td>\n",
       "      <td>47</td>\n",
       "      <td>3.5</td>\n",
       "      <td>1112484727</td>\n",
       "    </tr>\n",
       "    <tr>\n",
       "      <th>4</th>\n",
       "      <td>1</td>\n",
       "      <td>50</td>\n",
       "      <td>3.5</td>\n",
       "      <td>1112484580</td>\n",
       "    </tr>\n",
       "  </tbody>\n",
       "</table>\n",
       "</div>"
      ],
      "text/plain": [
       "   userId  movieId  rating   timestamp\n",
       "0       1        2     3.5  1112486027\n",
       "1       1       29     3.5  1112484676\n",
       "2       1       32     3.5  1112484819\n",
       "3       1       47     3.5  1112484727\n",
       "4       1       50     3.5  1112484580"
      ]
     },
     "execution_count": 2,
     "metadata": {},
     "output_type": "execute_result"
    }
   ],
   "source": [
    "df = pd.read_csv('data/ml-20m/ratings.csv')\n",
    "df.head()"
   ]
  },
  {
   "cell_type": "code",
   "execution_count": 3,
   "metadata": {},
   "outputs": [],
   "source": [
    "df.userId = pd.Categorical(df.userId)\n",
    "df['new_user_id'] = df.userId.cat.codes"
   ]
  },
  {
   "cell_type": "code",
   "execution_count": 4,
   "metadata": {},
   "outputs": [],
   "source": [
    "df.movieId = pd.Categorical(df.movieId)\n",
    "df['new_movie_id'] = df.movieId.cat.codes"
   ]
  },
  {
   "cell_type": "code",
   "execution_count": 5,
   "metadata": {},
   "outputs": [],
   "source": [
    "user_ids = df['new_user_id'].values\n",
    "movie_ids = df['new_movie_id'].values\n",
    "ratings = df['rating'].values"
   ]
  },
  {
   "cell_type": "code",
   "execution_count": 6,
   "metadata": {},
   "outputs": [],
   "source": [
    "# Get no. of users and no. of movies\n",
    "N = len(set(user_ids))\n",
    "M = len(set(movie_ids))\n",
    "\n",
    "# Set embedding dimention\n",
    "K = 10"
   ]
  },
  {
   "cell_type": "code",
   "execution_count": 7,
   "metadata": {},
   "outputs": [],
   "source": [
    "# Make a Neural Network\n",
    "\n",
    "# user input\n",
    "u = Input(shape=(1,))\n",
    "\n",
    "# movie input\n",
    "m = Input(shape=(1,))\n",
    "\n",
    "# user embedding\n",
    "u_emb = Embedding(N,K)(u)   #Output = (num_samples,T,K) => (num_samples,1,K) as T(Time series length) is 1\n",
    "\n",
    "# movie embedding\n",
    "m_emb = Embedding(M,K)(m)\n",
    "\n",
    "# Flatten both embeddings\n",
    "u_emb = Flatten()(u_emb)   #Output = (num_samples,K)\n",
    "m_emb = Flatten()(m_emb)\n",
    "\n",
    "# Concatenate Flattened embedded inputs\n",
    "x = Concatenate()([u_emb,m_emb])   # Output = (num_samples,2K)\n",
    "\n",
    "x = Dense(1024, activation='relu')(x)\n",
    "x = Dense(1)(x)\n",
    "\n",
    "model = Model(inputs=[u,m], outputs=x)"
   ]
  },
  {
   "cell_type": "code",
   "execution_count": 8,
   "metadata": {},
   "outputs": [],
   "source": [
    "model.compile(loss='mse', optimizer=SGD(learning_rate=0.08, momentum=0.9))"
   ]
  },
  {
   "cell_type": "code",
   "execution_count": 9,
   "metadata": {},
   "outputs": [],
   "source": [
    "# Split the data\n",
    "user_ids, movie_ids, ratings = shuffle(user_ids, movie_ids, ratings)\n",
    "Ntrain = int(0.8*len(ratings))\n",
    "\n",
    "train_user = user_ids[:Ntrain]\n",
    "train_movie = movie_ids[:Ntrain]\n",
    "train_ratings = ratings[:Ntrain]\n",
    "\n",
    "test_user = user_ids[Ntrain:]\n",
    "test_movie = movie_ids[Ntrain:]\n",
    "test_ratings = ratings[Ntrain:]\n",
    "\n",
    "# Center the ratings(Scaling the data)\n",
    "avg_rating = train_ratings.mean()\n",
    "train_ratings = train_ratings - avg_rating\n",
    "test_ratings = test_ratings - avg_rating"
   ]
  },
  {
   "cell_type": "code",
   "execution_count": 10,
   "metadata": {},
   "outputs": [
    {
     "name": "stdout",
     "output_type": "stream",
     "text": [
      "Epoch 1/25\n",
      "15626/15626 [==============================] - 57s 4ms/step - loss: 0.7768 - val_loss: 0.7230\n",
      "Epoch 2/25\n",
      "15626/15626 [==============================] - 54s 3ms/step - loss: 0.7011 - val_loss: 0.6983\n",
      "Epoch 3/25\n",
      "15626/15626 [==============================] - 56s 4ms/step - loss: 0.6789 - val_loss: 0.6863\n",
      "Epoch 4/25\n",
      "15626/15626 [==============================] - 56s 4ms/step - loss: 0.6632 - val_loss: 0.6767\n",
      "Epoch 5/25\n",
      "15626/15626 [==============================] - 54s 3ms/step - loss: 0.6517 - val_loss: 0.6702\n",
      "Epoch 6/25\n",
      "15626/15626 [==============================] - 59s 4ms/step - loss: 0.6393 - val_loss: 0.6589\n",
      "Epoch 7/25\n",
      "15626/15626 [==============================] - 58s 4ms/step - loss: 0.6233 - val_loss: 0.6487\n",
      "Epoch 8/25\n",
      "15626/15626 [==============================] - 58s 4ms/step - loss: 0.6107 - val_loss: 0.6463\n",
      "Epoch 9/25\n",
      "15626/15626 [==============================] - 53s 3ms/step - loss: 0.6021 - val_loss: 0.6439\n",
      "Epoch 10/25\n",
      "15626/15626 [==============================] - 52s 3ms/step - loss: 0.5945 - val_loss: 0.6382\n",
      "Epoch 11/25\n",
      "15626/15626 [==============================] - 52s 3ms/step - loss: 0.5867 - val_loss: 0.6364\n",
      "Epoch 12/25\n",
      "15626/15626 [==============================] - 54s 3ms/step - loss: 0.5791 - val_loss: 0.6350\n",
      "Epoch 13/25\n",
      "15626/15626 [==============================] - 53s 3ms/step - loss: 0.5724 - val_loss: 0.6345\n",
      "Epoch 14/25\n",
      "15626/15626 [==============================] - 52s 3ms/step - loss: 0.5661 - val_loss: 0.6318\n",
      "Epoch 15/25\n",
      "15626/15626 [==============================] - 54s 3ms/step - loss: 0.5601 - val_loss: 0.6287\n",
      "Epoch 16/25\n",
      "15626/15626 [==============================] - 53s 3ms/step - loss: 0.5549 - val_loss: 0.6290\n",
      "Epoch 17/25\n",
      "15626/15626 [==============================] - 53s 3ms/step - loss: 0.5506 - val_loss: 0.6260\n",
      "Epoch 18/25\n",
      "15626/15626 [==============================] - 53s 3ms/step - loss: 0.5469 - val_loss: 0.6270\n",
      "Epoch 19/25\n",
      "15626/15626 [==============================] - 53s 3ms/step - loss: 0.5438 - val_loss: 0.6270\n",
      "Epoch 20/25\n",
      "15626/15626 [==============================] - 53s 3ms/step - loss: 0.5411 - val_loss: 0.6247\n",
      "Epoch 21/25\n",
      "15626/15626 [==============================] - 53s 3ms/step - loss: 0.5388 - val_loss: 0.6270\n",
      "Epoch 22/25\n",
      "15626/15626 [==============================] - 55s 4ms/step - loss: 0.5367 - val_loss: 0.6271\n",
      "Epoch 23/25\n",
      "15626/15626 [==============================] - 53s 3ms/step - loss: 0.5348 - val_loss: 0.6255\n",
      "Epoch 24/25\n",
      "15626/15626 [==============================] - 52s 3ms/step - loss: 0.5331 - val_loss: 0.6301\n",
      "Epoch 25/25\n",
      "15626/15626 [==============================] - 54s 3ms/step - loss: 0.5316 - val_loss: 0.6275\n"
     ]
    }
   ],
   "source": [
    "r = model.fit(\n",
    "    x = [train_user, train_movie],\n",
    "    y = train_ratings,\n",
    "    epochs=25,\n",
    "    batch_size=1024,\n",
    "    validation_data=([test_user, test_movie], test_ratings)\n",
    ")"
   ]
  },
  {
   "cell_type": "code",
   "execution_count": 11,
   "metadata": {},
   "outputs": [
    {
     "data": {
      "image/png": "[encoded data removed]",
      "text/plain": [
       "<Figure size 432x288 with 1 Axes>"
      ]
     },
     "metadata": {
      "needs_background": "light"
     },
     "output_type": "display_data"
    }
   ],
   "source": [
    "# Plot loss graph\n",
    "plt.plot(r.history['loss'], label='loss')\n",
    "plt.plot(r.history['val_loss'], label='val_loss')\n",
    "plt.legend()\n",
    "plt.show()"
   ]
  },
  {
   "cell_type": "code",
   "execution_count": null,
   "metadata": {},
   "outputs": [],
   "source": []
  }
 ],
 "metadata": {
  "kernelspec": {
   "display_name": "Python 3",
   "language": "python",
   "name": "python3"
  },
  "language_info": {
   "codemirror_mode": {
    "name": "ipython",
    "version": 3
   },
   "file_extension": ".py",
   "mimetype": "text/x-python",
   "name": "python",
   "nbconvert_exporter": "python",
   "pygments_lexer": "ipython3",
   "version": "3.7.6"
  }
 },
 "nbformat": 4,
 "nbformat_minor": 4
}
