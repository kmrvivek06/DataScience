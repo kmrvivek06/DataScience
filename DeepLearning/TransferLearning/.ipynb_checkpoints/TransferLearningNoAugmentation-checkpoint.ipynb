{
 "cells": [
  {
   "cell_type": "code",
   "execution_count": null,
   "metadata": {},
   "outputs": [],
   "source": [
    "import numpy as np\n",
    "import pandas as pd\n",
    "import matplotlib.pyplot as plt\n",
    "import sys, os\n",
    "from glob import glob\n",
    "from tensorflow.keras.layers import Input, Dense, Flatten\n",
    "from tensorflow.keras.applications.vgg16 import VGG16 as PretrainedModel, preprocess_input\n",
    "from tensorflow.keras.models import Model\n",
    "from tensorflow.keras.optimizers import SGD, Adam\n",
    "from tensorflow.keras.preprocessing import image\n",
    "from tensorflow.keras.preprocessing.image import ImageDataGenerator"
   ]
  },
  {
   "cell_type": "code",
   "execution_count": null,
   "metadata": {},
   "outputs": [],
   "source": [
    "train_path = 'data/train_set'\n",
    "test_path = 'data/test_set'"
   ]
  },
  {
   "cell_type": "code",
   "execution_count": null,
   "metadata": {},
   "outputs": [],
   "source": [
    "IMAGE_SIZE = [200, 200]"
   ]
  },
  {
   "cell_type": "code",
   "execution_count": null,
   "metadata": {},
   "outputs": [],
   "source": [
    "ptm = PretrainedModel(input_shape= IMAGE_SIZE + [3], weights='imagenet', include_top=False)"
   ]
  },
  {
   "cell_type": "code",
   "execution_count": null,
   "metadata": {},
   "outputs": [],
   "source": [
    "x = Flatten()(ptm.output)"
   ]
  },
  {
   "cell_type": "code",
   "execution_count": null,
   "metadata": {},
   "outputs": [],
   "source": [
    "model = Model(inputs=ptm.input, outputs=x)"
   ]
  },
  {
   "cell_type": "code",
   "execution_count": null,
   "metadata": {},
   "outputs": [],
   "source": [
    "model.summary()"
   ]
  },
  {
   "cell_type": "code",
   "execution_count": null,
   "metadata": {},
   "outputs": [],
   "source": [
    "gen = ImageDataGenerator(preprocessing_function=preprocess_input)"
   ]
  },
  {
   "cell_type": "code",
   "execution_count": null,
   "metadata": {},
   "outputs": [],
   "source": [
    "batch_size = 128\n",
    "\n",
    "train_generator = gen.flow_from_directory(\n",
    "    train_path,\n",
    "    target_size=IMAGE_SIZE,\n",
    "    batch_size= batch_size,\n",
    "    class_mode='binary'\n",
    ")\n",
    "\n",
    "test_generator = gen.flow_from_directory(\n",
    "    test_path,\n",
    "    target_size=IMAGE_SIZE,\n",
    "    batch_size= batch_size,\n",
    "    class_mode='binary'\n",
    ")"
   ]
  },
  {
   "cell_type": "code",
   "execution_count": null,
   "metadata": {},
   "outputs": [],
   "source": [
    "NTrain = 3000\n",
    "NTest = 1000\n",
    "\n",
    "# Detect shape for the flatten output\n",
    "feat = model.predict(np.random.random([1] + IMAGE_SIZE + [3]))\n",
    "D = feat.shape[1]\n",
    "\n",
    "X_train = np.zeros((NTrain, D))\n",
    "Y_train = np.zeros(NTrain)\n",
    "X_test = np.zeros((NTest, D))\n",
    "Y_test = np.zeros(NTest)"
   ]
  },
  {
   "cell_type": "code",
   "execution_count": null,
   "metadata": {},
   "outputs": [],
   "source": [
    "# populate X_train and Y_train\n",
    "i = 0\n",
    "for x,y in train_generator:\n",
    "    features = model.predict(x)\n",
    "    \n",
    "    #batch size if applicable\n",
    "    sz = len(y)\n",
    "    X_train[i:i+sz] = features\n",
    "    Y_train[i:i+sz] = y\n",
    "    \n",
    "    i = i+sz\n",
    "    \n",
    "    if i>=NTrain:\n",
    "        break\n",
    "    \n",
    "    \n",
    "print(i)    "
   ]
  },
  {
   "cell_type": "code",
   "execution_count": null,
   "metadata": {},
   "outputs": [],
   "source": [
    "# populate X_train and Y_train\n",
    "i = 0\n",
    "for x,y in test_generator:\n",
    "    features = model.predict(x)\n",
    "    \n",
    "    #batch size if applicable\n",
    "    sz = len(y)\n",
    "    X_test[i:i+sz] = features\n",
    "    Y_test[i:i+sz] = y\n",
    "    \n",
    "    i = i+sz\n",
    "    \n",
    "    if i>=NTest:\n",
    "        break\n",
    "    \n",
    "    \n",
    "print(i)   "
   ]
  },
  {
   "cell_type": "code",
   "execution_count": null,
   "metadata": {},
   "outputs": [],
   "source": [
    "from sklearn.preprocessing import StandardScaler\n",
    "sc = StandardScaler()\n",
    "sc.fit_transform(X_train)\n",
    "sc.transform(Y_train)"
   ]
  },
  {
   "cell_type": "code",
   "execution_count": null,
   "metadata": {},
   "outputs": [],
   "source": [
    "#Using SKlearn\n",
    "from sklearn.linear_model import LogisticRegression\n",
    "logr = LogisticRegression()\n",
    "logr.fit(X_train,Y_train)\n",
    "print(logr.score(X_train,Y_train))\n",
    "print(logr.score(X_test,Y_test))"
   ]
  },
  {
   "cell_type": "code",
   "execution_count": null,
   "metadata": {},
   "outputs": [],
   "source": [
    "#Using Tensorflow\n",
    "i = Input(shape=(D,))\n",
    "x = Dense(1, activation='sigmoid')(i)\n",
    "lm = Model(i,x)"
   ]
  },
  {
   "cell_type": "code",
   "execution_count": null,
   "metadata": {},
   "outputs": [],
   "source": [
    "lm.compile(loss='binary_crossentropy', optimizer='adam', metrics=['accuracy'])"
   ]
  },
  {
   "cell_type": "code",
   "execution_count": null,
   "metadata": {},
   "outputs": [],
   "source": [
    "r = lm.fit(X_train, Y_train, batch_size=128, epochs=10, validatio_data=(X_test, Y_test))"
   ]
  },
  {
   "cell_type": "code",
   "execution_count": null,
   "metadata": {},
   "outputs": [],
   "source": [
    "# Plot loss graph\n",
    "plt.plot(r.history['loss'], label='loss')\n",
    "plt.plot(r.history['val_loss'], label='val_loss')\n",
    "plt.legend()\n",
    "plt.show()"
   ]
  },
  {
   "cell_type": "code",
   "execution_count": null,
   "metadata": {},
   "outputs": [],
   "source": [
    "# Plot accuracy graph\n",
    "plt.plot(r.history['accuracy'], label='accuracy')\n",
    "plt.plot(r.history['val_accuracy'], label='val_accuracy')\n",
    "plt.legend()\n",
    "plt.show()"
   ]
  }
 ],
 "metadata": {
  "kernelspec": {
   "display_name": "Python 3",
   "language": "python",
   "name": "python3"
  },
  "language_info": {
   "codemirror_mode": {
    "name": "ipython",
    "version": 3
   },
   "file_extension": ".py",
   "mimetype": "text/x-python",
   "name": "python",
   "nbconvert_exporter": "python",
   "pygments_lexer": "ipython3",
   "version": "3.7.6"
  }
 },
 "nbformat": 4,
 "nbformat_minor": 4
}
