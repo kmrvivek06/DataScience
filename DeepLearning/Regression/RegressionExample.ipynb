{
 "cells": [
  {
   "cell_type": "code",
   "execution_count": 1,
   "metadata": {},
   "outputs": [],
   "source": [
    "import tensorflow as tf\n",
    "from sklearn.model_selection import train_test_split\n",
    "from sklearn.preprocessing import StandardScaler\n",
    "import matplotlib.pyplot as plt\n",
    "import pandas as pd\n",
    "import numpy as np"
   ]
  },
  {
   "cell_type": "code",
   "execution_count": 2,
   "metadata": {},
   "outputs": [],
   "source": [
    "data = pd.read_csv('data/moore.csv', header=None).values"
   ]
  },
  {
   "cell_type": "code",
   "execution_count": 3,
   "metadata": {},
   "outputs": [],
   "source": [
    "X = data[:,0].reshape(-1,1)\n",
    "y = data[:,1]"
   ]
  },
  {
   "cell_type": "code",
   "execution_count": 4,
   "metadata": {},
   "outputs": [
    {
     "data": {
      "text/plain": [
       "<matplotlib.collections.PathCollection at 0x183c50f7148>"
      ]
     },
     "execution_count": 4,
     "metadata": {},
     "output_type": "execute_result"
    },
    {
     "data": {
      "image/png": "[encoded data removed]",
      "text/plain": [
       "<Figure size 432x288 with 1 Axes>"
      ]
     },
     "metadata": {
      "needs_background": "light"
     },
     "output_type": "display_data"
    }
   ],
   "source": [
    "plt.scatter(X,y)"
   ]
  },
  {
   "cell_type": "code",
   "execution_count": 5,
   "metadata": {},
   "outputs": [],
   "source": [
    "y = np.log(X)"
   ]
  },
  {
   "cell_type": "code",
   "execution_count": 6,
   "metadata": {},
   "outputs": [
    {
     "data": {
      "text/plain": [
       "<matplotlib.collections.PathCollection at 0x183c58eab48>"
      ]
     },
     "execution_count": 6,
     "metadata": {},
     "output_type": "execute_result"
    },
    {
     "data": {
      "image/png": "[encoded data removed]",
      "text/plain": [
       "<Figure size 432x288 with 1 Axes>"
      ]
     },
     "metadata": {
      "needs_background": "light"
     },
     "output_type": "display_data"
    }
   ],
   "source": [
    "plt.scatter(X,y)"
   ]
  },
  {
   "cell_type": "code",
   "execution_count": 7,
   "metadata": {},
   "outputs": [],
   "source": [
    "X = X - X.mean()"
   ]
  },
  {
   "cell_type": "code",
   "execution_count": 8,
   "metadata": {},
   "outputs": [],
   "source": [
    "X_train, X_test, y_train, y_test = train_test_split(X, y, test_size=0.33)\n",
    "N, D = X_train.shape"
   ]
  },
  {
   "cell_type": "code",
   "execution_count": 9,
   "metadata": {},
   "outputs": [],
   "source": [
    "model = tf.keras.models.Sequential([\n",
    "    tf.keras.layers.Input(shape=(D,)),\n",
    "    tf.keras.layers.Dense(1)\n",
    "])"
   ]
  },
  {
   "cell_type": "code",
   "execution_count": 10,
   "metadata": {},
   "outputs": [],
   "source": [
    "model.compile(optimizer=tf.keras.optimizers.SGD(0.001,0.9), loss='mse')"
   ]
  },
  {
   "cell_type": "code",
   "execution_count": 11,
   "metadata": {},
   "outputs": [],
   "source": [
    "#Learning rate scheduler\n",
    "def schedule(epoch):\n",
    "    if epoch >=50:\n",
    "        return 0.0001\n",
    "    return 0.001\n",
    "\n",
    "scheduler = tf.keras.callbacks.LearningRateScheduler(schedule)"
   ]
  },
  {
   "cell_type": "code",
   "execution_count": 12,
   "metadata": {},
   "outputs": [
    {
     "name": "stdout",
     "output_type": "stream",
     "text": [
      "Epoch 1/200\n",
      "4/4 [==============================] - 0s 79ms/step - loss: 279.7011 - val_loss: 456.4234 - lr: 0.0010\n",
      "Epoch 2/200\n",
      "4/4 [==============================] - 0s 26ms/step - loss: 285.3060 - val_loss: 99.3167 - lr: 0.0010\n",
      "Epoch 3/200\n",
      "4/4 [==============================] - 0s 20ms/step - loss: 164.5643 - val_loss: 49.0416 - lr: 0.0010\n",
      "Epoch 4/200\n",
      "4/4 [==============================] - 0s 23ms/step - loss: 75.7602 - val_loss: 61.2086 - lr: 0.0010\n",
      "Epoch 5/200\n",
      "4/4 [==============================] - 0s 19ms/step - loss: 58.0918 - val_loss: 40.4610 - lr: 0.0010\n",
      "Epoch 6/200\n",
      "4/4 [==============================] - 0s 16ms/step - loss: 47.8450 - val_loss: 53.2192 - lr: 0.0010\n",
      "Epoch 7/200\n",
      "4/4 [==============================] - 0s 18ms/step - loss: 30.4771 - val_loss: 27.2453 - lr: 0.0010\n",
      "Epoch 8/200\n",
      "4/4 [==============================] - 0s 16ms/step - loss: 36.2018 - val_loss: 31.0500 - lr: 0.0010\n",
      "Epoch 9/200\n",
      "4/4 [==============================] - 0s 14ms/step - loss: 35.0254 - val_loss: 16.8918 - lr: 0.0010\n",
      "Epoch 10/200\n",
      "4/4 [==============================] - 0s 15ms/step - loss: 25.6923 - val_loss: 13.1893 - lr: 0.0010\n",
      "Epoch 11/200\n",
      "4/4 [==============================] - 0s 16ms/step - loss: 19.3621 - val_loss: 20.6097 - lr: 0.0010\n",
      "Epoch 12/200\n",
      "4/4 [==============================] - 0s 15ms/step - loss: 12.8031 - val_loss: 10.8389 - lr: 0.0010\n",
      "Epoch 13/200\n",
      "4/4 [==============================] - 0s 16ms/step - loss: 10.6395 - val_loss: 14.0374 - lr: 0.0010\n",
      "Epoch 14/200\n",
      "4/4 [==============================] - 0s 16ms/step - loss: 9.9469 - val_loss: 5.6333 - lr: 0.0010\n",
      "Epoch 15/200\n",
      "4/4 [==============================] - 0s 15ms/step - loss: 7.5349 - val_loss: 4.6671 - lr: 0.0010\n",
      "Epoch 16/200\n",
      "4/4 [==============================] - 0s 15ms/step - loss: 5.7705 - val_loss: 5.9247 - lr: 0.0010\n",
      "Epoch 17/200\n",
      "4/4 [==============================] - 0s 19ms/step - loss: 4.5383 - val_loss: 3.1150 - lr: 0.0010\n",
      "Epoch 18/200\n",
      "4/4 [==============================] - 0s 15ms/step - loss: 3.0842 - val_loss: 4.4139 - lr: 0.0010\n",
      "Epoch 19/200\n",
      "4/4 [==============================] - 0s 16ms/step - loss: 2.8251 - val_loss: 2.0822 - lr: 0.0010\n",
      "Epoch 20/200\n",
      "4/4 [==============================] - 0s 17ms/step - loss: 2.5908 - val_loss: 1.8548 - lr: 0.0010\n",
      "Epoch 21/200\n",
      "4/4 [==============================] - 0s 17ms/step - loss: 2.0279 - val_loss: 1.7916 - lr: 0.0010\n",
      "Epoch 22/200\n",
      "4/4 [==============================] - 0s 12ms/step - loss: 1.2394 - val_loss: 1.3053 - lr: 0.0010\n",
      "Epoch 23/200\n",
      "4/4 [==============================] - 0s 11ms/step - loss: 1.3812 - val_loss: 1.7776 - lr: 0.0010\n",
      "Epoch 24/200\n",
      "4/4 [==============================] - 0s 12ms/step - loss: 1.3273 - val_loss: 0.6883 - lr: 0.0010\n",
      "Epoch 25/200\n",
      "4/4 [==============================] - 0s 14ms/step - loss: 1.0306 - val_loss: 0.5775 - lr: 0.0010\n",
      "Epoch 26/200\n",
      "4/4 [==============================] - 0s 20ms/step - loss: 0.6505 - val_loss: 0.7126 - lr: 0.0010\n",
      "Epoch 27/200\n",
      "4/4 [==============================] - 0s 18ms/step - loss: 0.5092 - val_loss: 0.3717 - lr: 0.0010\n",
      "Epoch 28/200\n",
      "4/4 [==============================] - 0s 18ms/step - loss: 0.4091 - val_loss: 0.4589 - lr: 0.0010\n",
      "Epoch 29/200\n",
      "4/4 [==============================] - 0s 18ms/step - loss: 0.3321 - val_loss: 0.2349 - lr: 0.0010\n",
      "Epoch 30/200\n",
      "4/4 [==============================] - 0s 13ms/step - loss: 0.2405 - val_loss: 0.2215 - lr: 0.0010\n",
      "Epoch 31/200\n",
      "4/4 [==============================] - 0s 12ms/step - loss: 0.1867 - val_loss: 0.1550 - lr: 0.0010\n",
      "Epoch 32/200\n",
      "4/4 [==============================] - 0s 17ms/step - loss: 0.1502 - val_loss: 0.1384 - lr: 0.0010\n",
      "Epoch 33/200\n",
      "4/4 [==============================] - 0s 21ms/step - loss: 0.1211 - val_loss: 0.1031 - lr: 0.0010\n",
      "Epoch 34/200\n",
      "4/4 [==============================] - 0s 24ms/step - loss: 0.0986 - val_loss: 0.0901 - lr: 0.0010\n",
      "Epoch 35/200\n",
      "4/4 [==============================] - 0s 22ms/step - loss: 0.0799 - val_loss: 0.0696 - lr: 0.0010\n",
      "Epoch 36/200\n",
      "4/4 [==============================] - 0s 21ms/step - loss: 0.0647 - val_loss: 0.0551 - lr: 0.0010\n",
      "Epoch 37/200\n",
      "4/4 [==============================] - 0s 17ms/step - loss: 0.0545 - val_loss: 0.0526 - lr: 0.0010\n",
      "Epoch 38/200\n",
      "4/4 [==============================] - 0s 17ms/step - loss: 0.0457 - val_loss: 0.0341 - lr: 0.0010\n",
      "Epoch 39/200\n",
      "4/4 [==============================] - 0s 16ms/step - loss: 0.0368 - val_loss: 0.0427 - lr: 0.0010\n",
      "Epoch 40/200\n",
      "4/4 [==============================] - 0s 17ms/step - loss: 0.0295 - val_loss: 0.0227 - lr: 0.0010\n",
      "Epoch 41/200\n",
      "4/4 [==============================] - 0s 18ms/step - loss: 0.0278 - val_loss: 0.0202 - lr: 0.0010\n",
      "Epoch 42/200\n",
      "4/4 [==============================] - 0s 19ms/step - loss: 0.0191 - val_loss: 0.0166 - lr: 0.0010\n",
      "Epoch 43/200\n",
      "4/4 [==============================] - 0s 18ms/step - loss: 0.0139 - val_loss: 0.0115 - lr: 0.0010\n",
      "Epoch 44/200\n",
      "4/4 [==============================] - 0s 20ms/step - loss: 0.0122 - val_loss: 0.0129 - lr: 0.0010\n",
      "Epoch 45/200\n",
      "4/4 [==============================] - 0s 20ms/step - loss: 0.0098 - val_loss: 0.0076 - lr: 0.0010\n",
      "Epoch 46/200\n",
      "4/4 [==============================] - 0s 19ms/step - loss: 0.0074 - val_loss: 0.0069 - lr: 0.0010\n",
      "Epoch 47/200\n",
      "4/4 [==============================] - 0s 18ms/step - loss: 0.0060 - val_loss: 0.0054 - lr: 0.0010\n",
      "Epoch 48/200\n",
      "4/4 [==============================] - 0s 18ms/step - loss: 0.0048 - val_loss: 0.0041 - lr: 0.0010\n",
      "Epoch 49/200\n",
      "4/4 [==============================] - 0s 18ms/step - loss: 0.0040 - val_loss: 0.0033 - lr: 0.0010\n",
      "Epoch 50/200\n",
      "4/4 [==============================] - 0s 17ms/step - loss: 0.0038 - val_loss: 0.0027 - lr: 0.0010\n",
      "Epoch 51/200\n",
      "4/4 [==============================] - 0s 17ms/step - loss: 0.0027 - val_loss: 0.0045 - lr: 1.0000e-04\n",
      "Epoch 52/200\n",
      "4/4 [==============================] - 0s 17ms/step - loss: 0.0038 - val_loss: 0.0048 - lr: 1.0000e-04\n",
      "Epoch 53/200\n",
      "4/4 [==============================] - 0s 18ms/step - loss: 0.0035 - val_loss: 0.0031 - lr: 1.0000e-04\n",
      "Epoch 54/200\n",
      "4/4 [==============================] - 0s 18ms/step - loss: 0.0021 - val_loss: 0.0018 - lr: 1.0000e-04\n",
      "Epoch 55/200\n",
      "4/4 [==============================] - 0s 20ms/step - loss: 0.0016 - val_loss: 0.0015 - lr: 1.0000e-04\n",
      "Epoch 56/200\n",
      "4/4 [==============================] - 0s 16ms/step - loss: 0.0018 - val_loss: 0.0015 - lr: 1.0000e-04\n",
      "Epoch 57/200\n",
      "4/4 [==============================] - 0s 19ms/step - loss: 0.0018 - val_loss: 0.0014 - lr: 1.0000e-04\n",
      "Epoch 58/200\n",
      "4/4 [==============================] - 0s 23ms/step - loss: 0.0015 - val_loss: 0.0015 - lr: 1.0000e-04\n",
      "Epoch 59/200\n",
      "4/4 [==============================] - 0s 27ms/step - loss: 0.0014 - val_loss: 0.0016 - lr: 1.0000e-04\n",
      "Epoch 60/200\n",
      "4/4 [==============================] - 0s 33ms/step - loss: 0.0014 - val_loss: 0.0016 - lr: 1.0000e-04\n",
      "Epoch 61/200\n",
      "4/4 [==============================] - 0s 30ms/step - loss: 0.0014 - val_loss: 0.0015 - lr: 1.0000e-04\n",
      "Epoch 62/200\n",
      "4/4 [==============================] - 0s 23ms/step - loss: 0.0013 - val_loss: 0.0013 - lr: 1.0000e-04\n",
      "Epoch 63/200\n",
      "4/4 [==============================] - 0s 22ms/step - loss: 0.0013 - val_loss: 0.0013 - lr: 1.0000e-04\n",
      "Epoch 64/200\n",
      "4/4 [==============================] - 0s 23ms/step - loss: 0.0013 - val_loss: 0.0012 - lr: 1.0000e-04\n",
      "Epoch 65/200\n",
      "4/4 [==============================] - 0s 37ms/step - loss: 0.0012 - val_loss: 0.0012 - lr: 1.0000e-04\n",
      "Epoch 66/200\n",
      "4/4 [==============================] - 0s 15ms/step - loss: 0.0012 - val_loss: 0.0013 - lr: 1.0000e-04\n",
      "Epoch 67/200\n",
      "4/4 [==============================] - 0s 15ms/step - loss: 0.0012 - val_loss: 0.0012 - lr: 1.0000e-04\n",
      "Epoch 68/200\n",
      "4/4 [==============================] - 0s 16ms/step - loss: 0.0012 - val_loss: 0.0012 - lr: 1.0000e-04\n",
      "Epoch 69/200\n",
      "4/4 [==============================] - 0s 12ms/step - loss: 0.0011 - val_loss: 0.0012 - lr: 1.0000e-04\n",
      "Epoch 70/200\n",
      "4/4 [==============================] - 0s 10ms/step - loss: 0.0011 - val_loss: 0.0012 - lr: 1.0000e-04\n",
      "Epoch 71/200\n",
      "4/4 [==============================] - 0s 15ms/step - loss: 0.0011 - val_loss: 0.0012 - lr: 1.0000e-04\n",
      "Epoch 72/200\n",
      "4/4 [==============================] - 0s 15ms/step - loss: 0.0011 - val_loss: 0.0011 - lr: 1.0000e-04\n",
      "Epoch 73/200\n"
     ]
    },
    {
     "name": "stdout",
     "output_type": "stream",
     "text": [
      "4/4 [==============================] - 0s 15ms/step - loss: 0.0011 - val_loss: 0.0011 - lr: 1.0000e-04\n",
      "Epoch 74/200\n",
      "4/4 [==============================] - 0s 17ms/step - loss: 0.0011 - val_loss: 0.0011 - lr: 1.0000e-04\n",
      "Epoch 75/200\n",
      "4/4 [==============================] - 0s 15ms/step - loss: 0.0010 - val_loss: 0.0011 - lr: 1.0000e-04\n",
      "Epoch 76/200\n",
      "4/4 [==============================] - 0s 15ms/step - loss: 0.0010 - val_loss: 0.0011 - lr: 1.0000e-04\n",
      "Epoch 77/200\n",
      "4/4 [==============================] - 0s 15ms/step - loss: 0.0010 - val_loss: 0.0011 - lr: 1.0000e-04\n",
      "Epoch 78/200\n",
      "4/4 [==============================] - 0s 16ms/step - loss: 9.9379e-04 - val_loss: 0.0010 - lr: 1.0000e-04\n",
      "Epoch 79/200\n",
      "4/4 [==============================] - 0s 18ms/step - loss: 9.7696e-04 - val_loss: 0.0010 - lr: 1.0000e-04\n",
      "Epoch 80/200\n",
      "4/4 [==============================] - 0s 19ms/step - loss: 9.6278e-04 - val_loss: 0.0010 - lr: 1.0000e-04\n",
      "Epoch 81/200\n",
      "4/4 [==============================] - 0s 19ms/step - loss: 9.4575e-04 - val_loss: 9.8086e-04 - lr: 1.0000e-04\n",
      "Epoch 82/200\n",
      "4/4 [==============================] - 0s 21ms/step - loss: 9.3131e-04 - val_loss: 9.4971e-04 - lr: 1.0000e-04\n",
      "Epoch 83/200\n",
      "4/4 [==============================] - 0s 19ms/step - loss: 9.1596e-04 - val_loss: 9.3917e-04 - lr: 1.0000e-04\n",
      "Epoch 84/200\n",
      "4/4 [==============================] - 0s 21ms/step - loss: 9.0080e-04 - val_loss: 9.2762e-04 - lr: 1.0000e-04\n",
      "Epoch 85/200\n",
      "4/4 [==============================] - 0s 15ms/step - loss: 8.8574e-04 - val_loss: 9.2548e-04 - lr: 1.0000e-04\n",
      "Epoch 86/200\n",
      "4/4 [==============================] - 0s 20ms/step - loss: 8.7273e-04 - val_loss: 9.1872e-04 - lr: 1.0000e-04\n",
      "Epoch 87/200\n",
      "4/4 [==============================] - 0s 25ms/step - loss: 8.5876e-04 - val_loss: 8.9155e-04 - lr: 1.0000e-04\n",
      "Epoch 88/200\n",
      "4/4 [==============================] - 0s 22ms/step - loss: 8.4724e-04 - val_loss: 8.6807e-04 - lr: 1.0000e-04\n",
      "Epoch 89/200\n",
      "4/4 [==============================] - 0s 20ms/step - loss: 8.3003e-04 - val_loss: 8.6492e-04 - lr: 1.0000e-04\n",
      "Epoch 90/200\n",
      "4/4 [==============================] - 0s 18ms/step - loss: 8.1881e-04 - val_loss: 8.7734e-04 - lr: 1.0000e-04\n",
      "Epoch 91/200\n",
      "4/4 [==============================] - 0s 19ms/step - loss: 8.1660e-04 - val_loss: 8.9128e-04 - lr: 1.0000e-04\n",
      "Epoch 92/200\n",
      "4/4 [==============================] - 0s 19ms/step - loss: 8.0220e-04 - val_loss: 8.6764e-04 - lr: 1.0000e-04\n",
      "Epoch 93/200\n",
      "4/4 [==============================] - 0s 23ms/step - loss: 7.8604e-04 - val_loss: 8.1815e-04 - lr: 1.0000e-04\n",
      "Epoch 94/200\n",
      "4/4 [==============================] - 0s 19ms/step - loss: 7.6660e-04 - val_loss: 7.9740e-04 - lr: 1.0000e-04\n",
      "Epoch 95/200\n",
      "4/4 [==============================] - 0s 15ms/step - loss: 7.5331e-04 - val_loss: 7.7207e-04 - lr: 1.0000e-04\n",
      "Epoch 96/200\n",
      "4/4 [==============================] - 0s 15ms/step - loss: 7.4629e-04 - val_loss: 7.5165e-04 - lr: 1.0000e-04\n",
      "Epoch 97/200\n",
      "4/4 [==============================] - 0s 15ms/step - loss: 7.3135e-04 - val_loss: 7.4996e-04 - lr: 1.0000e-04\n",
      "Epoch 98/200\n",
      "4/4 [==============================] - 0s 15ms/step - loss: 7.1804e-04 - val_loss: 7.5342e-04 - lr: 1.0000e-04\n",
      "Epoch 99/200\n",
      "4/4 [==============================] - 0s 15ms/step - loss: 7.1107e-04 - val_loss: 7.5314e-04 - lr: 1.0000e-04\n",
      "Epoch 100/200\n",
      "4/4 [==============================] - 0s 16ms/step - loss: 6.9674e-04 - val_loss: 7.2515e-04 - lr: 1.0000e-04\n",
      "Epoch 101/200\n",
      "4/4 [==============================] - 0s 15ms/step - loss: 6.8495e-04 - val_loss: 6.9961e-04 - lr: 1.0000e-04\n",
      "Epoch 102/200\n",
      "4/4 [==============================] - 0s 15ms/step - loss: 6.7557e-04 - val_loss: 6.8351e-04 - lr: 1.0000e-04\n",
      "Epoch 103/200\n",
      "4/4 [==============================] - 0s 17ms/step - loss: 6.6303e-04 - val_loss: 6.8196e-04 - lr: 1.0000e-04\n",
      "Epoch 104/200\n",
      "4/4 [==============================] - 0s 15ms/step - loss: 6.5275e-04 - val_loss: 6.8682e-04 - lr: 1.0000e-04\n",
      "Epoch 105/200\n",
      "4/4 [==============================] - 0s 15ms/step - loss: 6.4221e-04 - val_loss: 6.8023e-04 - lr: 1.0000e-04\n",
      "Epoch 106/200\n",
      "4/4 [==============================] - 0s 15ms/step - loss: 6.3279e-04 - val_loss: 6.6783e-04 - lr: 1.0000e-04\n",
      "Epoch 107/200\n",
      "4/4 [==============================] - 0s 16ms/step - loss: 6.2247e-04 - val_loss: 6.5439e-04 - lr: 1.0000e-04\n",
      "Epoch 108/200\n",
      "4/4 [==============================] - 0s 16ms/step - loss: 6.1395e-04 - val_loss: 6.3142e-04 - lr: 1.0000e-04\n",
      "Epoch 109/200\n",
      "4/4 [==============================] - 0s 15ms/step - loss: 6.0150e-04 - val_loss: 6.2286e-04 - lr: 1.0000e-04\n",
      "Epoch 110/200\n",
      "4/4 [==============================] - 0s 16ms/step - loss: 5.9170e-04 - val_loss: 6.1167e-04 - lr: 1.0000e-04\n",
      "Epoch 111/200\n",
      "4/4 [==============================] - 0s 15ms/step - loss: 5.8295e-04 - val_loss: 5.9776e-04 - lr: 1.0000e-04\n",
      "Epoch 112/200\n",
      "4/4 [==============================] - 0s 17ms/step - loss: 5.7324e-04 - val_loss: 5.8343e-04 - lr: 1.0000e-04\n",
      "Epoch 113/200\n",
      "4/4 [==============================] - 0s 15ms/step - loss: 5.6577e-04 - val_loss: 5.6888e-04 - lr: 1.0000e-04\n",
      "Epoch 114/200\n",
      "4/4 [==============================] - 0s 15ms/step - loss: 5.6030e-04 - val_loss: 5.5222e-04 - lr: 1.0000e-04\n",
      "Epoch 115/200\n",
      "4/4 [==============================] - 0s 16ms/step - loss: 5.5026e-04 - val_loss: 5.4616e-04 - lr: 1.0000e-04\n",
      "Epoch 116/200\n",
      "4/4 [==============================] - 0s 23ms/step - loss: 5.4029e-04 - val_loss: 5.5525e-04 - lr: 1.0000e-04\n",
      "Epoch 117/200\n",
      "4/4 [==============================] - 0s 23ms/step - loss: 5.2732e-04 - val_loss: 5.6166e-04 - lr: 1.0000e-04\n",
      "Epoch 118/200\n",
      "4/4 [==============================] - 0s 22ms/step - loss: 5.2381e-04 - val_loss: 5.6658e-04 - lr: 1.0000e-04\n",
      "Epoch 119/200\n",
      "4/4 [==============================] - 0s 18ms/step - loss: 5.1522e-04 - val_loss: 5.4103e-04 - lr: 1.0000e-04\n",
      "Epoch 120/200\n",
      "4/4 [==============================] - 0s 16ms/step - loss: 5.0460e-04 - val_loss: 5.2192e-04 - lr: 1.0000e-04\n",
      "Epoch 121/200\n",
      "4/4 [==============================] - 0s 16ms/step - loss: 4.9658e-04 - val_loss: 5.0870e-04 - lr: 1.0000e-04\n",
      "Epoch 122/200\n",
      "4/4 [==============================] - 0s 18ms/step - loss: 4.8690e-04 - val_loss: 5.0590e-04 - lr: 1.0000e-04\n",
      "Epoch 123/200\n",
      "4/4 [==============================] - 0s 15ms/step - loss: 4.7973e-04 - val_loss: 5.0551e-04 - lr: 1.0000e-04\n",
      "Epoch 124/200\n",
      "4/4 [==============================] - 0s 15ms/step - loss: 4.7249e-04 - val_loss: 5.0491e-04 - lr: 1.0000e-04\n",
      "Epoch 125/200\n",
      "4/4 [==============================] - 0s 15ms/step - loss: 4.6609e-04 - val_loss: 4.9483e-04 - lr: 1.0000e-04\n",
      "Epoch 126/200\n",
      "4/4 [==============================] - 0s 15ms/step - loss: 4.5826e-04 - val_loss: 4.8582e-04 - lr: 1.0000e-04\n",
      "Epoch 127/200\n",
      "4/4 [==============================] - 0s 15ms/step - loss: 4.5046e-04 - val_loss: 4.7663e-04 - lr: 1.0000e-04\n",
      "Epoch 128/200\n",
      "4/4 [==============================] - 0s 15ms/step - loss: 4.4342e-04 - val_loss: 4.6667e-04 - lr: 1.0000e-04\n",
      "Epoch 129/200\n",
      "4/4 [==============================] - 0s 16ms/step - loss: 4.3628e-04 - val_loss: 4.4935e-04 - lr: 1.0000e-04\n",
      "Epoch 130/200\n",
      "4/4 [==============================] - 0s 15ms/step - loss: 4.3035e-04 - val_loss: 4.3906e-04 - lr: 1.0000e-04\n",
      "Epoch 131/200\n",
      "4/4 [==============================] - 0s 17ms/step - loss: 4.2226e-04 - val_loss: 4.4424e-04 - lr: 1.0000e-04\n",
      "Epoch 132/200\n",
      "4/4 [==============================] - 0s 15ms/step - loss: 4.1514e-04 - val_loss: 4.3993e-04 - lr: 1.0000e-04\n",
      "Epoch 133/200\n",
      "4/4 [==============================] - 0s 15ms/step - loss: 4.0895e-04 - val_loss: 4.3287e-04 - lr: 1.0000e-04\n",
      "Epoch 134/200\n",
      "4/4 [==============================] - 0s 15ms/step - loss: 4.0223e-04 - val_loss: 4.2551e-04 - lr: 1.0000e-04\n",
      "Epoch 135/200\n",
      "4/4 [==============================] - 0s 12ms/step - loss: 3.9561e-04 - val_loss: 4.1512e-04 - lr: 1.0000e-04\n",
      "Epoch 136/200\n",
      "4/4 [==============================] - 0s 15ms/step - loss: 3.8858e-04 - val_loss: 3.9990e-04 - lr: 1.0000e-04\n",
      "Epoch 137/200\n",
      "4/4 [==============================] - 0s 15ms/step - loss: 3.8262e-04 - val_loss: 3.9030e-04 - lr: 1.0000e-04\n",
      "Epoch 138/200\n",
      "4/4 [==============================] - 0s 15ms/step - loss: 3.7672e-04 - val_loss: 3.8400e-04 - lr: 1.0000e-04\n",
      "Epoch 139/200\n"
     ]
    },
    {
     "name": "stdout",
     "output_type": "stream",
     "text": [
      "4/4 [==============================] - 0s 15ms/step - loss: 3.7085e-04 - val_loss: 3.7873e-04 - lr: 1.0000e-04\n",
      "Epoch 140/200\n",
      "4/4 [==============================] - 0s 15ms/step - loss: 3.6503e-04 - val_loss: 3.7920e-04 - lr: 1.0000e-04\n",
      "Epoch 141/200\n",
      "4/4 [==============================] - 0s 16ms/step - loss: 3.5863e-04 - val_loss: 3.7472e-04 - lr: 1.0000e-04\n",
      "Epoch 142/200\n",
      "4/4 [==============================] - 0s 15ms/step - loss: 3.5328e-04 - val_loss: 3.6980e-04 - lr: 1.0000e-04\n",
      "Epoch 143/200\n",
      "4/4 [==============================] - 0s 16ms/step - loss: 3.4728e-04 - val_loss: 3.6766e-04 - lr: 1.0000e-04\n",
      "Epoch 144/200\n",
      "4/4 [==============================] - 0s 15ms/step - loss: 3.4247e-04 - val_loss: 3.5973e-04 - lr: 1.0000e-04\n",
      "Epoch 145/200\n",
      "4/4 [==============================] - 0s 15ms/step - loss: 3.3592e-04 - val_loss: 3.4854e-04 - lr: 1.0000e-04\n",
      "Epoch 146/200\n",
      "4/4 [==============================] - 0s 17ms/step - loss: 3.3143e-04 - val_loss: 3.3479e-04 - lr: 1.0000e-04\n",
      "Epoch 147/200\n",
      "4/4 [==============================] - 0s 22ms/step - loss: 3.2672e-04 - val_loss: 3.2816e-04 - lr: 1.0000e-04\n",
      "Epoch 148/200\n",
      "4/4 [==============================] - 0s 23ms/step - loss: 3.2396e-04 - val_loss: 3.2143e-04 - lr: 1.0000e-04\n",
      "Epoch 149/200\n",
      "4/4 [==============================] - 0s 25ms/step - loss: 3.1465e-04 - val_loss: 3.2873e-04 - lr: 1.0000e-04\n",
      "Epoch 150/200\n",
      "4/4 [==============================] - 0s 22ms/step - loss: 3.0974e-04 - val_loss: 3.3821e-04 - lr: 1.0000e-04\n",
      "Epoch 151/200\n",
      "4/4 [==============================] - 0s 15ms/step - loss: 3.0798e-04 - val_loss: 3.3365e-04 - lr: 1.0000e-04\n",
      "Epoch 152/200\n",
      "4/4 [==============================] - 0s 15ms/step - loss: 3.0259e-04 - val_loss: 3.1531e-04 - lr: 1.0000e-04\n",
      "Epoch 153/200\n",
      "4/4 [==============================] - 0s 16ms/step - loss: 2.9561e-04 - val_loss: 3.0194e-04 - lr: 1.0000e-04\n",
      "Epoch 154/200\n",
      "4/4 [==============================] - 0s 16ms/step - loss: 2.9063e-04 - val_loss: 2.9794e-04 - lr: 1.0000e-04\n",
      "Epoch 155/200\n",
      "4/4 [==============================] - 0s 15ms/step - loss: 2.8658e-04 - val_loss: 2.9750e-04 - lr: 1.0000e-04\n",
      "Epoch 156/200\n",
      "4/4 [==============================] - 0s 15ms/step - loss: 2.8215e-04 - val_loss: 2.8933e-04 - lr: 1.0000e-04\n",
      "Epoch 157/200\n",
      "4/4 [==============================] - 0s 15ms/step - loss: 2.7659e-04 - val_loss: 2.8776e-04 - lr: 1.0000e-04\n",
      "Epoch 158/200\n",
      "4/4 [==============================] - 0s 15ms/step - loss: 2.7386e-04 - val_loss: 2.8888e-04 - lr: 1.0000e-04\n",
      "Epoch 159/200\n",
      "4/4 [==============================] - 0s 16ms/step - loss: 2.6840e-04 - val_loss: 2.7654e-04 - lr: 1.0000e-04\n",
      "Epoch 160/200\n",
      "4/4 [==============================] - 0s 17ms/step - loss: 2.6349e-04 - val_loss: 2.6932e-04 - lr: 1.0000e-04\n",
      "Epoch 161/200\n",
      "4/4 [==============================] - 0s 15ms/step - loss: 2.6254e-04 - val_loss: 2.5909e-04 - lr: 1.0000e-04\n",
      "Epoch 162/200\n",
      "4/4 [==============================] - 0s 17ms/step - loss: 2.5701e-04 - val_loss: 2.5836e-04 - lr: 1.0000e-04\n",
      "Epoch 163/200\n",
      "4/4 [==============================] - 0s 15ms/step - loss: 2.5009e-04 - val_loss: 2.6290e-04 - lr: 1.0000e-04\n",
      "Epoch 164/200\n",
      "4/4 [==============================] - 0s 15ms/step - loss: 2.4668e-04 - val_loss: 2.6701e-04 - lr: 1.0000e-04\n",
      "Epoch 165/200\n",
      "4/4 [==============================] - 0s 15ms/step - loss: 2.4625e-04 - val_loss: 2.6415e-04 - lr: 1.0000e-04\n",
      "Epoch 166/200\n",
      "4/4 [==============================] - 0s 16ms/step - loss: 2.3919e-04 - val_loss: 2.4762e-04 - lr: 1.0000e-04\n",
      "Epoch 167/200\n",
      "4/4 [==============================] - 0s 15ms/step - loss: 2.3606e-04 - val_loss: 2.3512e-04 - lr: 1.0000e-04\n",
      "Epoch 168/200\n",
      "4/4 [==============================] - 0s 15ms/step - loss: 2.3433e-04 - val_loss: 2.2993e-04 - lr: 1.0000e-04\n",
      "Epoch 169/200\n",
      "4/4 [==============================] - 0s 18ms/step - loss: 2.3017e-04 - val_loss: 2.3350e-04 - lr: 1.0000e-04\n",
      "Epoch 170/200\n",
      "4/4 [==============================] - 0s 14ms/step - loss: 2.2504e-04 - val_loss: 2.3645e-04 - lr: 1.0000e-04\n",
      "Epoch 171/200\n",
      "4/4 [==============================] - 0s 15ms/step - loss: 2.2110e-04 - val_loss: 2.2994e-04 - lr: 1.0000e-04\n",
      "Epoch 172/200\n",
      "4/4 [==============================] - 0s 15ms/step - loss: 2.1723e-04 - val_loss: 2.2652e-04 - lr: 1.0000e-04\n",
      "Epoch 173/200\n",
      "4/4 [==============================] - 0s 16ms/step - loss: 2.1429e-04 - val_loss: 2.2809e-04 - lr: 1.0000e-04\n",
      "Epoch 174/200\n",
      "4/4 [==============================] - 0s 16ms/step - loss: 2.1089e-04 - val_loss: 2.2509e-04 - lr: 1.0000e-04\n",
      "Epoch 175/200\n",
      "4/4 [==============================] - 0s 15ms/step - loss: 2.0767e-04 - val_loss: 2.2030e-04 - lr: 1.0000e-04\n",
      "Epoch 176/200\n",
      "4/4 [==============================] - 0s 15ms/step - loss: 2.0336e-04 - val_loss: 2.1106e-04 - lr: 1.0000e-04\n",
      "Epoch 177/200\n",
      "4/4 [==============================] - 0s 19ms/step - loss: 1.9975e-04 - val_loss: 2.0359e-04 - lr: 1.0000e-04\n",
      "Epoch 178/200\n",
      "4/4 [==============================] - 0s 24ms/step - loss: 1.9844e-04 - val_loss: 1.9782e-04 - lr: 1.0000e-04\n",
      "Epoch 179/200\n",
      "4/4 [==============================] - 0s 26ms/step - loss: 1.9420e-04 - val_loss: 1.9766e-04 - lr: 1.0000e-04\n",
      "Epoch 180/200\n",
      "4/4 [==============================] - 0s 20ms/step - loss: 1.9050e-04 - val_loss: 1.9784e-04 - lr: 1.0000e-04\n",
      "Epoch 181/200\n",
      "4/4 [==============================] - 0s 15ms/step - loss: 1.8836e-04 - val_loss: 2.0389e-04 - lr: 1.0000e-04\n",
      "Epoch 182/200\n",
      "4/4 [==============================] - 0s 14ms/step - loss: 1.8636e-04 - val_loss: 2.0043e-04 - lr: 1.0000e-04\n",
      "Epoch 183/200\n",
      "4/4 [==============================] - 0s 15ms/step - loss: 1.8253e-04 - val_loss: 1.9149e-04 - lr: 1.0000e-04\n",
      "Epoch 184/200\n",
      "4/4 [==============================] - 0s 15ms/step - loss: 1.7853e-04 - val_loss: 1.8347e-04 - lr: 1.0000e-04\n",
      "Epoch 185/200\n",
      "4/4 [==============================] - 0s 15ms/step - loss: 1.7582e-04 - val_loss: 1.7701e-04 - lr: 1.0000e-04\n",
      "Epoch 186/200\n",
      "4/4 [==============================] - 0s 15ms/step - loss: 1.7372e-04 - val_loss: 1.7391e-04 - lr: 1.0000e-04\n",
      "Epoch 187/200\n",
      "4/4 [==============================] - 0s 15ms/step - loss: 1.7089e-04 - val_loss: 1.7366e-04 - lr: 1.0000e-04\n",
      "Epoch 188/200\n",
      "4/4 [==============================] - 0s 17ms/step - loss: 1.6804e-04 - val_loss: 1.7442e-04 - lr: 1.0000e-04\n",
      "Epoch 189/200\n",
      "4/4 [==============================] - 0s 16ms/step - loss: 1.6484e-04 - val_loss: 1.7392e-04 - lr: 1.0000e-04\n",
      "Epoch 190/200\n",
      "4/4 [==============================] - 0s 15ms/step - loss: 1.6245e-04 - val_loss: 1.7433e-04 - lr: 1.0000e-04\n",
      "Epoch 191/200\n",
      "4/4 [==============================] - 0s 15ms/step - loss: 1.6089e-04 - val_loss: 1.7240e-04 - lr: 1.0000e-04\n",
      "Epoch 192/200\n",
      "4/4 [==============================] - 0s 14ms/step - loss: 1.5824e-04 - val_loss: 1.6538e-04 - lr: 1.0000e-04\n",
      "Epoch 193/200\n",
      "4/4 [==============================] - 0s 15ms/step - loss: 1.5459e-04 - val_loss: 1.6164e-04 - lr: 1.0000e-04\n",
      "Epoch 194/200\n",
      "4/4 [==============================] - 0s 15ms/step - loss: 1.5218e-04 - val_loss: 1.5752e-04 - lr: 1.0000e-04\n",
      "Epoch 195/200\n",
      "4/4 [==============================] - 0s 14ms/step - loss: 1.4967e-04 - val_loss: 1.5508e-04 - lr: 1.0000e-04\n",
      "Epoch 196/200\n",
      "4/4 [==============================] - 0s 15ms/step - loss: 1.4725e-04 - val_loss: 1.5318e-04 - lr: 1.0000e-04\n",
      "Epoch 197/200\n",
      "4/4 [==============================] - 0s 15ms/step - loss: 1.4510e-04 - val_loss: 1.5202e-04 - lr: 1.0000e-04\n",
      "Epoch 198/200\n",
      "4/4 [==============================] - 0s 18ms/step - loss: 1.4287e-04 - val_loss: 1.4799e-04 - lr: 1.0000e-04\n",
      "Epoch 199/200\n",
      "4/4 [==============================] - 0s 15ms/step - loss: 1.4028e-04 - val_loss: 1.4592e-04 - lr: 1.0000e-04\n",
      "Epoch 200/200\n",
      "4/4 [==============================] - 0s 16ms/step - loss: 1.3888e-04 - val_loss: 1.4523e-04 - lr: 1.0000e-04\n"
     ]
    }
   ],
   "source": [
    "hist = model.fit(X_train, y_train, validation_data=(X_test, y_test), epochs=200, callbacks=[scheduler])"
   ]
  },
  {
   "cell_type": "code",
   "execution_count": 13,
   "metadata": {},
   "outputs": [
    {
     "name": "stdout",
     "output_type": "stream",
     "text": [
      "4/4 [==============================] - 0s 2ms/step - loss: 1.3652e-04\n",
      "Train Score :  0.00013651773042511195\n",
      "2/2 [==============================] - 0s 2ms/step - loss: 1.4523e-04\n",
      "Test Score :  0.0001452346914447844\n"
     ]
    }
   ],
   "source": [
    "print(\"Train Score : \", model.evaluate(X_train, y_train))\n",
    "print(\"Test Score : \", model.evaluate(X_test, y_test))"
   ]
  },
  {
   "cell_type": "code",
   "execution_count": 14,
   "metadata": {},
   "outputs": [
    {
     "data": {
      "text/plain": [
       "<matplotlib.legend.Legend at 0x183cd06de08>"
      ]
     },
     "execution_count": 14,
     "metadata": {},
     "output_type": "execute_result"
    },
    {
     "data": {
      "image/png": "[encoded data removed]",
      "text/plain": [
       "<Figure size 432x288 with 1 Axes>"
      ]
     },
     "metadata": {
      "needs_background": "light"
     },
     "output_type": "display_data"
    }
   ],
   "source": [
    "plt.plot(hist.history['loss'], label='loss')\n",
    "plt.plot(hist.history['val_loss'], label='val_loss')\n",
    "plt.legend()"
   ]
  },
  {
   "cell_type": "code",
   "execution_count": 15,
   "metadata": {},
   "outputs": [
    {
     "name": "stdout",
     "output_type": "stream",
     "text": [
      "[<tensorflow.python.keras.layers.core.Dense object at 0x00000183C4DDFC08>]\n"
     ]
    }
   ],
   "source": [
    "print(model.layers)"
   ]
  },
  {
   "cell_type": "code",
   "execution_count": 16,
   "metadata": {},
   "outputs": [
    {
     "name": "stdout",
     "output_type": "stream",
     "text": [
      "[array([[0.0003983]], dtype=float32), array([7.5902524], dtype=float32)]\n"
     ]
    }
   ],
   "source": [
    "print(model.layers[0].get_weights())"
   ]
  },
  {
   "cell_type": "code",
   "execution_count": 17,
   "metadata": {},
   "outputs": [
    {
     "name": "stdout",
     "output_type": "stream",
     "text": [
      "0.0003983031\n"
     ]
    }
   ],
   "source": [
    "#Slope of the line\n",
    "print(model.layers[0].get_weights()[0][0,0])"
   ]
  },
  {
   "cell_type": "code",
   "execution_count": 18,
   "metadata": {},
   "outputs": [
    {
     "name": "stdout",
     "output_type": "stream",
     "text": [
      "Time to double: 1424.8739635830732\n"
     ]
    }
   ],
   "source": [
    "print(\"Time to double:\", np.log(2)/0.0004864621)"
   ]
  },
  {
   "cell_type": "code",
   "execution_count": 19,
   "metadata": {},
   "outputs": [
    {
     "name": "stdout",
     "output_type": "stream",
     "text": [
      "[0.00050062] [7.60197732]\n",
      "Time to double : [1384.57144359]\n"
     ]
    }
   ],
   "source": [
    "X = np.array(X).flatten()\n",
    "Y = np.array(y)\n",
    "deno = X.dot(X) - X.mean() * X.sum()\n",
    "a = (X.dot(y) - y.mean() * X.sum()) / deno\n",
    "b = (y.mean() * X.dot(X) - X.mean() * X.dot(y))/deno\n",
    "print(a,b)\n",
    "print(\"Time to double :\", np.log(2) / a)"
   ]
  },
  {
   "cell_type": "markdown",
   "metadata": {},
   "source": [
    "### Predict"
   ]
  },
  {
   "cell_type": "code",
   "execution_count": 20,
   "metadata": {},
   "outputs": [
    {
     "data": {
      "image/png": "[encoded data removed]",
      "text/plain": [
       "<Figure size 432x288 with 1 Axes>"
      ]
     },
     "metadata": {
      "needs_background": "light"
     },
     "output_type": "display_data"
    }
   ],
   "source": [
    "Yhat = model.predict(X).flatten()\n",
    "plt.scatter(X,y)\n",
    "plt.plot(X,Yhat)\n",
    "plt.show()"
   ]
  },
  {
   "cell_type": "code",
   "execution_count": 21,
   "metadata": {},
   "outputs": [
    {
     "data": {
      "text/plain": [
       "True"
      ]
     },
     "execution_count": 21,
     "metadata": {},
     "output_type": "execute_result"
    }
   ],
   "source": [
    "#Manual Calculations\n",
    "w, b = model.layers[0].get_weights()\n",
    "# Reshape X because we flattened it earlier\n",
    "X = X.reshape(-1,1)\n",
    "Yhat2 = (X.dot(w) + b).flatten()\n",
    "np.allclose(Yhat, Yhat2)"
   ]
  },
  {
   "cell_type": "code",
   "execution_count": null,
   "metadata": {},
   "outputs": [],
   "source": [
    "model.save"
   ]
  }
 ],
 "metadata": {
  "kernelspec": {
   "display_name": "Python 3",
   "language": "python",
   "name": "python3"
  },
  "language_info": {
   "codemirror_mode": {
    "name": "ipython",
    "version": 3
   },
   "file_extension": ".py",
   "mimetype": "text/x-python",
   "name": "python",
   "nbconvert_exporter": "python",
   "pygments_lexer": "ipython3",
   "version": "3.7.6"
  }
 },
 "nbformat": 4,
 "nbformat_minor": 4
}
