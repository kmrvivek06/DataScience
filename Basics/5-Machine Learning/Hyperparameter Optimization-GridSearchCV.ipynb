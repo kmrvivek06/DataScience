{
 "cells": [
  {
   "cell_type": "markdown",
   "metadata": {},
   "source": [
    "<img src=\"../Pics/MLSb-T.png\" width=\"160\">\n",
    "<br><br>\n",
    "<center><u><H1>Hyperparameter Optimization: GridSearchCV</H1></u></center>"
   ]
  },
  {
   "cell_type": "code",
   "execution_count": 1,
   "metadata": {},
   "outputs": [],
   "source": [
    "from sklearn.datasets import load_iris\n",
    "import matplotlib.pyplot as plt\n",
    "%matplotlib inline\n",
    "import numpy as np"
   ]
  },
  {
   "cell_type": "markdown",
   "metadata": {},
   "source": [
    "## Data:"
   ]
  },
  {
   "cell_type": "code",
   "execution_count": 2,
   "metadata": {},
   "outputs": [],
   "source": [
    "iris = load_iris()\n",
    "X=iris.data\n",
    "y=iris.target"
   ]
  },
  {
   "cell_type": "code",
   "execution_count": 3,
   "metadata": {},
   "outputs": [],
   "source": [
    "from sklearn.preprocessing import StandardScaler\n",
    "sc = StandardScaler()\n",
    "sc.fit(X)\n",
    "X_std = sc.transform(X)"
   ]
  },
  {
   "cell_type": "markdown",
   "metadata": {},
   "source": [
    "## Models:"
   ]
  },
  {
   "cell_type": "code",
   "execution_count": 4,
   "metadata": {},
   "outputs": [],
   "source": [
    "from sklearn.neighbors import KNeighborsClassifier as KNN\n",
    "from sklearn.svm import SVC\n",
    "from sklearn.linear_model import LogisticRegression\n",
    "from sklearn.ensemble import RandomForestClassifier"
   ]
  },
  {
   "cell_type": "code",
   "execution_count": 5,
   "metadata": {},
   "outputs": [],
   "source": [
    "svm = SVC()\n",
    "knn = KNN()\n",
    "lr = LogisticRegression()\n",
    "rf = RandomForestClassifier()"
   ]
  },
  {
   "cell_type": "code",
   "execution_count": 6,
   "metadata": {},
   "outputs": [],
   "source": [
    "from sklearn.model_selection import GridSearchCV\n",
    "clf_svm = GridSearchCV(svm, {'kernel':['linear', 'poly','rbf'], 'C':[1, 10, 100]})\n",
    "clf_knn = GridSearchCV(knn, {'n_neighbors':[2, 5, 8, 10]})\n",
    "clf_lr = GridSearchCV(lr, {'C':[1000, 100, 10, 1]})\n",
    "clf_rf = GridSearchCV(rf, {'n_estimators':[50,100,500,1000]})"
   ]
  },
  {
   "cell_type": "code",
   "execution_count": 7,
   "metadata": {},
   "outputs": [
    {
     "data": {
      "text/plain": [
       "GridSearchCV(cv=None, error_score='raise',\n",
       "       estimator=RandomForestClassifier(bootstrap=True, class_weight=None, criterion='gini',\n",
       "            max_depth=None, max_features='auto', max_leaf_nodes=None,\n",
       "            min_impurity_decrease=0.0, min_impurity_split=None,\n",
       "            min_samples_leaf=1, min_samples_split=2,\n",
       "            min_weight_fraction_leaf=0.0, n_estimators=10, n_jobs=1,\n",
       "            oob_score=False, random_state=None, verbose=0,\n",
       "            warm_start=False),\n",
       "       fit_params=None, iid=True, n_jobs=1,\n",
       "       param_grid={'n_estimators': [50, 100, 500, 1000]},\n",
       "       pre_dispatch='2*n_jobs', refit=True, return_train_score='warn',\n",
       "       scoring=None, verbose=0)"
      ]
     },
     "execution_count": 7,
     "metadata": {},
     "output_type": "execute_result"
    }
   ],
   "source": [
    "clf_svm.fit(X_std, y)\n",
    "clf_knn.fit(X_std, y)\n",
    "clf_lr.fit(X_std, y)\n",
    "clf_rf.fit(X_std, y)"
   ]
  },
  {
   "cell_type": "markdown",
   "metadata": {},
   "source": [
    "## Best Params:"
   ]
  },
  {
   "cell_type": "code",
   "execution_count": 8,
   "metadata": {},
   "outputs": [
    {
     "name": "stdout",
     "output_type": "stream",
     "text": [
      "{'C': 1000}\n"
     ]
    }
   ],
   "source": [
    "print(clf_lr.best_params_)"
   ]
  },
  {
   "cell_type": "code",
   "execution_count": 9,
   "metadata": {},
   "outputs": [
    {
     "name": "stdout",
     "output_type": "stream",
     "text": [
      "{'n_neighbors': 8}\n"
     ]
    }
   ],
   "source": [
    "print(clf_knn.best_params_)"
   ]
  },
  {
   "cell_type": "code",
   "execution_count": 10,
   "metadata": {},
   "outputs": [
    {
     "name": "stdout",
     "output_type": "stream",
     "text": [
      "{'kernel': 'rbf', 'C': 10}\n"
     ]
    }
   ],
   "source": [
    "print(clf_svm.best_params_)"
   ]
  },
  {
   "cell_type": "code",
   "execution_count": 11,
   "metadata": {},
   "outputs": [
    {
     "name": "stdout",
     "output_type": "stream",
     "text": [
      "{'n_estimators': 100}\n"
     ]
    }
   ],
   "source": [
    "print(clf_rf.best_params_)"
   ]
  },
  {
   "cell_type": "code",
   "execution_count": 12,
   "metadata": {},
   "outputs": [
    {
     "name": "stdout",
     "output_type": "stream",
     "text": [
      "0.960 (+/-0.055) for {'C': 1000}\n",
      "0.960 (+/-0.055) for {'C': 100}\n",
      "0.927 (+/-0.036) for {'C': 10}\n",
      "0.900 (+/-0.033) for {'C': 1}\n"
     ]
    }
   ],
   "source": [
    "means = clf_lr.cv_results_['mean_test_score']\n",
    "stds = clf_lr.cv_results_['std_test_score']\n",
    "for mean, std, params in zip(means, stds, clf_lr.cv_results_['params']):\n",
    "    print(\"%0.3f (+/-%0.03f) for %r\"\n",
    "              % (mean, std * 2, params))"
   ]
  },
  {
   "cell_type": "code",
   "execution_count": 13,
   "metadata": {},
   "outputs": [
    {
     "name": "stdout",
     "output_type": "stream",
     "text": [
      "0.933 (+/-0.049) for {'n_neighbors': 2}\n",
      "0.947 (+/-0.067) for {'n_neighbors': 5}\n",
      "0.953 (+/-0.049) for {'n_neighbors': 8}\n",
      "0.947 (+/-0.050) for {'n_neighbors': 10}\n"
     ]
    }
   ],
   "source": [
    "means = clf_knn.cv_results_['mean_test_score']\n",
    "stds = clf_knn.cv_results_['std_test_score']\n",
    "for mean, std, params in zip(means, stds, clf_knn.cv_results_['params']):\n",
    "    print(\"%0.3f (+/-%0.03f) for %r\"\n",
    "              % (mean, std * 2, params))"
   ]
  },
  {
   "cell_type": "code",
   "execution_count": 14,
   "metadata": {},
   "outputs": [
    {
     "name": "stdout",
     "output_type": "stream",
     "text": [
      "0.973 (+/-0.074) for {'kernel': 'linear', 'C': 1}\n",
      "0.920 (+/-0.037) for {'kernel': 'poly', 'C': 1}\n",
      "0.960 (+/-0.055) for {'kernel': 'rbf', 'C': 1}\n",
      "0.973 (+/-0.074) for {'kernel': 'linear', 'C': 10}\n",
      "0.953 (+/-0.049) for {'kernel': 'poly', 'C': 10}\n",
      "0.987 (+/-0.037) for {'kernel': 'rbf', 'C': 10}\n",
      "0.973 (+/-0.074) for {'kernel': 'linear', 'C': 100}\n",
      "0.953 (+/-0.074) for {'kernel': 'poly', 'C': 100}\n",
      "0.960 (+/-0.085) for {'kernel': 'rbf', 'C': 100}\n"
     ]
    }
   ],
   "source": [
    "means = clf_svm.cv_results_['mean_test_score']\n",
    "stds = clf_svm.cv_results_['std_test_score']\n",
    "for mean, std, params in zip(means, stds, clf_svm.cv_results_['params']):\n",
    "    print(\"%0.3f (+/-%0.03f) for %r\"\n",
    "              % (mean, std * 2, params))"
   ]
  },
  {
   "cell_type": "code",
   "execution_count": 15,
   "metadata": {},
   "outputs": [
    {
     "name": "stdout",
     "output_type": "stream",
     "text": [
      "0.953 (+/-0.049) for {'n_estimators': 50}\n",
      "0.960 (+/-0.032) for {'n_estimators': 100}\n",
      "0.960 (+/-0.055) for {'n_estimators': 500}\n",
      "0.960 (+/-0.055) for {'n_estimators': 1000}\n"
     ]
    }
   ],
   "source": [
    "means = clf_rf.cv_results_['mean_test_score']\n",
    "stds = clf_rf.cv_results_['std_test_score']\n",
    "for mean, std, params in zip(means, stds, clf_rf.cv_results_['params']):\n",
    "    print(\"%0.3f (+/-%0.03f) for %r\"\n",
    "              % (mean, std * 2, params))"
   ]
  },
  {
   "cell_type": "markdown",
   "metadata": {},
   "source": [
    "## Reference:\n",
    "http://scikit-learn.org/stable/modules/grid_search.html"
   ]
  }
 ],
 "metadata": {
  "kernelspec": {
   "display_name": "Python 2",
   "language": "python",
   "name": "python2"
  },
  "language_info": {
   "codemirror_mode": {
    "name": "ipython",
    "version": 2
   },
   "file_extension": ".py",
   "mimetype": "text/x-python",
   "name": "python",
   "nbconvert_exporter": "python",
   "pygments_lexer": "ipython2",
   "version": "2.7.15"
  }
 },
 "nbformat": 4,
 "nbformat_minor": 2
}
