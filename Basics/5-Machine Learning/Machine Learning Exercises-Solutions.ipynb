{
 "cells": [
  {
   "cell_type": "markdown",
   "metadata": {},
   "source": [
    "<img src=\"../Pics/MLSb-T.png\" width=\"160\">\n",
    "<br><br>\n",
    "<center><u><H1>SOLUTIONS:Recognizing Hand Written digits</H1></u></center>"
   ]
  },
  {
   "cell_type": "code",
   "execution_count": 1,
   "metadata": {},
   "outputs": [],
   "source": [
    "import matplotlib.pyplot as plt\n",
    "import numpy as np\n",
    "import pandas as pd\n",
    "from sklearn.datasets import load_digits\n",
    "np.random.seed(seed=2017)\n",
    "%matplotlib inline"
   ]
  },
  {
   "cell_type": "markdown",
   "metadata": {},
   "source": [
    "### 1) Load the dataset digits from Sklearn.datasets and show the content of the row number 128, including the image and the target label."
   ]
  },
  {
   "cell_type": "code",
   "execution_count": 2,
   "metadata": {},
   "outputs": [
    {
     "data": {
      "text/plain": [
       "(array([[ 0.,  0.,  1., 11., 15.,  8.,  0.,  0.],\n",
       "        [ 0.,  0., 12., 14., 10., 16.,  5.,  0.],\n",
       "        [ 0.,  0., 16.,  7., 13., 16.,  4.,  0.],\n",
       "        [ 0.,  0.,  9., 15., 13., 16.,  4.,  0.],\n",
       "        [ 0.,  0.,  0.,  0.,  1., 15.,  4.,  0.],\n",
       "        [ 0.,  0.,  0.,  0.,  0., 16.,  4.,  0.],\n",
       "        [ 0.,  8., 16., 14.,  9., 16.,  4.,  0.],\n",
       "        [ 0.,  0.,  2., 10., 15., 15.,  2.,  0.]]), 9)"
      ]
     },
     "execution_count": 2,
     "metadata": {},
     "output_type": "execute_result"
    }
   ],
   "source": [
    "digits = load_digits()\n",
    "img_lbl = list(zip(digits.images, digits.target))\n",
    "img_lbl[128]"
   ]
  },
  {
   "cell_type": "markdown",
   "metadata": {},
   "source": [
    "### 2) Calculate the lenght of the dataset. How many images are in this dataset?"
   ]
  },
  {
   "cell_type": "code",
   "execution_count": 3,
   "metadata": {},
   "outputs": [
    {
     "data": {
      "text/plain": [
       "1797"
      ]
     },
     "execution_count": 3,
     "metadata": {},
     "output_type": "execute_result"
    }
   ],
   "source": [
    "n_samples = len(digits.images)\n",
    "n_samples"
   ]
  },
  {
   "cell_type": "markdown",
   "metadata": {},
   "source": [
    "### 3) Show the images for the first 8 values and also their corresponding labels."
   ]
  },
  {
   "cell_type": "code",
   "execution_count": 4,
   "metadata": {},
   "outputs": [
    {
     "data": {
      "image/png": "[encoded data removed]",
      "text/plain": [
       "<Figure size 432x288 with 8 Axes>"
      ]
     },
     "metadata": {},
     "output_type": "display_data"
    }
   ],
   "source": [
    "for index, (image, label) in enumerate(img_lbl[:8]):\n",
    "    plt.subplot(2, 4, index + 1)\n",
    "    plt.axis('off')\n",
    "    plt.imshow(image, cmap=plt.cm.gray_r, interpolation='nearest')\n",
    "    plt.title('Value: %i' % label)  "
   ]
  },
  {
   "cell_type": "markdown",
   "metadata": {},
   "source": [
    "### 4) Stardardize the data and create the test and training datasets"
   ]
  },
  {
   "cell_type": "code",
   "execution_count": 5,
   "metadata": {},
   "outputs": [],
   "source": [
    "from sklearn.preprocessing import StandardScaler\n",
    "from sklearn.model_selection import train_test_split\n",
    "from sklearn.metrics import confusion_matrix, classification_report"
   ]
  },
  {
   "cell_type": "code",
   "execution_count": 6,
   "metadata": {},
   "outputs": [],
   "source": [
    "X_train, X_test, y_train, y_test = train_test_split(digits.data, digits.target,\n",
    "                                                   test_size=0.2, random_state=2017)"
   ]
  },
  {
   "cell_type": "code",
   "execution_count": 7,
   "metadata": {},
   "outputs": [
    {
     "data": {
      "text/plain": [
       "StandardScaler(copy=True, with_mean=True, with_std=True)"
      ]
     },
     "execution_count": 7,
     "metadata": {},
     "output_type": "execute_result"
    }
   ],
   "source": [
    "sc = StandardScaler()\n",
    "sc.fit(X_train)"
   ]
  },
  {
   "cell_type": "code",
   "execution_count": 8,
   "metadata": {},
   "outputs": [],
   "source": [
    "X_train_std = sc.transform(X_train)\n",
    "X_test_std = sc.transform(X_test)"
   ]
  },
  {
   "cell_type": "markdown",
   "metadata": {},
   "source": [
    "### 5) Train different classifiers: Decision Tree, AdaBoost, Support Vector Machines and Multilayer Perceptron"
   ]
  },
  {
   "cell_type": "markdown",
   "metadata": {},
   "source": [
    "## Evaluating with Classifiers:"
   ]
  },
  {
   "cell_type": "code",
   "execution_count": 10,
   "metadata": {},
   "outputs": [],
   "source": [
    "from sklearn import svm\n",
    "from sklearn.tree import DecisionTreeClassifier\n",
    "from sklearn.ensemble import AdaBoostClassifier\n",
    "from sklearn.neural_network import MLPClassifier"
   ]
  },
  {
   "cell_type": "code",
   "execution_count": 25,
   "metadata": {},
   "outputs": [],
   "source": [
    "svm_cls = svm.SVC(kernel='rbf',gamma=0.1,C=1)\n",
    "dt = DecisionTreeClassifier(criterion='entropy',max_depth=3)\n",
    "ada = AdaBoostClassifier(base_estimator=dt, n_estimators=1000,\n",
    "                         learning_rate=0.01, random_state=0)\n",
    "mlp = MLPClassifier(hidden_layer_sizes=(100), activation='logistic',max_iter=500)"
   ]
  },
  {
   "cell_type": "code",
   "execution_count": 26,
   "metadata": {},
   "outputs": [
    {
     "data": {
      "text/plain": [
       "MLPClassifier(activation='logistic', alpha=0.0001, batch_size='auto',\n",
       "       beta_1=0.9, beta_2=0.999, early_stopping=False, epsilon=1e-08,\n",
       "       hidden_layer_sizes=100, learning_rate='constant',\n",
       "       learning_rate_init=0.001, max_iter=500, momentum=0.9,\n",
       "       nesterovs_momentum=True, power_t=0.5, random_state=None,\n",
       "       shuffle=True, solver='adam', tol=0.0001, validation_fraction=0.1,\n",
       "       verbose=False, warm_start=False)"
      ]
     },
     "execution_count": 26,
     "metadata": {},
     "output_type": "execute_result"
    }
   ],
   "source": [
    "ada.fit(X_train_std, y_train)\n",
    "dt.fit(X_train_std, y_train)\n",
    "svm_cls.fit(X_train_std, y_train)\n",
    "mlp.fit(X_train_std, y_train)"
   ]
  },
  {
   "cell_type": "markdown",
   "metadata": {},
   "source": [
    "### 6) Evaluate all classifiers with the accuracy metric for the test and train datasets"
   ]
  },
  {
   "cell_type": "code",
   "execution_count": 27,
   "metadata": {},
   "outputs": [
    {
     "name": "stdout",
     "output_type": "stream",
     "text": [
      "Training set score Adaboost: 0.987474\n",
      "Training set score Support Vector Machines: 1.000000\n",
      "Training set score MLP: 1.000000\n",
      "Training set score DT: 0.553236\n"
     ]
    }
   ],
   "source": [
    "print(\"Training set score Adaboost: %f\" % ada.score(X_train_std, y_train))\n",
    "print(\"Training set score Support Vector Machines: %f\" % svm_cls.score(X_train_std, y_train))\n",
    "print(\"Training set score MLP: %f\" % mlp.score(X_train_std, y_train))\n",
    "print(\"Training set score DT: %f\" % dt.score(X_train_std, y_train))"
   ]
  },
  {
   "cell_type": "code",
   "execution_count": 29,
   "metadata": {},
   "outputs": [
    {
     "name": "stdout",
     "output_type": "stream",
     "text": [
      "Test set score Adaboost: 0.927778\n",
      "Test set score Support Vector Machines: 0.972222\n",
      "Test set score MLP: 0.980556\n",
      "Test set score DT: 0.538889\n"
     ]
    }
   ],
   "source": [
    "print(\"Test set score Adaboost: %f\" % ada.score(X_test_std, y_test))\n",
    "print(\"Test set score Support Vector Machines: %f\" % svm_cls.score(X_test_std, y_test))\n",
    "print(\"Test set score MLP: %f\" % mlp.score(X_test_std, y_test))\n",
    "print(\"Test set score DT: %f\" % dt.score(X_test_std, y_test))"
   ]
  },
  {
   "cell_type": "markdown",
   "metadata": {},
   "source": [
    "### 7) Print the classification report and confusion matrix for Multilayer Perceptron Model"
   ]
  },
  {
   "cell_type": "code",
   "execution_count": 30,
   "metadata": {},
   "outputs": [
    {
     "name": "stdout",
     "output_type": "stream",
     "text": [
      "Classification report:\n",
      "             precision    recall  f1-score   support\n",
      "\n",
      "          0       1.00      1.00      1.00        34\n",
      "          1       0.93      0.98      0.95        41\n",
      "          2       0.98      1.00      0.99        45\n",
      "          3       0.96      0.96      0.96        26\n",
      "          4       1.00      1.00      1.00        32\n",
      "          5       1.00      0.96      0.98        46\n",
      "          6       0.97      1.00      0.98        29\n",
      "          7       1.00      1.00      1.00        42\n",
      "          8       1.00      0.91      0.96        35\n",
      "          9       0.97      1.00      0.98        30\n",
      "\n",
      "avg / total       0.98      0.98      0.98       360\n",
      "\n",
      "\n",
      "Confusion matrix:\n",
      "[[34  0  0  0  0  0  0  0  0  0]\n",
      " [ 0 40  0  0  0  0  0  0  0  1]\n",
      " [ 0  0 45  0  0  0  0  0  0  0]\n",
      " [ 0  0  1 25  0  0  0  0  0  0]\n",
      " [ 0  0  0  0 32  0  0  0  0  0]\n",
      " [ 0  1  0  0  0 44  1  0  0  0]\n",
      " [ 0  0  0  0  0  0 29  0  0  0]\n",
      " [ 0  0  0  0  0  0  0 42  0  0]\n",
      " [ 0  2  0  1  0  0  0  0 32  0]\n",
      " [ 0  0  0  0  0  0  0  0  0 30]]\n"
     ]
    }
   ],
   "source": [
    "print(\"Classification report:\\n%s\\n\"\n",
    "      % (classification_report(y_test, mlp.predict(X_test_std))))\n",
    "print(\"Confusion matrix:\\n%s\" % (confusion_matrix(y_test, mlp.predict(X_test_std))))"
   ]
  },
  {
   "cell_type": "markdown",
   "metadata": {},
   "source": [
    "### 8) Show the first 8 images in the test dataset with their corresponding labels and predictions."
   ]
  },
  {
   "cell_type": "code",
   "execution_count": 31,
   "metadata": {},
   "outputs": [
    {
     "data": {
      "image/png": "[encoded data removed]",
      "text/plain": [
       "<Figure size 432x288 with 8 Axes>"
      ]
     },
     "metadata": {},
     "output_type": "display_data"
    }
   ],
   "source": [
    "y_pred = mlp.predict(X_test_std)\n",
    "img_pred = list(zip(X_test.reshape(-1,8,8), y_pred, y_test))\n",
    "for index, (image, prediction, label) in enumerate(img_pred[:8]):\n",
    "    plt.subplot(2, 4, index + 1)\n",
    "    plt.axis('off')\n",
    "    plt.imshow(image, cmap=plt.cm.gray_r, interpolation='nearest')\n",
    "    plt.title('Prediction: {}\\n Label:{}'.format(prediction,label))\n",
    "plt.show()"
   ]
  },
  {
   "cell_type": "code",
   "execution_count": null,
   "metadata": {},
   "outputs": [],
   "source": []
  }
 ],
 "metadata": {
  "kernelspec": {
   "display_name": "Python 2",
   "language": "python",
   "name": "python2"
  },
  "language_info": {
   "codemirror_mode": {
    "name": "ipython",
    "version": 2
   },
   "file_extension": ".py",
   "mimetype": "text/x-python",
   "name": "python",
   "nbconvert_exporter": "python",
   "pygments_lexer": "ipython2",
   "version": "2.7.15"
  }
 },
 "nbformat": 4,
 "nbformat_minor": 2
}
