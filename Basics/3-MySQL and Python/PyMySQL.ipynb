{
 "cells": [
  {
   "cell_type": "markdown",
   "metadata": {
    "collapsed": true
   },
   "source": [
    "<img src=\"../Pics/MLSb-T.png\" width=\"160\">\n",
    "<br><br>\n",
    "<center><u><H1>PyMySQL</H1></u></center>"
   ]
  },
  {
   "cell_type": "markdown",
   "metadata": {},
   "source": [
    "## Installation:\n",
    "\n",
    "pip install PyMySQL"
   ]
  },
  {
   "cell_type": "code",
   "execution_count": null,
   "metadata": {
    "collapsed": true
   },
   "outputs": [],
   "source": [
    "import pymysql"
   ]
  },
  {
   "cell_type": "code",
   "execution_count": null,
   "metadata": {
    "collapsed": true
   },
   "outputs": [],
   "source": [
    "def connection():\n",
    "    try: \n",
    "        conn = pymysql.connect(host='127.0.0.1',\n",
    "                               port=3306,\n",
    "                               user='python',\n",
    "                               password='mysql',\n",
    "                               db='customers')\n",
    "    finally:\n",
    "        return conn"
   ]
  },
  {
   "cell_type": "code",
   "execution_count": null,
   "metadata": {
    "collapsed": false
   },
   "outputs": [],
   "source": [
    "if connection is not None:\n",
    "    print('Successful Conexion!!!')"
   ]
  },
  {
   "cell_type": "code",
   "execution_count": null,
   "metadata": {
    "collapsed": false
   },
   "outputs": [],
   "source": [
    "import pymysql.cursors\n",
    "\n",
    "conn = pymysql.connect(host='127.0.0.1',\n",
    "                               port=3306,\n",
    "                               user='python',\n",
    "                               password='mysql',\n",
    "                               db='customers',\n",
    "                               cursorclass=pymysql.cursors.DictCursor)\n",
    "\n",
    "\n",
    "try:\n",
    "    with conn.cursor() as cursor:\n",
    "        # Create a new record\n",
    "        sql = \"INSERT INTO client (name,sex,state,tel) VALUES ('Michael Platini','M','NY','805-5251348')\"\n",
    "        cursor.execute(sql)\n",
    "\n",
    "\n",
    "    conn.commit() # to save the changes.\n",
    "\n",
    "finally:\n",
    "    print('A New record is Successfully registered')"
   ]
  },
  {
   "cell_type": "code",
   "execution_count": null,
   "metadata": {
    "collapsed": false
   },
   "outputs": [],
   "source": [
    "try:\n",
    "    with conn.cursor() as cursor:\n",
    "        # Read a single record\n",
    "        sql = \"SELECT name,sex,state,tel FROM client\"\n",
    "        cursor.execute(sql)\n",
    "        result = cursor.fetchall()\n",
    "        print(result)\n",
    "        \n",
    "finally:\n",
    "    conn.close()"
   ]
  },
  {
   "cell_type": "markdown",
   "metadata": {},
   "source": [
    "## Reference:\n",
    "\n",
    "https://pypi.python.org/pypi\n",
    "\n",
    "http://pymysql.readthedocs.io/en/latest/user/installation.html"
   ]
  }
 ],
 "metadata": {
  "kernelspec": {
   "display_name": "Python [conda env:py35-64]",
   "language": "python",
   "name": "conda-env-py35-64-py"
  },
  "language_info": {
   "codemirror_mode": {
    "name": "ipython",
    "version": 3
   },
   "file_extension": ".py",
   "mimetype": "text/x-python",
   "name": "python",
   "nbconvert_exporter": "python",
   "pygments_lexer": "ipython3",
   "version": "3.5.3"
  }
 },
 "nbformat": 4,
 "nbformat_minor": 2
}
