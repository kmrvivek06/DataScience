{
 "cells": [
  {
   "cell_type": "markdown",
   "metadata": {},
   "source": [
    "<img src=\"../Pics/MLSb-T.png\" width=\"160\">\n",
    "<br><br>\n",
    "<center><u><H1>Exercises and Solutions</H1></u></center>"
   ]
  },
  {
   "cell_type": "code",
   "execution_count": null,
   "metadata": {
    "collapsed": true
   },
   "outputs": [],
   "source": [
    "import pymysql\n",
    "import pandas as pd"
   ]
  },
  {
   "cell_type": "markdown",
   "metadata": {},
   "source": [
    "### 1) Retrieve all data from the table client and also the table address ordered by the state ascending / descending"
   ]
  },
  {
   "cell_type": "code",
   "execution_count": null,
   "metadata": {
    "collapsed": false
   },
   "outputs": [],
   "source": [
    "def connection():\n",
    "    try:\n",
    "        conn = pymysql.connect(host='127.0.0.1',\n",
    "                               port=3306,\n",
    "                               user='python',\n",
    "                               password='mysql',\n",
    "                               db='customers')\n",
    "    \n",
    "        sql = \"select name,sex,state,tel,addr from client join address on client.idclient = address.idcli order by state desc\"\n",
    "        \n",
    "        titles='Name Sex State Tel Address'.split()\n",
    "        \n",
    "        df=pd.read_sql(sql,con=conn)\n",
    "        \n",
    "        df.columns = titles\n",
    "            \n",
    "    finally:\n",
    "        conn.close()\n",
    "        return df\n",
    "    \n",
    "connection()    "
   ]
  },
  {
   "cell_type": "markdown",
   "metadata": {},
   "source": [
    "## 2) Select all data from clients but specifying only the code aerea of the telephone"
   ]
  },
  {
   "cell_type": "code",
   "execution_count": null,
   "metadata": {
    "collapsed": false
   },
   "outputs": [],
   "source": [
    "def connection():\n",
    "    try:\n",
    "        conn = pymysql.connect(host='127.0.0.1',\n",
    "                               port=3306,\n",
    "                               user='python',\n",
    "                               password='mysql',\n",
    "                               db='customers')\n",
    "    \n",
    "        sql = \"select name,sex,state,left(tel,3),addr from client join address on client.idclient = address.idcli order by state asc\"\n",
    "        \n",
    "        titles='Name Sex State Tel Address'.split()\n",
    "        \n",
    "        df=pd.read_sql(sql,con=conn)\n",
    "        \n",
    "        df.columns = titles\n",
    "            \n",
    "    finally:\n",
    "        conn.close()\n",
    "        return df\n",
    "    \n",
    "connection()    \n"
   ]
  },
  {
   "cell_type": "markdown",
   "metadata": {},
   "source": [
    "## 3) Convert to Uppercase all names from the table client"
   ]
  },
  {
   "cell_type": "code",
   "execution_count": null,
   "metadata": {
    "collapsed": false
   },
   "outputs": [],
   "source": [
    "def connection():\n",
    "    try:\n",
    "        conn = pymysql.connect(host='127.0.0.1',\n",
    "                               port=3306,\n",
    "                               user='python',\n",
    "                               password='mysql',\n",
    "                               db='customers')\n",
    "    \n",
    "        sql = \"select upper(name),sex,state,tel,addr from client join address on client.idclient = address.idcli order by state asc\"\n",
    "        \n",
    "        titles='Name Sex State Tel Address'.split()\n",
    "        \n",
    "        df=pd.read_sql(sql,con=conn)\n",
    "        \n",
    "        df.columns = titles\n",
    "            \n",
    "    finally:\n",
    "        conn.close()\n",
    "        return df\n",
    "    \n",
    "connection()    "
   ]
  },
  {
   "cell_type": "markdown",
   "metadata": {},
   "source": [
    "## 4) Select male clients who lives in the NY area."
   ]
  },
  {
   "cell_type": "code",
   "execution_count": null,
   "metadata": {
    "collapsed": false
   },
   "outputs": [],
   "source": [
    "def connection():\n",
    "    try:\n",
    "        conn = pymysql.connect(host='127.0.0.1',\n",
    "                               port=3306,\n",
    "                               user='python',\n",
    "                               password='mysql',\n",
    "                               db='customers')\n",
    "    \n",
    "        \n",
    "        sql = \"select name,sex,state,tel,addr from client join address on client.idclient = address.idcli where sex='M' and state='NY'\"\n",
    "        \n",
    "        titles='Name Sex State Tel Address'.split()\n",
    "        \n",
    "        df=pd.read_sql(sql,con=conn)\n",
    "        \n",
    "        df.columns = titles\n",
    "            \n",
    "    finally:\n",
    "        conn.close()\n",
    "        return df\n",
    "    \n",
    "connection()    \n"
   ]
  },
  {
   "cell_type": "markdown",
   "metadata": {},
   "source": [
    "## 5) Calculate how many registers has the client table"
   ]
  },
  {
   "cell_type": "code",
   "execution_count": null,
   "metadata": {
    "collapsed": false
   },
   "outputs": [],
   "source": [
    "def connection():\n",
    "    try:\n",
    "        conn = pymysql.connect(host='127.0.0.1',\n",
    "                               port=3306,\n",
    "                               user='python',\n",
    "                               password='mysql',\n",
    "                               db='customers')\n",
    "    \n",
    "        \n",
    "        sql = \"select count(*) from client\"\n",
    "        \n",
    "        df=pd.read_sql(sql,con=conn)\n",
    "        \n",
    "        #df.columns = 'Count'\n",
    "            \n",
    "    finally:\n",
    "        conn.close()\n",
    "        return df\n",
    "    \n",
    "connection()    "
   ]
  },
  {
   "cell_type": "markdown",
   "metadata": {},
   "source": [
    "## 6) Select in one row the Name, Tel and Address"
   ]
  },
  {
   "cell_type": "code",
   "execution_count": null,
   "metadata": {
    "collapsed": false
   },
   "outputs": [],
   "source": [
    "def connection():\n",
    "    try:\n",
    "        conn = pymysql.connect(host='127.0.0.1',\n",
    "                               port=3306,\n",
    "                               user='python',\n",
    "                               password='mysql',\n",
    "                               db='customers')\n",
    "    \n",
    "        \n",
    "        sql = \"select concat(name,'<-->',tel,'<-->',addr) as data from client join address on client.idclient = address.idcli group by state\"\n",
    "        \n",
    "        df=pd.read_sql(sql,con=conn)\n",
    "        \n",
    "        df.columns = ['Complete information']\n",
    "            \n",
    "    finally:\n",
    "        conn.close()\n",
    "        return df\n",
    "    \n",
    "connection()"
   ]
  },
  {
   "cell_type": "markdown",
   "metadata": {},
   "source": [
    "## Reference:\n",
    "\n",
    "https://dev.mysql.com/doc/refman/5.7/en/string-functions.html"
   ]
  }
 ],
 "metadata": {
  "kernelspec": {
   "display_name": "Python [conda env:py35-64]",
   "language": "python",
   "name": "conda-env-py35-64-py"
  },
  "language_info": {
   "codemirror_mode": {
    "name": "ipython",
    "version": 3
   },
   "file_extension": ".py",
   "mimetype": "text/x-python",
   "name": "python",
   "nbconvert_exporter": "python",
   "pygments_lexer": "ipython3",
   "version": "3.5.3"
  }
 },
 "nbformat": 4,
 "nbformat_minor": 2
}
