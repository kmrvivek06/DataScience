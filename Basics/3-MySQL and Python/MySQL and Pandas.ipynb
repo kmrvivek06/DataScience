{
 "cells": [
  {
   "cell_type": "markdown",
   "metadata": {},
   "source": [
    "<img src=\"../Pics/MLSb-T.png\" width=\"160\">\n",
    "<br><br>\n",
    "<center><u><H1>MySQL and Pandas</H1></u></center>"
   ]
  },
  {
   "cell_type": "code",
   "execution_count": null,
   "metadata": {
    "collapsed": true
   },
   "outputs": [],
   "source": [
    "import pymysql\n",
    "import pandas as pd"
   ]
  },
  {
   "cell_type": "code",
   "execution_count": null,
   "metadata": {
    "collapsed": true
   },
   "outputs": [],
   "source": [
    "def connection():\n",
    "    try:\n",
    "        conn = pymysql.connect(host='127.0.0.1',\n",
    "                               port=3306,\n",
    "                               user='python',\n",
    "                               password='mysql',\n",
    "                               db='customers')\n",
    "    \n",
    "        sql = \"SELECT name,sex,state,tel FROM client\"\n",
    "        \n",
    "        titles='Name sex State Tel'.split()\n",
    "        \n",
    "        df=pd.read_sql(sql,con=conn)\n",
    "        \n",
    "        df.columns = titles\n",
    "            \n",
    "    finally:\n",
    "        conn.close()\n",
    "        return df"
   ]
  },
  {
   "cell_type": "code",
   "execution_count": null,
   "metadata": {
    "collapsed": false
   },
   "outputs": [],
   "source": [
    "connection()"
   ]
  },
  {
   "cell_type": "markdown",
   "metadata": {},
   "source": [
    "## JOIN:"
   ]
  },
  {
   "cell_type": "code",
   "execution_count": null,
   "metadata": {
    "collapsed": true
   },
   "outputs": [],
   "source": [
    "def connection():\n",
    "    try:\n",
    "        conn = pymysql.connect(host='127.0.0.1',\n",
    "                               port=3306,\n",
    "                               user='python',\n",
    "                               password='mysql',\n",
    "                               db='customers')\n",
    "    \n",
    "        sql = \"select name,sex,state,tel,addr from client join address on client.idclient = address.idcli\"\n",
    "        titles='Name Sex State Tel Address'.split()\n",
    "        df=pd.read_sql(sql,con=conn)\n",
    "        df.columns = titles\n",
    "            \n",
    "    finally:\n",
    "        conn.close()\n",
    "        return df"
   ]
  },
  {
   "cell_type": "code",
   "execution_count": null,
   "metadata": {
    "collapsed": false
   },
   "outputs": [],
   "source": [
    "connection()"
   ]
  },
  {
   "cell_type": "markdown",
   "metadata": {},
   "source": [
    "## Conditional Select:"
   ]
  },
  {
   "cell_type": "code",
   "execution_count": null,
   "metadata": {
    "collapsed": true
   },
   "outputs": [],
   "source": [
    "def connection(state):\n",
    "    try:\n",
    "        conn = pymysql.connect(host='127.0.0.1',\n",
    "                               port=3306,\n",
    "                               user='python',\n",
    "                               password='mysql',\n",
    "                               db='customers')\n",
    "    \n",
    "        sql = \"select name,sex,state,tel,addr from client join address on client.idclient = address.idcli where state='\"+ state +\"'\"\n",
    "        \n",
    "        titles='Name Sex State Tel Address'.split()\n",
    "        \n",
    "        df=pd.read_sql(sql,con=conn)\n",
    "        \n",
    "        df.columns = titles\n",
    "            \n",
    "    finally:\n",
    "        conn.close()\n",
    "        return df"
   ]
  },
  {
   "cell_type": "code",
   "execution_count": null,
   "metadata": {
    "collapsed": false
   },
   "outputs": [],
   "source": [
    "connection('NY')"
   ]
  },
  {
   "cell_type": "markdown",
   "metadata": {},
   "source": [
    "## Reference:\n",
    "\n",
    "http://pymysql.readthedocs.io/en/latest/index.html\n",
    "\n",
    "http://pymysql.readthedocs.io/en/latest/user/examples.html"
   ]
  }
 ],
 "metadata": {
  "kernelspec": {
   "display_name": "Python [conda env:py35-64]",
   "language": "python",
   "name": "conda-env-py35-64-py"
  },
  "language_info": {
   "codemirror_mode": {
    "name": "ipython",
    "version": 3
   },
   "file_extension": ".py",
   "mimetype": "text/x-python",
   "name": "python",
   "nbconvert_exporter": "python",
   "pygments_lexer": "ipython3",
   "version": "3.5.3"
  }
 },
 "nbformat": 4,
 "nbformat_minor": 2
}
