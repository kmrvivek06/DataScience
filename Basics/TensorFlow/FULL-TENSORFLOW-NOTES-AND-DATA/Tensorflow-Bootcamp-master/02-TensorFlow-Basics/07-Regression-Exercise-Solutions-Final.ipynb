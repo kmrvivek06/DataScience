{
 "cells": [
  {
   "cell_type": "markdown",
   "metadata": {},
   "source": [
    "# Regression Exercise - Solutions\n",
    "\n",
    "California Housing Data\n",
    "\n",
    "This data set contains information about all the block groups in California from the 1990 Census. In this sample a block group on average includes 1425.5 individuals living in a geographically compact area. \n",
    "\n",
    "The task is to aproximate the median house value of each block from the values of the rest of the variables. \n",
    "\n",
    " It has been obtained from the LIACC repository. The original page where the data set can be found is: http://www.liaad.up.pt/~ltorgo/Regression/DataSets.html.\n",
    " "
   ]
  },
  {
   "cell_type": "markdown",
   "metadata": {
    "collapsed": true
   },
   "source": [
    "The Features:\n",
    " \n",
    "* housingMedianAge: continuous. \n",
    "* totalRooms: continuous. \n",
    "* totalBedrooms: continuous. \n",
    "* population: continuous. \n",
    "* households: continuous. \n",
    "* medianIncome: continuous. \n",
    "* medianHouseValue: continuous. "
   ]
  },
  {
   "cell_type": "markdown",
   "metadata": {},
   "source": [
    "## The Data"
   ]
  },
  {
   "cell_type": "markdown",
   "metadata": {},
   "source": [
    "** Import the cal_housing.csv file with pandas. Separate it into a training (70%) and testing set(30%).**"
   ]
  },
  {
   "cell_type": "code",
   "execution_count": 1,
   "metadata": {},
   "outputs": [],
   "source": [
    "import pandas as pd"
   ]
  },
  {
   "cell_type": "code",
   "execution_count": 2,
   "metadata": {},
   "outputs": [],
   "source": [
    "housing = pd.read_csv('cal_housing_clean.csv')"
   ]
  },
  {
   "cell_type": "code",
   "execution_count": 3,
   "metadata": {},
   "outputs": [
    {
     "data": {
      "text/html": [
       "<div>\n",
       "<style scoped>\n",
       "    .dataframe tbody tr th:only-of-type {\n",
       "        vertical-align: middle;\n",
       "    }\n",
       "\n",
       "    .dataframe tbody tr th {\n",
       "        vertical-align: top;\n",
       "    }\n",
       "\n",
       "    .dataframe thead th {\n",
       "        text-align: right;\n",
       "    }\n",
       "</style>\n",
       "<table border=\"1\" class=\"dataframe\">\n",
       "  <thead>\n",
       "    <tr style=\"text-align: right;\">\n",
       "      <th></th>\n",
       "      <th>housingMedianAge</th>\n",
       "      <th>totalRooms</th>\n",
       "      <th>totalBedrooms</th>\n",
       "      <th>population</th>\n",
       "      <th>households</th>\n",
       "      <th>medianIncome</th>\n",
       "      <th>medianHouseValue</th>\n",
       "    </tr>\n",
       "  </thead>\n",
       "  <tbody>\n",
       "    <tr>\n",
       "      <th>0</th>\n",
       "      <td>41.0</td>\n",
       "      <td>880.0</td>\n",
       "      <td>129.0</td>\n",
       "      <td>322.0</td>\n",
       "      <td>126.0</td>\n",
       "      <td>8.3252</td>\n",
       "      <td>452600.0</td>\n",
       "    </tr>\n",
       "    <tr>\n",
       "      <th>1</th>\n",
       "      <td>21.0</td>\n",
       "      <td>7099.0</td>\n",
       "      <td>1106.0</td>\n",
       "      <td>2401.0</td>\n",
       "      <td>1138.0</td>\n",
       "      <td>8.3014</td>\n",
       "      <td>358500.0</td>\n",
       "    </tr>\n",
       "    <tr>\n",
       "      <th>2</th>\n",
       "      <td>52.0</td>\n",
       "      <td>1467.0</td>\n",
       "      <td>190.0</td>\n",
       "      <td>496.0</td>\n",
       "      <td>177.0</td>\n",
       "      <td>7.2574</td>\n",
       "      <td>352100.0</td>\n",
       "    </tr>\n",
       "    <tr>\n",
       "      <th>3</th>\n",
       "      <td>52.0</td>\n",
       "      <td>1274.0</td>\n",
       "      <td>235.0</td>\n",
       "      <td>558.0</td>\n",
       "      <td>219.0</td>\n",
       "      <td>5.6431</td>\n",
       "      <td>341300.0</td>\n",
       "    </tr>\n",
       "    <tr>\n",
       "      <th>4</th>\n",
       "      <td>52.0</td>\n",
       "      <td>1627.0</td>\n",
       "      <td>280.0</td>\n",
       "      <td>565.0</td>\n",
       "      <td>259.0</td>\n",
       "      <td>3.8462</td>\n",
       "      <td>342200.0</td>\n",
       "    </tr>\n",
       "  </tbody>\n",
       "</table>\n",
       "</div>"
      ],
      "text/plain": [
       "   housingMedianAge  totalRooms  totalBedrooms  population  households  \\\n",
       "0              41.0       880.0          129.0       322.0       126.0   \n",
       "1              21.0      7099.0         1106.0      2401.0      1138.0   \n",
       "2              52.0      1467.0          190.0       496.0       177.0   \n",
       "3              52.0      1274.0          235.0       558.0       219.0   \n",
       "4              52.0      1627.0          280.0       565.0       259.0   \n",
       "\n",
       "   medianIncome  medianHouseValue  \n",
       "0        8.3252          452600.0  \n",
       "1        8.3014          358500.0  \n",
       "2        7.2574          352100.0  \n",
       "3        5.6431          341300.0  \n",
       "4        3.8462          342200.0  "
      ]
     },
     "execution_count": 3,
     "metadata": {},
     "output_type": "execute_result"
    }
   ],
   "source": [
    "housing.head()"
   ]
  },
  {
   "cell_type": "code",
   "execution_count": 4,
   "metadata": {},
   "outputs": [
    {
     "data": {
      "text/html": [
       "<div>\n",
       "<style scoped>\n",
       "    .dataframe tbody tr th:only-of-type {\n",
       "        vertical-align: middle;\n",
       "    }\n",
       "\n",
       "    .dataframe tbody tr th {\n",
       "        vertical-align: top;\n",
       "    }\n",
       "\n",
       "    .dataframe thead th {\n",
       "        text-align: right;\n",
       "    }\n",
       "</style>\n",
       "<table border=\"1\" class=\"dataframe\">\n",
       "  <thead>\n",
       "    <tr style=\"text-align: right;\">\n",
       "      <th></th>\n",
       "      <th>count</th>\n",
       "      <th>mean</th>\n",
       "      <th>std</th>\n",
       "      <th>min</th>\n",
       "      <th>25%</th>\n",
       "      <th>50%</th>\n",
       "      <th>75%</th>\n",
       "      <th>max</th>\n",
       "    </tr>\n",
       "  </thead>\n",
       "  <tbody>\n",
       "    <tr>\n",
       "      <th>housingMedianAge</th>\n",
       "      <td>20640.0</td>\n",
       "      <td>28.639486</td>\n",
       "      <td>12.585558</td>\n",
       "      <td>1.0000</td>\n",
       "      <td>18.0000</td>\n",
       "      <td>29.0000</td>\n",
       "      <td>37.00000</td>\n",
       "      <td>52.0000</td>\n",
       "    </tr>\n",
       "    <tr>\n",
       "      <th>totalRooms</th>\n",
       "      <td>20640.0</td>\n",
       "      <td>2635.763081</td>\n",
       "      <td>2181.615252</td>\n",
       "      <td>2.0000</td>\n",
       "      <td>1447.7500</td>\n",
       "      <td>2127.0000</td>\n",
       "      <td>3148.00000</td>\n",
       "      <td>39320.0000</td>\n",
       "    </tr>\n",
       "    <tr>\n",
       "      <th>totalBedrooms</th>\n",
       "      <td>20640.0</td>\n",
       "      <td>537.898014</td>\n",
       "      <td>421.247906</td>\n",
       "      <td>1.0000</td>\n",
       "      <td>295.0000</td>\n",
       "      <td>435.0000</td>\n",
       "      <td>647.00000</td>\n",
       "      <td>6445.0000</td>\n",
       "    </tr>\n",
       "    <tr>\n",
       "      <th>population</th>\n",
       "      <td>20640.0</td>\n",
       "      <td>1425.476744</td>\n",
       "      <td>1132.462122</td>\n",
       "      <td>3.0000</td>\n",
       "      <td>787.0000</td>\n",
       "      <td>1166.0000</td>\n",
       "      <td>1725.00000</td>\n",
       "      <td>35682.0000</td>\n",
       "    </tr>\n",
       "    <tr>\n",
       "      <th>households</th>\n",
       "      <td>20640.0</td>\n",
       "      <td>499.539680</td>\n",
       "      <td>382.329753</td>\n",
       "      <td>1.0000</td>\n",
       "      <td>280.0000</td>\n",
       "      <td>409.0000</td>\n",
       "      <td>605.00000</td>\n",
       "      <td>6082.0000</td>\n",
       "    </tr>\n",
       "    <tr>\n",
       "      <th>medianIncome</th>\n",
       "      <td>20640.0</td>\n",
       "      <td>3.870671</td>\n",
       "      <td>1.899822</td>\n",
       "      <td>0.4999</td>\n",
       "      <td>2.5634</td>\n",
       "      <td>3.5348</td>\n",
       "      <td>4.74325</td>\n",
       "      <td>15.0001</td>\n",
       "    </tr>\n",
       "    <tr>\n",
       "      <th>medianHouseValue</th>\n",
       "      <td>20640.0</td>\n",
       "      <td>206855.816909</td>\n",
       "      <td>115395.615874</td>\n",
       "      <td>14999.0000</td>\n",
       "      <td>119600.0000</td>\n",
       "      <td>179700.0000</td>\n",
       "      <td>264725.00000</td>\n",
       "      <td>500001.0000</td>\n",
       "    </tr>\n",
       "  </tbody>\n",
       "</table>\n",
       "</div>"
      ],
      "text/plain": [
       "                    count           mean            std         min  \\\n",
       "housingMedianAge  20640.0      28.639486      12.585558      1.0000   \n",
       "totalRooms        20640.0    2635.763081    2181.615252      2.0000   \n",
       "totalBedrooms     20640.0     537.898014     421.247906      1.0000   \n",
       "population        20640.0    1425.476744    1132.462122      3.0000   \n",
       "households        20640.0     499.539680     382.329753      1.0000   \n",
       "medianIncome      20640.0       3.870671       1.899822      0.4999   \n",
       "medianHouseValue  20640.0  206855.816909  115395.615874  14999.0000   \n",
       "\n",
       "                          25%          50%           75%          max  \n",
       "housingMedianAge      18.0000      29.0000      37.00000      52.0000  \n",
       "totalRooms          1447.7500    2127.0000    3148.00000   39320.0000  \n",
       "totalBedrooms        295.0000     435.0000     647.00000    6445.0000  \n",
       "population           787.0000    1166.0000    1725.00000   35682.0000  \n",
       "households           280.0000     409.0000     605.00000    6082.0000  \n",
       "medianIncome           2.5634       3.5348       4.74325      15.0001  \n",
       "medianHouseValue  119600.0000  179700.0000  264725.00000  500001.0000  "
      ]
     },
     "execution_count": 4,
     "metadata": {},
     "output_type": "execute_result"
    }
   ],
   "source": [
    "housing.describe().transpose()"
   ]
  },
  {
   "cell_type": "code",
   "execution_count": 5,
   "metadata": {
    "scrolled": true
   },
   "outputs": [],
   "source": [
    "x_data = housing.drop(['medianHouseValue'],axis=1)"
   ]
  },
  {
   "cell_type": "code",
   "execution_count": 6,
   "metadata": {},
   "outputs": [],
   "source": [
    "y_val = housing['medianHouseValue']"
   ]
  },
  {
   "cell_type": "code",
   "execution_count": 7,
   "metadata": {},
   "outputs": [],
   "source": [
    "from sklearn.model_selection import train_test_split"
   ]
  },
  {
   "cell_type": "code",
   "execution_count": 8,
   "metadata": {},
   "outputs": [],
   "source": [
    "X_train, X_test, y_train, y_test = train_test_split(x_data,y_val,test_size=0.3,random_state=101)"
   ]
  },
  {
   "cell_type": "markdown",
   "metadata": {},
   "source": [
    "### Scale the Feature Data\n",
    "\n",
    "** Use sklearn preprocessing to create a MinMaxScaler for the feature data. Fit this scaler only to the training data. Then use it to transform X_test and X_train. Then use the scaled X_test and X_train along with pd.Dataframe to re-create two dataframes of scaled data.**"
   ]
  },
  {
   "cell_type": "code",
   "execution_count": 9,
   "metadata": {},
   "outputs": [],
   "source": [
    "from sklearn.preprocessing import MinMaxScaler"
   ]
  },
  {
   "cell_type": "code",
   "execution_count": 10,
   "metadata": {},
   "outputs": [],
   "source": [
    "scaler = MinMaxScaler()"
   ]
  },
  {
   "cell_type": "code",
   "execution_count": 11,
   "metadata": {},
   "outputs": [
    {
     "data": {
      "text/plain": [
       "MinMaxScaler(copy=True, feature_range=(0, 1))"
      ]
     },
     "execution_count": 11,
     "metadata": {},
     "output_type": "execute_result"
    }
   ],
   "source": [
    "scaler.fit(X_train)"
   ]
  },
  {
   "cell_type": "code",
   "execution_count": 12,
   "metadata": {},
   "outputs": [],
   "source": [
    "X_train = pd.DataFrame(data=scaler.transform(X_train),columns = X_train.columns,index=X_train.index)"
   ]
  },
  {
   "cell_type": "code",
   "execution_count": 13,
   "metadata": {},
   "outputs": [],
   "source": [
    "X_test = pd.DataFrame(data=scaler.transform(X_test),columns = X_test.columns,index=X_test.index)"
   ]
  },
  {
   "cell_type": "markdown",
   "metadata": {},
   "source": [
    "### Create Feature Columns\n",
    "\n",
    "** Create the necessary tf.feature_column objects for the estimator. They should all be trated as continuous numeric_columns. **"
   ]
  },
  {
   "cell_type": "code",
   "execution_count": 14,
   "metadata": {},
   "outputs": [
    {
     "data": {
      "text/plain": [
       "Index(['housingMedianAge', 'totalRooms', 'totalBedrooms', 'population',\n",
       "       'households', 'medianIncome', 'medianHouseValue'],\n",
       "      dtype='object')"
      ]
     },
     "execution_count": 14,
     "metadata": {},
     "output_type": "execute_result"
    }
   ],
   "source": [
    "housing.columns"
   ]
  },
  {
   "cell_type": "code",
   "execution_count": 15,
   "metadata": {},
   "outputs": [],
   "source": [
    "import tensorflow as tf"
   ]
  },
  {
   "cell_type": "code",
   "execution_count": 16,
   "metadata": {},
   "outputs": [],
   "source": [
    "age = tf.feature_column.numeric_column('housingMedianAge')\n",
    "rooms = tf.feature_column.numeric_column('totalRooms')\n",
    "bedrooms = tf.feature_column.numeric_column('totalBedrooms')\n",
    "pop = tf.feature_column.numeric_column('population')\n",
    "households = tf.feature_column.numeric_column('households')\n",
    "income = tf.feature_column.numeric_column('medianIncome')"
   ]
  },
  {
   "cell_type": "code",
   "execution_count": 17,
   "metadata": {},
   "outputs": [],
   "source": [
    "feat_cols = [ age,rooms,bedrooms,pop,households,income]"
   ]
  },
  {
   "cell_type": "markdown",
   "metadata": {},
   "source": [
    "** Create the input function for the estimator object. (play around with batch_size and num_epochs)**"
   ]
  },
  {
   "cell_type": "code",
   "execution_count": 18,
   "metadata": {},
   "outputs": [],
   "source": [
    "input_func = tf.estimator.inputs.pandas_input_fn(x=X_train,y=y_train ,batch_size=10,num_epochs=1000,\n",
    "                                            shuffle=True)"
   ]
  },
  {
   "cell_type": "markdown",
   "metadata": {},
   "source": [
    "** Create the estimator model. Use a DNNRegressor. Play around with the hidden units! **"
   ]
  },
  {
   "cell_type": "code",
   "execution_count": 19,
   "metadata": {},
   "outputs": [
    {
     "name": "stdout",
     "output_type": "stream",
     "text": [
      "INFO:tensorflow:Using default config.\n",
      "WARNING:tensorflow:Using temporary folder as model directory: C:\\Users\\HARSHS~1\\AppData\\Local\\Temp\\tmp2z_2rq8h\n",
      "INFO:tensorflow:Using config: {'_task_type': 'worker', '_keep_checkpoint_every_n_hours': 10000, '_cluster_spec': <tensorflow.python.training.server_lib.ClusterSpec object at 0x000001CC2A97DFD0>, '_save_summary_steps': 100, '_tf_random_seed': None, '_save_checkpoints_secs': 600, '_evaluation_master': '', '_device_fn': None, '_keep_checkpoint_max': 5, '_global_id_in_cluster': 0, '_train_distribute': None, '_num_ps_replicas': 0, '_is_chief': True, '_num_worker_replicas': 1, '_log_step_count_steps': 100, '_session_config': None, '_save_checkpoints_steps': None, '_task_id': 0, '_model_dir': 'C:\\\\Users\\\\HARSHS~1\\\\AppData\\\\Local\\\\Temp\\\\tmp2z_2rq8h', '_master': '', '_service': None}\n"
     ]
    }
   ],
   "source": [
    "model = tf.estimator.DNNRegressor(hidden_units=[6,6,6],feature_columns=feat_cols)"
   ]
  },
  {
   "cell_type": "markdown",
   "metadata": {},
   "source": [
    "##### ** Train the model for ~1,000 steps. (Later come back to this and train it for more and check for improvement) **"
   ]
  },
  {
   "cell_type": "code",
   "execution_count": 20,
   "metadata": {},
   "outputs": [
    {
     "name": "stdout",
     "output_type": "stream",
     "text": [
      "INFO:tensorflow:Calling model_fn.\n",
      "INFO:tensorflow:Done calling model_fn.\n",
      "INFO:tensorflow:Create CheckpointSaverHook.\n",
      "INFO:tensorflow:Graph was finalized.\n",
      "INFO:tensorflow:Running local_init_op.\n",
      "INFO:tensorflow:Done running local_init_op.\n",
      "INFO:tensorflow:Saving checkpoints for 0 into C:\\Users\\HARSHS~1\\AppData\\Local\\Temp\\tmp2z_2rq8h\\model.ckpt.\n",
      "INFO:tensorflow:loss = 631751970000.0, step = 1\n",
      "INFO:tensorflow:global_step/sec: 243.354\n",
      "INFO:tensorflow:loss = 388767020000.0, step = 101 (0.421 sec)\n",
      "INFO:tensorflow:global_step/sec: 291.904\n",
      "INFO:tensorflow:loss = 545745000000.0, step = 201 (0.336 sec)\n",
      "INFO:tensorflow:global_step/sec: 319.843\n",
      "INFO:tensorflow:loss = 549610060000.0, step = 301 (0.313 sec)\n",
      "INFO:tensorflow:global_step/sec: 340.593\n",
      "INFO:tensorflow:loss = 497461430000.0, step = 401 (0.293 sec)\n",
      "INFO:tensorflow:global_step/sec: 302.598\n",
      "INFO:tensorflow:loss = 444944500000.0, step = 501 (0.333 sec)\n",
      "INFO:tensorflow:global_step/sec: 316.299\n",
      "INFO:tensorflow:loss = 396592100000.0, step = 601 (0.315 sec)\n",
      "INFO:tensorflow:global_step/sec: 316.301\n",
      "INFO:tensorflow:loss = 704548200000.0, step = 701 (0.319 sec)\n",
      "INFO:tensorflow:global_step/sec: 310.929\n",
      "INFO:tensorflow:loss = 340746960000.0, step = 801 (0.318 sec)\n",
      "INFO:tensorflow:global_step/sec: 318.312\n",
      "INFO:tensorflow:loss = 603800860000.0, step = 901 (0.319 sec)\n",
      "INFO:tensorflow:global_step/sec: 313.334\n",
      "INFO:tensorflow:loss = 605796100000.0, step = 1001 (0.316 sec)\n",
      "INFO:tensorflow:global_step/sec: 308.794\n",
      "INFO:tensorflow:loss = 463147500000.0, step = 1101 (0.323 sec)\n",
      "INFO:tensorflow:global_step/sec: 290.468\n",
      "INFO:tensorflow:loss = 459479840000.0, step = 1201 (0.340 sec)\n",
      "INFO:tensorflow:global_step/sec: 317.301\n",
      "INFO:tensorflow:loss = 334296650000.0, step = 1301 (0.316 sec)\n",
      "INFO:tensorflow:global_step/sec: 323.412\n",
      "INFO:tensorflow:loss = 482863800000.0, step = 1401 (0.311 sec)\n",
      "INFO:tensorflow:global_step/sec: 312.558\n",
      "INFO:tensorflow:loss = 386464900000.0, step = 1501 (0.317 sec)\n",
      "INFO:tensorflow:global_step/sec: 298.563\n",
      "INFO:tensorflow:loss = 686636700000.0, step = 1601 (0.335 sec)\n",
      "INFO:tensorflow:global_step/sec: 327.218\n",
      "INFO:tensorflow:loss = 336397200000.0, step = 1701 (0.312 sec)\n",
      "INFO:tensorflow:global_step/sec: 309.691\n",
      "INFO:tensorflow:loss = 433279760000.0, step = 1801 (0.327 sec)\n",
      "INFO:tensorflow:global_step/sec: 298.429\n",
      "INFO:tensorflow:loss = 373347600000.0, step = 1901 (0.325 sec)\n",
      "INFO:tensorflow:global_step/sec: 319.832\n",
      "INFO:tensorflow:loss = 530734450000.0, step = 2001 (0.313 sec)\n",
      "INFO:tensorflow:global_step/sec: 316.301\n",
      "INFO:tensorflow:loss = 446975500000.0, step = 2101 (0.318 sec)\n",
      "INFO:tensorflow:global_step/sec: 333.112\n",
      "INFO:tensorflow:loss = 435231820000.0, step = 2201 (0.300 sec)\n",
      "INFO:tensorflow:global_step/sec: 319.997\n",
      "INFO:tensorflow:loss = 664328300000.0, step = 2301 (0.314 sec)\n",
      "INFO:tensorflow:global_step/sec: 313.009\n",
      "INFO:tensorflow:loss = 316386340000.0, step = 2401 (0.320 sec)\n",
      "INFO:tensorflow:global_step/sec: 311.314\n",
      "INFO:tensorflow:loss = 234110660000.0, step = 2501 (0.319 sec)\n",
      "INFO:tensorflow:global_step/sec: 301.026\n",
      "INFO:tensorflow:loss = 511126270000.0, step = 2601 (0.332 sec)\n",
      "INFO:tensorflow:global_step/sec: 317.303\n",
      "INFO:tensorflow:loss = 271564690000.0, step = 2701 (0.316 sec)\n",
      "INFO:tensorflow:global_step/sec: 332.283\n",
      "INFO:tensorflow:loss = 506130140000.0, step = 2801 (0.305 sec)\n",
      "INFO:tensorflow:global_step/sec: 306.628\n",
      "INFO:tensorflow:loss = 461636700000.0, step = 2901 (0.325 sec)\n",
      "INFO:tensorflow:global_step/sec: 308.012\n",
      "INFO:tensorflow:loss = 129296830000.0, step = 3001 (0.326 sec)\n",
      "INFO:tensorflow:global_step/sec: 312.929\n",
      "INFO:tensorflow:loss = 102107144000.0, step = 3101 (0.314 sec)\n",
      "INFO:tensorflow:global_step/sec: 355.56\n",
      "INFO:tensorflow:loss = 385566930000.0, step = 3201 (0.285 sec)\n",
      "INFO:tensorflow:global_step/sec: 321.369\n",
      "INFO:tensorflow:loss = 360909280000.0, step = 3301 (0.309 sec)\n",
      "INFO:tensorflow:global_step/sec: 326.57\n",
      "INFO:tensorflow:loss = 180459100000.0, step = 3401 (0.308 sec)\n",
      "INFO:tensorflow:global_step/sec: 318.185\n",
      "INFO:tensorflow:loss = 124815150000.0, step = 3501 (0.310 sec)\n",
      "INFO:tensorflow:global_step/sec: 316.453\n",
      "INFO:tensorflow:loss = 428660850000.0, step = 3601 (0.320 sec)\n",
      "INFO:tensorflow:global_step/sec: 231.825\n",
      "INFO:tensorflow:loss = 122508560000.0, step = 3701 (0.432 sec)\n",
      "INFO:tensorflow:global_step/sec: 125.414\n",
      "INFO:tensorflow:loss = 249560630000.0, step = 3801 (0.799 sec)\n",
      "INFO:tensorflow:global_step/sec: 139.454\n",
      "INFO:tensorflow:loss = 34079162000.0, step = 3901 (0.727 sec)\n",
      "INFO:tensorflow:global_step/sec: 145.315\n",
      "INFO:tensorflow:loss = 301313330000.0, step = 4001 (0.678 sec)\n",
      "INFO:tensorflow:global_step/sec: 160.171\n",
      "INFO:tensorflow:loss = 282287870000.0, step = 4101 (0.630 sec)\n",
      "INFO:tensorflow:global_step/sec: 137.394\n",
      "INFO:tensorflow:loss = 58109690000.0, step = 4201 (0.731 sec)\n",
      "INFO:tensorflow:global_step/sec: 129.298\n",
      "INFO:tensorflow:loss = 158840960000.0, step = 4301 (0.772 sec)\n",
      "INFO:tensorflow:global_step/sec: 148.775\n",
      "INFO:tensorflow:loss = 132684670000.0, step = 4401 (0.660 sec)\n",
      "INFO:tensorflow:global_step/sec: 182.374\n",
      "INFO:tensorflow:loss = 98351320000.0, step = 4501 (0.569 sec)\n",
      "INFO:tensorflow:global_step/sec: 139.26\n",
      "INFO:tensorflow:loss = 86810750000.0, step = 4601 (0.723 sec)\n",
      "INFO:tensorflow:global_step/sec: 146.964\n",
      "INFO:tensorflow:loss = 267468550000.0, step = 4701 (0.671 sec)\n",
      "INFO:tensorflow:global_step/sec: 146.004\n",
      "INFO:tensorflow:loss = 180311130000.0, step = 4801 (0.669 sec)\n",
      "INFO:tensorflow:global_step/sec: 320.343\n",
      "INFO:tensorflow:loss = 99196290000.0, step = 4901 (0.314 sec)\n",
      "INFO:tensorflow:global_step/sec: 326.866\n",
      "INFO:tensorflow:loss = 162469020000.0, step = 5001 (0.306 sec)\n",
      "INFO:tensorflow:global_step/sec: 318.307\n",
      "INFO:tensorflow:loss = 126305300000.0, step = 5101 (0.311 sec)\n",
      "INFO:tensorflow:global_step/sec: 354.302\n",
      "INFO:tensorflow:loss = 140802210000.0, step = 5201 (0.280 sec)\n",
      "INFO:tensorflow:global_step/sec: 370.327\n",
      "INFO:tensorflow:loss = 184995870000.0, step = 5301 (0.273 sec)\n",
      "INFO:tensorflow:global_step/sec: 360.659\n",
      "INFO:tensorflow:loss = 351791680000.0, step = 5401 (0.279 sec)\n",
      "INFO:tensorflow:global_step/sec: 364.815\n",
      "INFO:tensorflow:loss = 128440340000.0, step = 5501 (0.277 sec)\n",
      "INFO:tensorflow:global_step/sec: 359.384\n",
      "INFO:tensorflow:loss = 110681830000.0, step = 5601 (0.272 sec)\n",
      "INFO:tensorflow:global_step/sec: 341.635\n",
      "INFO:tensorflow:loss = 64900590000.0, step = 5701 (0.292 sec)\n",
      "INFO:tensorflow:global_step/sec: 355.917\n",
      "INFO:tensorflow:loss = 129798380000.0, step = 5801 (0.282 sec)\n",
      "INFO:tensorflow:global_step/sec: 374.363\n",
      "INFO:tensorflow:loss = 69680580000.0, step = 5901 (0.269 sec)\n",
      "INFO:tensorflow:global_step/sec: 354.264\n",
      "INFO:tensorflow:loss = 44590940000.0, step = 6001 (0.286 sec)\n",
      "INFO:tensorflow:global_step/sec: 330.558\n",
      "INFO:tensorflow:loss = 106934804000.0, step = 6101 (0.301 sec)\n",
      "INFO:tensorflow:global_step/sec: 246.964\n",
      "INFO:tensorflow:loss = 79171780000.0, step = 6201 (0.404 sec)\n",
      "INFO:tensorflow:global_step/sec: 189.901\n",
      "INFO:tensorflow:loss = 210311970000.0, step = 6301 (0.526 sec)\n",
      "INFO:tensorflow:global_step/sec: 342.209\n",
      "INFO:tensorflow:loss = 203176250000.0, step = 6401 (0.291 sec)\n",
      "INFO:tensorflow:global_step/sec: 325.566\n",
      "INFO:tensorflow:loss = 161466800000.0, step = 6501 (0.306 sec)\n",
      "INFO:tensorflow:global_step/sec: 346.908\n",
      "INFO:tensorflow:loss = 174524610000.0, step = 6601 (0.290 sec)\n",
      "INFO:tensorflow:global_step/sec: 322.435\n",
      "INFO:tensorflow:loss = 140483510000.0, step = 6701 (0.307 sec)\n",
      "INFO:tensorflow:global_step/sec: 335.342\n",
      "INFO:tensorflow:loss = 86017060000.0, step = 6801 (0.301 sec)\n",
      "INFO:tensorflow:global_step/sec: 334.916\n",
      "INFO:tensorflow:loss = 150336340000.0, step = 6901 (0.299 sec)\n",
      "INFO:tensorflow:global_step/sec: 326.602\n",
      "INFO:tensorflow:loss = 159063000000.0, step = 7001 (0.310 sec)\n",
      "INFO:tensorflow:global_step/sec: 322.936\n",
      "INFO:tensorflow:loss = 61140226000.0, step = 7101 (0.306 sec)\n",
      "INFO:tensorflow:global_step/sec: 329.624\n",
      "INFO:tensorflow:loss = 226739390000.0, step = 7201 (0.304 sec)\n",
      "INFO:tensorflow:global_step/sec: 345.789\n",
      "INFO:tensorflow:loss = 13316989000.0, step = 7301 (0.286 sec)\n",
      "INFO:tensorflow:global_step/sec: 333.165\n",
      "INFO:tensorflow:loss = 105789100000.0, step = 7401 (0.304 sec)\n",
      "INFO:tensorflow:global_step/sec: 305.681\n",
      "INFO:tensorflow:loss = 93572010000.0, step = 7501 (0.332 sec)\n",
      "INFO:tensorflow:global_step/sec: 236.486\n"
     ]
    },
    {
     "name": "stdout",
     "output_type": "stream",
     "text": [
      "INFO:tensorflow:loss = 156418440000.0, step = 7601 (0.425 sec)\n",
      "INFO:tensorflow:global_step/sec: 229.445\n",
      "INFO:tensorflow:loss = 99003240000.0, step = 7701 (0.424 sec)\n",
      "INFO:tensorflow:global_step/sec: 297.529\n",
      "INFO:tensorflow:loss = 61607840000.0, step = 7801 (0.339 sec)\n",
      "INFO:tensorflow:global_step/sec: 340.779\n",
      "INFO:tensorflow:loss = 56191740000.0, step = 7901 (0.293 sec)\n",
      "INFO:tensorflow:global_step/sec: 317.023\n",
      "INFO:tensorflow:loss = 165326450000.0, step = 8001 (0.318 sec)\n",
      "INFO:tensorflow:global_step/sec: 323.734\n",
      "INFO:tensorflow:loss = 60590866000.0, step = 8101 (0.309 sec)\n",
      "INFO:tensorflow:global_step/sec: 283.998\n",
      "INFO:tensorflow:loss = 134179090000.0, step = 8201 (0.350 sec)\n",
      "INFO:tensorflow:global_step/sec: 295.823\n",
      "INFO:tensorflow:loss = 72316215000.0, step = 8301 (0.338 sec)\n",
      "INFO:tensorflow:global_step/sec: 271.727\n",
      "INFO:tensorflow:loss = 62548353000.0, step = 8401 (0.372 sec)\n",
      "INFO:tensorflow:global_step/sec: 277.517\n",
      "INFO:tensorflow:loss = 102724714000.0, step = 8501 (0.358 sec)\n",
      "INFO:tensorflow:global_step/sec: 267.595\n",
      "INFO:tensorflow:loss = 110092820000.0, step = 8601 (0.376 sec)\n",
      "INFO:tensorflow:global_step/sec: 301.101\n",
      "INFO:tensorflow:loss = 347879080000.0, step = 8701 (0.324 sec)\n",
      "INFO:tensorflow:global_step/sec: 338.982\n",
      "INFO:tensorflow:loss = 55382438000.0, step = 8801 (0.302 sec)\n",
      "INFO:tensorflow:global_step/sec: 319.462\n",
      "INFO:tensorflow:loss = 115640705000.0, step = 8901 (0.317 sec)\n",
      "INFO:tensorflow:global_step/sec: 316.33\n",
      "INFO:tensorflow:loss = 158191910000.0, step = 9001 (0.307 sec)\n",
      "INFO:tensorflow:global_step/sec: 337.071\n",
      "INFO:tensorflow:loss = 142343570000.0, step = 9101 (0.298 sec)\n",
      "INFO:tensorflow:global_step/sec: 328.212\n",
      "INFO:tensorflow:loss = 151533700000.0, step = 9201 (0.305 sec)\n",
      "INFO:tensorflow:global_step/sec: 326.643\n",
      "INFO:tensorflow:loss = 101906670000.0, step = 9301 (0.307 sec)\n",
      "INFO:tensorflow:global_step/sec: 332.574\n",
      "INFO:tensorflow:loss = 88413390000.0, step = 9401 (0.301 sec)\n",
      "INFO:tensorflow:global_step/sec: 334.224\n",
      "INFO:tensorflow:loss = 121569580000.0, step = 9501 (0.301 sec)\n",
      "INFO:tensorflow:global_step/sec: 318.449\n",
      "INFO:tensorflow:loss = 187487730000.0, step = 9601 (0.312 sec)\n",
      "INFO:tensorflow:global_step/sec: 338.742\n",
      "INFO:tensorflow:loss = 49397170000.0, step = 9701 (0.293 sec)\n",
      "INFO:tensorflow:global_step/sec: 329.888\n",
      "INFO:tensorflow:loss = 61552574000.0, step = 9801 (0.308 sec)\n",
      "INFO:tensorflow:global_step/sec: 311.131\n",
      "INFO:tensorflow:loss = 112650400000.0, step = 9901 (0.315 sec)\n",
      "INFO:tensorflow:global_step/sec: 314.259\n",
      "INFO:tensorflow:loss = 51613016000.0, step = 10001 (0.320 sec)\n",
      "INFO:tensorflow:global_step/sec: 339.979\n",
      "INFO:tensorflow:loss = 107004600000.0, step = 10101 (0.299 sec)\n",
      "INFO:tensorflow:global_step/sec: 320.452\n",
      "INFO:tensorflow:loss = 230812550000.0, step = 10201 (0.308 sec)\n",
      "INFO:tensorflow:global_step/sec: 331.132\n",
      "INFO:tensorflow:loss = 149579300000.0, step = 10301 (0.303 sec)\n",
      "INFO:tensorflow:global_step/sec: 339.889\n",
      "INFO:tensorflow:loss = 82693070000.0, step = 10401 (0.295 sec)\n",
      "INFO:tensorflow:global_step/sec: 310.425\n",
      "INFO:tensorflow:loss = 54950160000.0, step = 10501 (0.322 sec)\n",
      "INFO:tensorflow:global_step/sec: 321.37\n",
      "INFO:tensorflow:loss = 146392370000.0, step = 10601 (0.311 sec)\n",
      "INFO:tensorflow:global_step/sec: 338.828\n",
      "INFO:tensorflow:loss = 70732400000.0, step = 10701 (0.294 sec)\n",
      "INFO:tensorflow:global_step/sec: 335.89\n",
      "INFO:tensorflow:loss = 106888840000.0, step = 10801 (0.297 sec)\n",
      "INFO:tensorflow:global_step/sec: 339.925\n",
      "INFO:tensorflow:loss = 149268460000.0, step = 10901 (0.292 sec)\n",
      "INFO:tensorflow:global_step/sec: 328.651\n",
      "INFO:tensorflow:loss = 120299635000.0, step = 11001 (0.305 sec)\n",
      "INFO:tensorflow:global_step/sec: 327.976\n",
      "INFO:tensorflow:loss = 112222700000.0, step = 11101 (0.303 sec)\n",
      "INFO:tensorflow:global_step/sec: 340.712\n",
      "INFO:tensorflow:loss = 49163403000.0, step = 11201 (0.295 sec)\n",
      "INFO:tensorflow:global_step/sec: 329.826\n",
      "INFO:tensorflow:loss = 106167940000.0, step = 11301 (0.301 sec)\n",
      "INFO:tensorflow:global_step/sec: 334.127\n",
      "INFO:tensorflow:loss = 82118070000.0, step = 11401 (0.300 sec)\n",
      "INFO:tensorflow:global_step/sec: 335.404\n",
      "INFO:tensorflow:loss = 64623452000.0, step = 11501 (0.300 sec)\n",
      "INFO:tensorflow:global_step/sec: 356.606\n",
      "INFO:tensorflow:loss = 227399800000.0, step = 11601 (0.282 sec)\n",
      "INFO:tensorflow:global_step/sec: 327.93\n",
      "INFO:tensorflow:loss = 87241910000.0, step = 11701 (0.305 sec)\n",
      "INFO:tensorflow:global_step/sec: 342.172\n",
      "INFO:tensorflow:loss = 157819000000.0, step = 11801 (0.288 sec)\n",
      "INFO:tensorflow:global_step/sec: 332.321\n",
      "INFO:tensorflow:loss = 111937946000.0, step = 11901 (0.298 sec)\n",
      "INFO:tensorflow:global_step/sec: 358.101\n",
      "INFO:tensorflow:loss = 93772550000.0, step = 12001 (0.281 sec)\n",
      "INFO:tensorflow:global_step/sec: 332.806\n",
      "INFO:tensorflow:loss = 118609710000.0, step = 12101 (0.304 sec)\n",
      "INFO:tensorflow:global_step/sec: 326.789\n",
      "INFO:tensorflow:loss = 80066360000.0, step = 12201 (0.304 sec)\n",
      "INFO:tensorflow:global_step/sec: 345.747\n",
      "INFO:tensorflow:loss = 113165020000.0, step = 12301 (0.289 sec)\n",
      "INFO:tensorflow:global_step/sec: 325.258\n",
      "INFO:tensorflow:loss = 124123590000.0, step = 12401 (0.308 sec)\n",
      "INFO:tensorflow:global_step/sec: 347.004\n",
      "INFO:tensorflow:loss = 132027180000.0, step = 12501 (0.289 sec)\n",
      "INFO:tensorflow:global_step/sec: 342.211\n",
      "INFO:tensorflow:loss = 74911240000.0, step = 12601 (0.292 sec)\n",
      "INFO:tensorflow:global_step/sec: 329.669\n",
      "INFO:tensorflow:loss = 52163162000.0, step = 12701 (0.306 sec)\n",
      "INFO:tensorflow:global_step/sec: 325.483\n",
      "INFO:tensorflow:loss = 37918773000.0, step = 12801 (0.306 sec)\n",
      "INFO:tensorflow:global_step/sec: 338.74\n",
      "INFO:tensorflow:loss = 70670980000.0, step = 12901 (0.295 sec)\n",
      "INFO:tensorflow:global_step/sec: 334.226\n",
      "INFO:tensorflow:loss = 85601034000.0, step = 13001 (0.296 sec)\n",
      "INFO:tensorflow:global_step/sec: 331.739\n",
      "INFO:tensorflow:loss = 89273640000.0, step = 13101 (0.301 sec)\n",
      "INFO:tensorflow:global_step/sec: 353.949\n",
      "INFO:tensorflow:loss = 106968140000.0, step = 13201 (0.282 sec)\n",
      "INFO:tensorflow:global_step/sec: 328.603\n",
      "INFO:tensorflow:loss = 94026695000.0, step = 13301 (0.308 sec)\n",
      "INFO:tensorflow:global_step/sec: 310.426\n",
      "INFO:tensorflow:loss = 109706820000.0, step = 13401 (0.318 sec)\n",
      "INFO:tensorflow:global_step/sec: 337.601\n",
      "INFO:tensorflow:loss = 71118260000.0, step = 13501 (0.298 sec)\n",
      "INFO:tensorflow:global_step/sec: 333.11\n",
      "INFO:tensorflow:loss = 75141040000.0, step = 13601 (0.304 sec)\n",
      "INFO:tensorflow:global_step/sec: 330.918\n",
      "INFO:tensorflow:loss = 104256496000.0, step = 13701 (0.297 sec)\n",
      "INFO:tensorflow:global_step/sec: 307.569\n",
      "INFO:tensorflow:loss = 50698300000.0, step = 13801 (0.332 sec)\n",
      "INFO:tensorflow:global_step/sec: 330.915\n",
      "INFO:tensorflow:loss = 165162750000.0, step = 13901 (0.295 sec)\n",
      "INFO:tensorflow:global_step/sec: 344.525\n",
      "INFO:tensorflow:loss = 84762755000.0, step = 14001 (0.288 sec)\n",
      "INFO:tensorflow:global_step/sec: 364.608\n",
      "INFO:tensorflow:loss = 69682676000.0, step = 14101 (0.276 sec)\n",
      "INFO:tensorflow:global_step/sec: 355.596\n",
      "INFO:tensorflow:loss = 136659755000.0, step = 14201 (0.281 sec)\n",
      "INFO:tensorflow:global_step/sec: 327.05\n",
      "INFO:tensorflow:loss = 35344360000.0, step = 14301 (0.309 sec)\n",
      "INFO:tensorflow:global_step/sec: 322.402\n",
      "INFO:tensorflow:loss = 22751617000.0, step = 14401 (0.307 sec)\n",
      "INFO:tensorflow:global_step/sec: 349.364\n",
      "INFO:tensorflow:loss = 43726200000.0, step = 14501 (0.286 sec)\n",
      "INFO:tensorflow:global_step/sec: 337.943\n",
      "INFO:tensorflow:loss = 113604805000.0, step = 14601 (0.296 sec)\n",
      "INFO:tensorflow:global_step/sec: 337.226\n",
      "INFO:tensorflow:loss = 97663890000.0, step = 14701 (0.298 sec)\n",
      "INFO:tensorflow:global_step/sec: 350.586\n",
      "INFO:tensorflow:loss = 113078810000.0, step = 14801 (0.284 sec)\n",
      "INFO:tensorflow:global_step/sec: 330.665\n",
      "INFO:tensorflow:loss = 88939130000.0, step = 14901 (0.301 sec)\n",
      "INFO:tensorflow:global_step/sec: 345.749\n",
      "INFO:tensorflow:loss = 55685850000.0, step = 15001 (0.294 sec)\n",
      "INFO:tensorflow:global_step/sec: 354.3\n",
      "INFO:tensorflow:loss = 72319870000.0, step = 15101 (0.278 sec)\n",
      "INFO:tensorflow:global_step/sec: 349.362\n",
      "INFO:tensorflow:loss = 85474615000.0, step = 15201 (0.285 sec)\n",
      "INFO:tensorflow:global_step/sec: 363.287\n",
      "INFO:tensorflow:loss = 93029690000.0, step = 15301 (0.276 sec)\n",
      "INFO:tensorflow:global_step/sec: 368.684\n",
      "INFO:tensorflow:loss = 82739230000.0, step = 15401 (0.273 sec)\n",
      "INFO:tensorflow:global_step/sec: 367.281\n"
     ]
    },
    {
     "name": "stdout",
     "output_type": "stream",
     "text": [
      "INFO:tensorflow:loss = 91351196000.0, step = 15501 (0.270 sec)\n",
      "INFO:tensorflow:global_step/sec: 329.592\n",
      "INFO:tensorflow:loss = 75578420000.0, step = 15601 (0.303 sec)\n",
      "INFO:tensorflow:global_step/sec: 321.403\n",
      "INFO:tensorflow:loss = 178363150000.0, step = 15701 (0.314 sec)\n",
      "INFO:tensorflow:global_step/sec: 324.265\n",
      "INFO:tensorflow:loss = 107924200000.0, step = 15801 (0.309 sec)\n",
      "INFO:tensorflow:global_step/sec: 324.343\n",
      "INFO:tensorflow:loss = 73561670000.0, step = 15901 (0.343 sec)\n",
      "INFO:tensorflow:global_step/sec: 209.654\n",
      "INFO:tensorflow:loss = 73792000000.0, step = 16001 (0.438 sec)\n",
      "INFO:tensorflow:global_step/sec: 215.901\n",
      "INFO:tensorflow:loss = 129899810000.0, step = 16101 (0.465 sec)\n",
      "INFO:tensorflow:global_step/sec: 221.127\n",
      "INFO:tensorflow:loss = 117848140000.0, step = 16201 (0.485 sec)\n",
      "INFO:tensorflow:global_step/sec: 257.87\n",
      "INFO:tensorflow:loss = 70330070000.0, step = 16301 (0.356 sec)\n",
      "INFO:tensorflow:global_step/sec: 308.515\n",
      "INFO:tensorflow:loss = 47365894000.0, step = 16401 (0.322 sec)\n",
      "INFO:tensorflow:global_step/sec: 313.855\n",
      "INFO:tensorflow:loss = 124300380000.0, step = 16501 (0.319 sec)\n",
      "INFO:tensorflow:global_step/sec: 328.922\n",
      "INFO:tensorflow:loss = 76112860000.0, step = 16601 (0.306 sec)\n",
      "INFO:tensorflow:global_step/sec: 334.19\n",
      "INFO:tensorflow:loss = 60898450000.0, step = 16701 (0.297 sec)\n",
      "INFO:tensorflow:global_step/sec: 335.374\n",
      "INFO:tensorflow:loss = 143454030000.0, step = 16801 (0.299 sec)\n",
      "INFO:tensorflow:global_step/sec: 325.981\n",
      "INFO:tensorflow:loss = 71629490000.0, step = 16901 (0.312 sec)\n",
      "INFO:tensorflow:global_step/sec: 328.743\n",
      "INFO:tensorflow:loss = 163396220000.0, step = 17001 (0.301 sec)\n",
      "INFO:tensorflow:global_step/sec: 322.404\n",
      "INFO:tensorflow:loss = 46859858000.0, step = 17101 (0.304 sec)\n",
      "INFO:tensorflow:global_step/sec: 334.818\n",
      "INFO:tensorflow:loss = 102109454000.0, step = 17201 (0.302 sec)\n",
      "INFO:tensorflow:global_step/sec: 345.665\n",
      "INFO:tensorflow:loss = 76235010000.0, step = 17301 (0.286 sec)\n",
      "INFO:tensorflow:global_step/sec: 328.886\n",
      "INFO:tensorflow:loss = 73447250000.0, step = 17401 (0.309 sec)\n",
      "INFO:tensorflow:global_step/sec: 338.837\n",
      "INFO:tensorflow:loss = 132342630000.0, step = 17501 (0.291 sec)\n",
      "INFO:tensorflow:global_step/sec: 338.74\n",
      "INFO:tensorflow:loss = 235141860000.0, step = 17601 (0.294 sec)\n",
      "INFO:tensorflow:global_step/sec: 338.711\n",
      "INFO:tensorflow:loss = 130066070000.0, step = 17701 (0.302 sec)\n",
      "INFO:tensorflow:global_step/sec: 319.626\n",
      "INFO:tensorflow:loss = 209271230000.0, step = 17801 (0.307 sec)\n",
      "INFO:tensorflow:global_step/sec: 333.421\n",
      "INFO:tensorflow:loss = 83671564000.0, step = 17901 (0.303 sec)\n",
      "INFO:tensorflow:global_step/sec: 348.69\n",
      "INFO:tensorflow:loss = 68944150000.0, step = 18001 (0.284 sec)\n",
      "INFO:tensorflow:global_step/sec: 349.368\n",
      "INFO:tensorflow:loss = 69187940000.0, step = 18101 (0.289 sec)\n",
      "INFO:tensorflow:global_step/sec: 331.202\n",
      "INFO:tensorflow:loss = 152764550000.0, step = 18201 (0.298 sec)\n",
      "INFO:tensorflow:global_step/sec: 344.777\n",
      "INFO:tensorflow:loss = 79353080000.0, step = 18301 (0.294 sec)\n",
      "INFO:tensorflow:global_step/sec: 338.039\n",
      "INFO:tensorflow:loss = 160381600000.0, step = 18401 (0.296 sec)\n",
      "INFO:tensorflow:global_step/sec: 321.399\n",
      "INFO:tensorflow:loss = 86721740000.0, step = 18501 (0.308 sec)\n",
      "INFO:tensorflow:global_step/sec: 280.078\n",
      "INFO:tensorflow:loss = 58671960000.0, step = 18601 (0.357 sec)\n",
      "INFO:tensorflow:global_step/sec: 270.992\n",
      "INFO:tensorflow:loss = 107746820000.0, step = 18701 (0.370 sec)\n",
      "INFO:tensorflow:global_step/sec: 277.749\n",
      "INFO:tensorflow:loss = 122071730000.0, step = 18801 (0.360 sec)\n",
      "INFO:tensorflow:global_step/sec: 286.471\n",
      "INFO:tensorflow:loss = 108653640000.0, step = 18901 (0.352 sec)\n",
      "INFO:tensorflow:global_step/sec: 283.245\n",
      "INFO:tensorflow:loss = 114119690000.0, step = 19001 (0.350 sec)\n",
      "INFO:tensorflow:global_step/sec: 338.616\n",
      "INFO:tensorflow:loss = 54128267000.0, step = 19101 (0.294 sec)\n",
      "INFO:tensorflow:global_step/sec: 342.21\n",
      "INFO:tensorflow:loss = 66449457000.0, step = 19201 (0.292 sec)\n",
      "INFO:tensorflow:global_step/sec: 354.302\n",
      "INFO:tensorflow:loss = 61805270000.0, step = 19301 (0.284 sec)\n",
      "INFO:tensorflow:global_step/sec: 338.745\n",
      "INFO:tensorflow:loss = 83472330000.0, step = 19401 (0.296 sec)\n",
      "INFO:tensorflow:global_step/sec: 337.048\n",
      "INFO:tensorflow:loss = 215826810000.0, step = 19501 (0.292 sec)\n",
      "INFO:tensorflow:global_step/sec: 320.343\n",
      "INFO:tensorflow:loss = 62257676000.0, step = 19601 (0.323 sec)\n",
      "INFO:tensorflow:global_step/sec: 291.157\n",
      "INFO:tensorflow:loss = 118604540000.0, step = 19701 (0.337 sec)\n",
      "INFO:tensorflow:global_step/sec: 176.527\n",
      "INFO:tensorflow:loss = 66451714000.0, step = 19801 (0.566 sec)\n",
      "INFO:tensorflow:global_step/sec: 324.489\n",
      "INFO:tensorflow:loss = 99608396000.0, step = 19901 (0.304 sec)\n",
      "INFO:tensorflow:global_step/sec: 326.368\n",
      "INFO:tensorflow:loss = 73322300000.0, step = 20001 (0.312 sec)\n",
      "INFO:tensorflow:global_step/sec: 329.583\n",
      "INFO:tensorflow:loss = 161139020000.0, step = 20101 (0.305 sec)\n",
      "INFO:tensorflow:global_step/sec: 327.878\n",
      "INFO:tensorflow:loss = 175214130000.0, step = 20201 (0.299 sec)\n",
      "INFO:tensorflow:global_step/sec: 333.15\n",
      "INFO:tensorflow:loss = 120229100000.0, step = 20301 (0.301 sec)\n",
      "INFO:tensorflow:global_step/sec: 196.218\n",
      "INFO:tensorflow:loss = 80917090000.0, step = 20401 (0.533 sec)\n",
      "INFO:tensorflow:global_step/sec: 195.825\n",
      "INFO:tensorflow:loss = 106714650000.0, step = 20501 (0.487 sec)\n",
      "INFO:tensorflow:global_step/sec: 318.305\n",
      "INFO:tensorflow:loss = 80420170000.0, step = 20601 (0.314 sec)\n",
      "INFO:tensorflow:global_step/sec: 328.551\n",
      "INFO:tensorflow:loss = 113424320000.0, step = 20701 (0.305 sec)\n",
      "INFO:tensorflow:global_step/sec: 275.96\n",
      "INFO:tensorflow:loss = 104579940000.0, step = 20801 (0.360 sec)\n",
      "INFO:tensorflow:global_step/sec: 288.147\n",
      "INFO:tensorflow:loss = 77116720000.0, step = 20901 (0.351 sec)\n",
      "INFO:tensorflow:global_step/sec: 336.502\n",
      "INFO:tensorflow:loss = 118584170000.0, step = 21001 (0.293 sec)\n",
      "INFO:tensorflow:global_step/sec: 334.225\n",
      "INFO:tensorflow:loss = 50861625000.0, step = 21101 (0.305 sec)\n",
      "INFO:tensorflow:global_step/sec: 344.56\n",
      "INFO:tensorflow:loss = 223031130000.0, step = 21201 (0.289 sec)\n",
      "INFO:tensorflow:global_step/sec: 336.529\n",
      "INFO:tensorflow:loss = 107272765000.0, step = 21301 (0.291 sec)\n",
      "INFO:tensorflow:global_step/sec: 350.649\n",
      "INFO:tensorflow:loss = 194561600000.0, step = 21401 (0.286 sec)\n",
      "INFO:tensorflow:global_step/sec: 376.656\n",
      "INFO:tensorflow:loss = 93686660000.0, step = 21501 (0.267 sec)\n",
      "INFO:tensorflow:global_step/sec: 335.569\n",
      "INFO:tensorflow:loss = 120617116000.0, step = 21601 (0.294 sec)\n",
      "INFO:tensorflow:global_step/sec: 346.948\n",
      "INFO:tensorflow:loss = 78815390000.0, step = 21701 (0.293 sec)\n",
      "INFO:tensorflow:global_step/sec: 327.347\n",
      "INFO:tensorflow:loss = 53349550000.0, step = 21801 (0.307 sec)\n",
      "INFO:tensorflow:global_step/sec: 329.79\n",
      "INFO:tensorflow:loss = 151538000000.0, step = 21901 (0.302 sec)\n",
      "INFO:tensorflow:global_step/sec: 183.65\n",
      "INFO:tensorflow:loss = 151500060000.0, step = 22001 (0.543 sec)\n",
      "INFO:tensorflow:global_step/sec: 260.436\n",
      "INFO:tensorflow:loss = 58407950000.0, step = 22101 (0.383 sec)\n",
      "INFO:tensorflow:global_step/sec: 332.743\n",
      "INFO:tensorflow:loss = 174552560000.0, step = 22201 (0.303 sec)\n",
      "INFO:tensorflow:global_step/sec: 325.502\n",
      "INFO:tensorflow:loss = 86666390000.0, step = 22301 (0.305 sec)\n",
      "INFO:tensorflow:global_step/sec: 323.463\n",
      "INFO:tensorflow:loss = 103075316000.0, step = 22401 (0.313 sec)\n",
      "INFO:tensorflow:global_step/sec: 235.929\n",
      "INFO:tensorflow:loss = 140315100000.0, step = 22501 (0.434 sec)\n",
      "INFO:tensorflow:global_step/sec: 258.419\n",
      "INFO:tensorflow:loss = 82794740000.0, step = 22601 (0.372 sec)\n",
      "INFO:tensorflow:global_step/sec: 336.47\n",
      "INFO:tensorflow:loss = 135020640000.0, step = 22701 (0.296 sec)\n",
      "INFO:tensorflow:global_step/sec: 333.427\n",
      "INFO:tensorflow:loss = 91866990000.0, step = 22801 (0.304 sec)\n",
      "INFO:tensorflow:global_step/sec: 336.614\n",
      "INFO:tensorflow:loss = 88890910000.0, step = 22901 (0.293 sec)\n",
      "INFO:tensorflow:global_step/sec: 215.906\n",
      "INFO:tensorflow:loss = 48317264000.0, step = 23001 (0.489 sec)\n",
      "INFO:tensorflow:global_step/sec: 280.861\n",
      "INFO:tensorflow:loss = 78758640000.0, step = 23101 (0.337 sec)\n",
      "INFO:tensorflow:global_step/sec: 326.602\n",
      "INFO:tensorflow:loss = 69939400000.0, step = 23201 (0.302 sec)\n",
      "INFO:tensorflow:global_step/sec: 290.63\n",
      "INFO:tensorflow:loss = 156170860000.0, step = 23301 (0.344 sec)\n"
     ]
    },
    {
     "name": "stdout",
     "output_type": "stream",
     "text": [
      "INFO:tensorflow:global_step/sec: 325.544\n",
      "INFO:tensorflow:loss = 141432750000.0, step = 23401 (0.312 sec)\n",
      "INFO:tensorflow:global_step/sec: 303.84\n",
      "INFO:tensorflow:loss = 30434417000.0, step = 23501 (0.322 sec)\n",
      "INFO:tensorflow:global_step/sec: 296.649\n",
      "INFO:tensorflow:loss = 129265310000.0, step = 23601 (0.340 sec)\n",
      "INFO:tensorflow:global_step/sec: 272.466\n",
      "INFO:tensorflow:loss = 78202580000.0, step = 23701 (0.372 sec)\n",
      "INFO:tensorflow:global_step/sec: 303.838\n",
      "INFO:tensorflow:loss = 128418365000.0, step = 23801 (0.324 sec)\n",
      "INFO:tensorflow:global_step/sec: 314.32\n",
      "INFO:tensorflow:loss = 49198970000.0, step = 23901 (0.318 sec)\n",
      "INFO:tensorflow:global_step/sec: 312.358\n",
      "INFO:tensorflow:loss = 67055395000.0, step = 24001 (0.319 sec)\n",
      "INFO:tensorflow:global_step/sec: 316.078\n",
      "INFO:tensorflow:loss = 118375645000.0, step = 24101 (0.320 sec)\n",
      "INFO:tensorflow:global_step/sec: 323.013\n",
      "INFO:tensorflow:loss = 90024560000.0, step = 24201 (0.307 sec)\n",
      "INFO:tensorflow:global_step/sec: 325.577\n",
      "INFO:tensorflow:loss = 104101224000.0, step = 24301 (0.309 sec)\n",
      "INFO:tensorflow:global_step/sec: 320.343\n",
      "INFO:tensorflow:loss = 135502970000.0, step = 24401 (0.309 sec)\n",
      "INFO:tensorflow:global_step/sec: 338.741\n",
      "INFO:tensorflow:loss = 120418920000.0, step = 24501 (0.302 sec)\n",
      "INFO:tensorflow:global_step/sec: 319.91\n",
      "INFO:tensorflow:loss = 40888775000.0, step = 24601 (0.313 sec)\n",
      "INFO:tensorflow:global_step/sec: 167.108\n",
      "INFO:tensorflow:loss = 114969320000.0, step = 24701 (0.595 sec)\n",
      "INFO:tensorflow:global_step/sec: 149.211\n",
      "INFO:tensorflow:loss = 158503060000.0, step = 24801 (0.679 sec)\n",
      "INFO:tensorflow:global_step/sec: 149.653\n",
      "INFO:tensorflow:loss = 177195220000.0, step = 24901 (0.660 sec)\n",
      "INFO:tensorflow:Saving checkpoints for 25000 into C:\\Users\\HARSHS~1\\AppData\\Local\\Temp\\tmp2z_2rq8h\\model.ckpt.\n",
      "INFO:tensorflow:Loss for final step: 139314300000.0.\n"
     ]
    },
    {
     "data": {
      "text/plain": [
       "<tensorflow.python.estimator.canned.dnn.DNNRegressor at 0x1cc30cb1588>"
      ]
     },
     "execution_count": 20,
     "metadata": {},
     "output_type": "execute_result"
    }
   ],
   "source": [
    "model.train(input_fn=input_func,steps=25000)"
   ]
  },
  {
   "cell_type": "markdown",
   "metadata": {},
   "source": [
    "** Create a prediction input function and then use the .predict method off your estimator model to create a list or predictions on your test data. **"
   ]
  },
  {
   "cell_type": "code",
   "execution_count": 21,
   "metadata": {},
   "outputs": [],
   "source": [
    "predict_input_func = tf.estimator.inputs.pandas_input_fn(\n",
    "      x=X_test,\n",
    "      batch_size=10,\n",
    "      num_epochs=1,\n",
    "      shuffle=False)"
   ]
  },
  {
   "cell_type": "code",
   "execution_count": 22,
   "metadata": {},
   "outputs": [],
   "source": [
    "pred_gen = model.predict(predict_input_func)"
   ]
  },
  {
   "cell_type": "code",
   "execution_count": 23,
   "metadata": {},
   "outputs": [
    {
     "name": "stdout",
     "output_type": "stream",
     "text": [
      "INFO:tensorflow:Calling model_fn.\n",
      "INFO:tensorflow:Done calling model_fn.\n",
      "INFO:tensorflow:Graph was finalized.\n",
      "INFO:tensorflow:Restoring parameters from C:\\Users\\HARSHS~1\\AppData\\Local\\Temp\\tmp2z_2rq8h\\model.ckpt-25000\n",
      "INFO:tensorflow:Running local_init_op.\n",
      "INFO:tensorflow:Done running local_init_op.\n"
     ]
    }
   ],
   "source": [
    "predictions = list(pred_gen)"
   ]
  },
  {
   "cell_type": "markdown",
   "metadata": {},
   "source": [
    "** Calculate the RMSE. Do this manually or use [sklearn.metrics](http://scikit-learn.org/stable/modules/generated/sklearn.metrics.mean_squared_error.html) **"
   ]
  },
  {
   "cell_type": "code",
   "execution_count": 24,
   "metadata": {},
   "outputs": [],
   "source": [
    "final_preds = []\n",
    "for pred in predictions:\n",
    "    final_preds.append(pred['predictions'])"
   ]
  },
  {
   "cell_type": "code",
   "execution_count": 25,
   "metadata": {},
   "outputs": [],
   "source": [
    "from sklearn.metrics import mean_squared_error"
   ]
  },
  {
   "cell_type": "code",
   "execution_count": 26,
   "metadata": {},
   "outputs": [
    {
     "data": {
      "text/plain": [
       "103430.69993485493"
      ]
     },
     "execution_count": 26,
     "metadata": {},
     "output_type": "execute_result"
    }
   ],
   "source": [
    "mean_squared_error(y_test,final_preds)**0.5"
   ]
  },
  {
   "cell_type": "markdown",
   "metadata": {},
   "source": [
    "# Great Job!"
   ]
  },
  {
   "cell_type": "code",
   "execution_count": null,
   "metadata": {},
   "outputs": [],
   "source": []
  }
 ],
 "metadata": {
  "kernelspec": {
   "display_name": "Python 3",
   "language": "python",
   "name": "python3"
  },
  "language_info": {
   "codemirror_mode": {
    "name": "ipython",
    "version": 3
   },
   "file_extension": ".py",
   "mimetype": "text/x-python",
   "name": "python",
   "nbconvert_exporter": "python",
   "pygments_lexer": "ipython3",
   "version": "3.5.5"
  }
 },
 "nbformat": 4,
 "nbformat_minor": 2
}
