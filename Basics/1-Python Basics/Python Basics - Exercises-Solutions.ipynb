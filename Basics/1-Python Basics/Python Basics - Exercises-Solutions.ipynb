{
 "cells": [
  {
   "cell_type": "markdown",
   "metadata": {},
   "source": [
    "<img src=\"../Pics/MLSb-T.png\" width=\"160\">\n",
    "<br><br>\n",
    "<center><u><H1>Python Basics - Exercises</H1></u></center>"
   ]
  },
  {
   "cell_type": "markdown",
   "metadata": {},
   "source": [
    "## Let me present you Cosmos company, it is a trading company with present in many states of USA. I show you the data for the top 5 sellers of this company, where: \n",
    "## - Sales is a dictionary with the sales for each seller identified with a code number.\n",
    "## - Base salary is the minimum salary\n",
    "## - Base salary ratio is a ratio that improve the base salary based on the qualification of each salesman.\n",
    "## - Finally you have a list with the data of each seller including the salary ratio and the zip code where is located."
   ]
  },
  {
   "cell_type": "code",
   "execution_count": 1,
   "metadata": {
    "collapsed": false
   },
   "outputs": [],
   "source": [
    "# Sales in thousands\n",
    "sales = {1:125,2:150,3:95,4:114,5:89}\n",
    "base_salary = 5000\n",
    "base_salary_ratio = {'l1':2, 'l2': 1.5, 'l3': 1.0 }\n",
    "\n",
    "# Name, LastName, code_salary_ratio, years working\n",
    "sellers = [[1, 'Albert','Sandler','l2', '33142'],\n",
    "           [2, 'Carl', 'Sagan','l1','11530'],\n",
    "           [3, 'John', 'Maxwell','l2','10013'],\n",
    "           [4, 'Stephen','Hawkings','l1','90290'],\n",
    "           [5, 'Doroty','Simons','l3','90803']]"
   ]
  },
  {
   "cell_type": "markdown",
   "metadata": {},
   "source": [
    "## 1) Please print and order a list of sellers in ascending and descending order."
   ]
  },
  {
   "cell_type": "code",
   "execution_count": 10,
   "metadata": {
    "collapsed": false
   },
   "outputs": [
    {
     "name": "stdout",
     "output_type": "stream",
     "text": [
      "[1, 'Albert', 'Sandler', 'l2', '33142']\n",
      "[2, 'Carl', 'Sagan', 'l1', '11530']\n",
      "[3, 'John', 'Maxwell', 'l2', '10013']\n",
      "[4, 'Stephen', 'Hawkings', 'l1', '90290']\n",
      "[5, 'Doroty', 'Simons', 'l3', '90803']\n"
     ]
    }
   ],
   "source": [
    "l = len(sellers)\n",
    "sellers.sort() #reverse=True\n",
    "for i in range(l):\n",
    "    print(sellers[i])"
   ]
  },
  {
   "cell_type": "markdown",
   "metadata": {},
   "source": [
    "## 2) Please print a list with the complete name (first name and last name) and the salary for each employee."
   ]
  },
  {
   "cell_type": "code",
   "execution_count": 3,
   "metadata": {
    "collapsed": false
   },
   "outputs": [
    {
     "name": "stdout",
     "output_type": "stream",
     "text": [
      "Name: ['Albert', 'Sandler'] Salary: 7500.0\n",
      "Name: ['Carl', 'Sagan'] Salary: 10000\n",
      "Name: ['John', 'Maxwell'] Salary: 7500.0\n",
      "Name: ['Stephen', 'Hawkings'] Salary: 10000\n",
      "Name: ['Doroty', 'Simons'] Salary: 5000.0\n"
     ]
    }
   ],
   "source": [
    "l = len(sellers)\n",
    "for i in range(l):\n",
    "    sellers.sort()\n",
    "    for key in base_salary_ratio.keys():\n",
    "        if sellers[i][3] == key:\n",
    "            print('Name: %s' % sellers[i][1:3], 'Salary: %s' % (base_salary_ratio[key] * base_salary))"
   ]
  },
  {
   "cell_type": "markdown",
   "metadata": {},
   "source": [
    "## 3) Each seller has a comission for their sales equals to 1% if the sales are more than 100 and 2% if they are more than 125. If sales are less than or equal to 100 no comission will be applied. Please calculate the total salary per seller including the base salary and his comission."
   ]
  },
  {
   "cell_type": "code",
   "execution_count": 5,
   "metadata": {
    "collapsed": false
   },
   "outputs": [
    {
     "name": "stdout",
     "output_type": "stream",
     "text": [
      "Name: ['Albert', 'Sandler'] Salary: 7501.25\n",
      "Name: ['Carl', 'Sagan'] Salary: 10003.0\n",
      "Name: ['John', 'Maxwell'] Salary: 7500.0\n",
      "Name: ['Stephen', 'Hawkings'] Salary: 10001.14\n",
      "Name: ['Doroty', 'Simons'] Salary: 5000.0\n"
     ]
    }
   ],
   "source": [
    "def print_(name,salary):\n",
    "    return print('Name: %s' % name, 'Salary: %s' % salary)\n",
    "\n",
    "l = len(sellers)\n",
    "for i in range(l):\n",
    "    sellers.sort()\n",
    "    for key in base_salary_ratio.keys():\n",
    "        if sellers[i][3] == key:\n",
    "            base = base_salary_ratio[key] * base_salary\n",
    "            for k in sales.keys():\n",
    "                if sellers[i][0] == k:\n",
    "                    sale = sales[k]\n",
    "                    if sale > 100 and sale <= 125:\n",
    "                        total = base + sale * 0.01\n",
    "                        print_(sellers[i][1:3], total)\n",
    "                    elif sale > 125:\n",
    "                        total = base + sale * 0.02\n",
    "                        print_(sellers[i][1:3], total)\n",
    "                    else:\n",
    "                        total = base\n",
    "                        print_(sellers[i][1:3], total)"
   ]
  },
  {
   "cell_type": "markdown",
   "metadata": {},
   "source": [
    "## 4) Sellers are located in different cities along USA, please make a list with the name of the seller and the State where is located."
   ]
  },
  {
   "cell_type": "code",
   "execution_count": 7,
   "metadata": {
    "collapsed": true
   },
   "outputs": [],
   "source": [
    "zip_codes = {'33142':'Miami, FL',\n",
    "             '11530':'Garden City, NY',\n",
    "             '10013':'New York, NY',\n",
    "             '90290':'Topanga, CA',\n",
    "             '90803':'Long Beach, CA'}"
   ]
  },
  {
   "cell_type": "code",
   "execution_count": 8,
   "metadata": {
    "collapsed": false
   },
   "outputs": [
    {
     "name": "stdout",
     "output_type": "stream",
     "text": [
      "Name: ['Albert', 'Sandler'] City: FL\n",
      "Name: ['Carl', 'Sagan'] City: NY\n",
      "Name: ['John', 'Maxwell'] City: NY\n",
      "Name: ['Stephen', 'Hawkings'] City: CA\n",
      "Name: ['Doroty', 'Simons'] City: CA\n"
     ]
    }
   ],
   "source": [
    "l = len(sellers)\n",
    "for i in range(l):\n",
    "    sellers.sort()\n",
    "    for z in zip_codes.keys():\n",
    "        if sellers[i][4] == z:\n",
    "            city = zip_codes[z]\n",
    "            state = city[-2:]\n",
    "            print('Name: %s' % sellers[i][1:3], 'City: %s' % state)"
   ]
  },
  {
   "cell_type": "markdown",
   "metadata": {},
   "source": [
    "## 5) Apply the concept of Object Oriented Programming and make a list with the full name of each seller, the total salary and the State where is located."
   ]
  },
  {
   "cell_type": "code",
   "execution_count": 11,
   "metadata": {
    "collapsed": false
   },
   "outputs": [
    {
     "name": "stdout",
     "output_type": "stream",
     "text": [
      "Salesman:  Albert Sandler -- Salary: 7501.25 -- State: FL\n",
      "Salesman:  Carl Sagan -- Salary: 10003.0 -- State: NY\n",
      "Salesman:  John Maxwell -- Salary: 7500.0 -- State: NY\n",
      "Salesman:  Stephen Hawkings -- Salary: 10001.14 -- State: CA\n",
      "Salesman:  Doroty Simons -- Salary: 5000.0 -- State: CA\n"
     ]
    }
   ],
   "source": [
    "class Salesman:\n",
    "    def __init__(self, code, first_name, last_name, ratio, zip_c):\n",
    "        self.code = code\n",
    "        self.first_name = first_name\n",
    "        self.last_name = last_name\n",
    "        self.ratio = ratio\n",
    "        self.zip = zip_c\n",
    "        \n",
    "    def salary(self):\n",
    "        for key in base_salary_ratio.keys():\n",
    "            if self.ratio == key:\n",
    "                base = base_salary_ratio[key] * base_salary\n",
    "                for k in sales.keys():\n",
    "                    if self.code == k:\n",
    "                        sale = sales[k]\n",
    "                        if sale > 100 and sale <= 125:\n",
    "                            total = base + sale * 0.01\n",
    "                        elif sale > 125:\n",
    "                            total = base + sale * 0.02\n",
    "                        else:\n",
    "                            total = base\n",
    "        return total\n",
    "        \n",
    "    def state(self):\n",
    "        for i in zip_codes.keys():\n",
    "            if self.zip == i:\n",
    "                st = zip_codes[i]\n",
    "                state = st[-2:]\n",
    "        return state        \n",
    "        \n",
    "    def print_obj(self):\n",
    "        return print('Salesman:  '\n",
    "                     + self.first_name\n",
    "                     + ' '+ self.last_name\n",
    "                     + ' -- '+ 'Salary: %s' % self.salary()\n",
    "                     + ' -- '+ 'State: %s' % self.state())\n",
    "\n",
    "sm = []\n",
    "for i in range(len(sellers)):\n",
    "    obj = Salesman(sellers[i][0],\n",
    "                       sellers[i][1],\n",
    "                       sellers[i][2],\n",
    "                       sellers[i][3],\n",
    "                       sellers[i][4])\n",
    "    sm.append(obj)\n",
    "    sm[i].print_obj()"
   ]
  },
  {
   "cell_type": "markdown",
   "metadata": {},
   "source": [
    "## !!! Great Job !!! - Congratulations!!!"
   ]
  }
 ],
 "metadata": {
  "kernelspec": {
   "display_name": "Python [conda env:py35-64]",
   "language": "python",
   "name": "conda-env-py35-64-py"
  },
  "language_info": {
   "codemirror_mode": {
    "name": "ipython",
    "version": 3
   },
   "file_extension": ".py",
   "mimetype": "text/x-python",
   "name": "python",
   "nbconvert_exporter": "python",
   "pygments_lexer": "ipython3",
   "version": "3.5.3"
  }
 },
 "nbformat": 4,
 "nbformat_minor": 2
}
