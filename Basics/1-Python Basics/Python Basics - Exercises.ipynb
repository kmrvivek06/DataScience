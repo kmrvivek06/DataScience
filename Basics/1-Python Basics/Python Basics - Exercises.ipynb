{
 "cells": [
  {
   "cell_type": "markdown",
   "metadata": {},
   "source": [
    "<img src=\"../Pics/MLSb-T.png\" width=\"160\">\n",
    "<br><br>\n",
    "<center><u><H1>Python Basics - Exercises</H1></u></center>"
   ]
  },
  {
   "cell_type": "markdown",
   "metadata": {},
   "source": [
    "## Let me present you Cosmos company, it is a trading company with present in many states of USA. I show you the data for the top 5 sellers of this company, where: \n",
    "## - Sales is a dictionary with the sales for each seller identified with a code number.\n",
    "## - Base salary is the minimum salary\n",
    "## - Base salary ratio is a ratio that improve the base salary based on the qualification of each salesman.\n",
    "## - Finally you have a list with the data of each seller including the salary ratio and the zip code where is located."
   ]
  },
  {
   "cell_type": "code",
   "execution_count": null,
   "metadata": {
    "collapsed": false
   },
   "outputs": [],
   "source": [
    "# Sales in thousands\n",
    "sales = {1:125,2:150,3:95,4:114,5:89}\n",
    "base_salary = 5000\n",
    "base_salary_ratio = {'l1':2, 'l2': 1.5, 'l3': 1.0 }\n",
    "\n",
    "# Code, Name, LastName, code_salary_ratio, zip_code\n",
    "sellers = [[1, 'Albert','Sandler','l2', '33142'],\n",
    "           [2, 'Carl', 'Sagan','l1','11530'],\n",
    "           [3, 'John', 'Maxwell','l2','10013'],\n",
    "           [4, 'Stephen','Hawkings','l1','90290'],\n",
    "           [5, 'Doroty','Simons','l3','90803']]"
   ]
  },
  {
   "cell_type": "markdown",
   "metadata": {},
   "source": [
    "## 1) Please print and order a list of sellers in ascending and descending order."
   ]
  },
  {
   "cell_type": "markdown",
   "metadata": {},
   "source": [
    "## 2) Please print a list with the complete name (first name and last name) and the salary for each employee."
   ]
  },
  {
   "cell_type": "markdown",
   "metadata": {},
   "source": [
    "## 3) Each seller has a comission for their sales equals to 1% if the sales are more than 100 and 2% if they are more than 125. If sales are less than or equal to 100 no comission will be applied. Please calculate the total salary per seller including the base salary and his comission."
   ]
  },
  {
   "cell_type": "markdown",
   "metadata": {},
   "source": [
    "## 4) Sellers are located in different cities along USA, please make a list with the name of the seller and the State where is located."
   ]
  },
  {
   "cell_type": "code",
   "execution_count": null,
   "metadata": {
    "collapsed": true
   },
   "outputs": [],
   "source": [
    "zip_codes = {'33142':'Miami, FL',\n",
    "             '11530':'Garden City, NY',\n",
    "             '10013':'New York, NY',\n",
    "             '90290':'Topanga, CA',\n",
    "             '90803':'Long Beach, CA'}"
   ]
  },
  {
   "cell_type": "markdown",
   "metadata": {},
   "source": [
    "## 5) Apply the concept of Object Oriented Programming and make a list with the full name of each seller, the total salary and the State where is located."
   ]
  },
  {
   "cell_type": "markdown",
   "metadata": {},
   "source": [
    "\n",
    "## Recommendations:\n",
    "### 1) Try to solve this 5 questions by yourself, dont look the answers until you have done your best.\n",
    "### 2) This excercises are designed to evaluate your knowledge of python basics, if you really have understood all concepts that i have explained you until now, you will be able to solve this questions. \n",
    "### 3) It is very important that you have understood very well all concepts from this chapter before you continue with the next chapters. Dont initiate a new chapter until you have understood and practice the concepts of the previous chapter."
   ]
  }
 ],
 "metadata": {
  "kernelspec": {
   "display_name": "Python [conda env:py35-64]",
   "language": "python",
   "name": "conda-env-py35-64-py"
  },
  "language_info": {
   "codemirror_mode": {
    "name": "ipython",
    "version": 3
   },
   "file_extension": ".py",
   "mimetype": "text/x-python",
   "name": "python",
   "nbconvert_exporter": "python",
   "pygments_lexer": "ipython3",
   "version": "3.5.3"
  }
 },
 "nbformat": 4,
 "nbformat_minor": 2
}
