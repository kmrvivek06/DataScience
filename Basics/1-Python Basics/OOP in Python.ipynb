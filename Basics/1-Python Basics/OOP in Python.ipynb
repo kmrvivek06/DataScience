{
 "cells": [
  {
   "cell_type": "markdown",
   "metadata": {
    "collapsed": true
   },
   "source": [
    "<img src=\"../Pics/MLSb-T.png\" width=\"160\">\n",
    "<br><br>\n",
    "<center><u><H1>Object Oriented Programming</H1></u></center>"
   ]
  },
  {
   "cell_type": "markdown",
   "metadata": {},
   "source": [
    "## Classes, Methods, Sub Classes and Inheritance:"
   ]
  },
  {
   "cell_type": "markdown",
   "metadata": {},
   "source": [
    "<img src=\"../Pics/OOP-objects_and_classes.png\" width=\"300\">\n",
    "<br><br>"
   ]
  },
  {
   "cell_type": "code",
   "execution_count": 1,
   "metadata": {},
   "outputs": [],
   "source": [
    "# Constructor\n",
    "class Person:\n",
    "    def __init__(self, first_name, surname, tel):\n",
    "      self.first_name = first_name\n",
    "      self.surname = surname\n",
    "      self.tel = tel\n",
    "    \n",
    "\n",
    "newperson = Person('Jack','Sparrow','41256315')   "
   ]
  },
  {
   "cell_type": "code",
   "execution_count": 2,
   "metadata": {},
   "outputs": [
    {
     "data": {
      "text/plain": [
       "'Jack'"
      ]
     },
     "execution_count": 2,
     "metadata": {},
     "output_type": "execute_result"
    }
   ],
   "source": [
    "newperson.first_name"
   ]
  },
  {
   "cell_type": "code",
   "execution_count": 13,
   "metadata": {},
   "outputs": [],
   "source": [
    "# Including a method:\n",
    "class Person:                                  #General class without (object)\n",
    "    def __init__(self, first_name, surname, tel):\n",
    "      self.first_name = first_name\n",
    "      self.surname = surname\n",
    "      self.tel = tel\n",
    "\n",
    "    def full_name(self):\n",
    "      return self.first_name + \" \" + self.surname\n",
    "\n",
    "newperson = Person('Jack','Sparrow','41256315')"
   ]
  },
  {
   "cell_type": "code",
   "execution_count": 14,
   "metadata": {},
   "outputs": [
    {
     "data": {
      "text/plain": [
       "'Jack Sparrow'"
      ]
     },
     "execution_count": 14,
     "metadata": {},
     "output_type": "execute_result"
    }
   ],
   "source": [
    "newperson.full_name()"
   ]
  },
  {
   "cell_type": "code",
   "execution_count": 35,
   "metadata": {},
   "outputs": [],
   "source": [
    "#Including a SubClass of Person:\n",
    "# Including a method:\n",
    "class Person(object): # Classes must inherit Object in python 2\n",
    "    def __init__(self, first_name, surname, tel):\n",
    "      self.first_name = first_name\n",
    "      self.surname = surname\n",
    "      self.tel = tel\n",
    "\n",
    "    def full_name(self):\n",
    "      return self.first_name + \" \" + self.surname\n",
    "\n",
    "\n",
    "class Employee(Person):# Inheritance\n",
    "    def __init__(self, first_name, surname, tel, salary):       # super().methoName(args) :- pyhon-3\n",
    "        super(Employee,self).__init__(first_name, surname, tel) # super(subClass, instance).method(args) :- python-2\n",
    "        self.salary = salary\n",
    "            "
   ]
  },
  {
   "cell_type": "code",
   "execution_count": 36,
   "metadata": {},
   "outputs": [
    {
     "data": {
      "text/plain": [
       "1253652"
      ]
     },
     "execution_count": 36,
     "metadata": {},
     "output_type": "execute_result"
    }
   ],
   "source": [
    "# Creating and object: Intance of the class\n",
    "empl = Employee('Jack','Sparrow','41256315',1253652)   \n",
    "empl.salary"
   ]
  },
  {
   "cell_type": "code",
   "execution_count": 43,
   "metadata": {},
   "outputs": [],
   "source": [
    "# Including a method:\n",
    "class Person(object): # Classes must inherit Object in python 2\n",
    "    def __init__(self, first_name, surname, tel):\n",
    "        self.first_name = first_name\n",
    "        self.surname = surname\n",
    "        self.tel = tel\n",
    "\n",
    "    def __full_name__(self):\n",
    "        return self.first_name + \" \" + self.surname\n",
    "\n",
    "\n",
    "class Employee(Person):\n",
    "    def __init__(self, first_name, surname, tel, salary, age):\n",
    "        super(Employee,self).__init__(first_name, surname, tel)\n",
    "        self.salary = salary\n",
    "        self.age = age\n",
    "        \n",
    "    def full_data(self):\n",
    "        return super(Employee,self).__full_name__() + \", \" +  str(self.age)\n"
   ]
  },
  {
   "cell_type": "code",
   "execution_count": 44,
   "metadata": {},
   "outputs": [],
   "source": [
    "empl = Employee('Mario','Bros','415245821',100000,36)        "
   ]
  },
  {
   "cell_type": "code",
   "execution_count": 45,
   "metadata": {},
   "outputs": [
    {
     "data": {
      "text/plain": [
       "'Mario Bros, 36'"
      ]
     },
     "execution_count": 45,
     "metadata": {},
     "output_type": "execute_result"
    }
   ],
   "source": [
    "empl.full_data()"
   ]
  },
  {
   "cell_type": "markdown",
   "metadata": {},
   "source": [
    "#### Double underscore before and after method is used when it will be override by another method."
   ]
  },
  {
   "cell_type": "markdown",
   "metadata": {
    "collapsed": true
   },
   "source": [
    "## Reference:\n",
    "https://docs.python.org/3/tutorial/classes.html"
   ]
  },
  {
   "cell_type": "code",
   "execution_count": null,
   "metadata": {},
   "outputs": [],
   "source": []
  }
 ],
 "metadata": {
  "anaconda-cloud": {},
  "kernelspec": {
   "display_name": "Python 2",
   "language": "python",
   "name": "python2"
  },
  "language_info": {
   "codemirror_mode": {
    "name": "ipython",
    "version": 2
   },
   "file_extension": ".py",
   "mimetype": "text/x-python",
   "name": "python",
   "nbconvert_exporter": "python",
   "pygments_lexer": "ipython2",
   "version": "2.7.15"
  }
 },
 "nbformat": 4,
 "nbformat_minor": 1
}
