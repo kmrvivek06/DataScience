{
 "cells": [
  {
   "cell_type": "markdown",
   "metadata": {
    "collapsed": true
   },
   "source": [
    "<img src=\"../Pics/MLSb-T.png\" width=\"160\">\n",
    "<br><br>\n",
    "<center><u><H1>Functions</H1></u></center>"
   ]
  },
  {
   "cell_type": "code",
   "execution_count": 1,
   "metadata": {},
   "outputs": [
    {
     "name": "stdout",
     "output_type": "stream",
     "text": [
      "Hello!\n"
     ]
    }
   ],
   "source": [
    "#Functions without arguments\n",
    "def user():\n",
    "    print('Hello!')\n",
    "    \n",
    "user()    "
   ]
  },
  {
   "cell_type": "code",
   "execution_count": 2,
   "metadata": {},
   "outputs": [
    {
     "name": "stdout",
     "output_type": "stream",
     "text": [
      "\n",
      "I have an Audi model A7\n"
     ]
    }
   ],
   "source": [
    "#Functions with arguments\n",
    "def describe_car(brand,model):\n",
    "    print(\"\\nI have an \"+brand+\" model \"+model)\n",
    "    \n",
    "describe_car('Audi','A7')    "
   ]
  },
  {
   "cell_type": "code",
   "execution_count": 3,
   "metadata": {},
   "outputs": [
    {
     "data": {
      "text/plain": [
       "'Steve Jobs'"
      ]
     },
     "execution_count": 3,
     "metadata": {},
     "output_type": "execute_result"
    }
   ],
   "source": [
    "#Functions with return values\n",
    "def person(first_name, last_name):\n",
    "    full_name = first_name + ' ' + last_name\n",
    "    return full_name\n",
    "\n",
    "person('Steve','Jobs')"
   ]
  },
  {
   "cell_type": "code",
   "execution_count": 4,
   "metadata": {},
   "outputs": [
    {
     "data": {
      "text/plain": [
       "{'first': 'Steve', 'last': 'Jobs'}"
      ]
     },
     "execution_count": 4,
     "metadata": {},
     "output_type": "execute_result"
    }
   ],
   "source": [
    "#Returning a dictionary\n",
    "def person(first_name, last_name):\n",
    "    full_name = {'first':first_name,'last':last_name}\n",
    "    return full_name\n",
    "\n",
    "person('Steve','Jobs')"
   ]
  },
  {
   "cell_type": "code",
   "execution_count": 5,
   "metadata": {},
   "outputs": [
    {
     "name": "stdout",
     "output_type": "stream",
     "text": [
      "Brand: Audi\n",
      "Brand: BMW\n",
      "Brand: Bentley\n",
      "Brand: Ferrari\n"
     ]
    }
   ],
   "source": [
    "#Passing a list\n",
    "def brand_cars(names):\n",
    "    for name in names:\n",
    "        msg = \"Brand: \" + name\n",
    "        print(msg)\n",
    "brand_names = ['Audi','BMW','Bentley','Ferrari']\n",
    "brand_cars(brand_names)"
   ]
  },
  {
   "cell_type": "code",
   "execution_count": 6,
   "metadata": {},
   "outputs": [
    {
     "name": "stdout",
     "output_type": "stream",
     "text": [
      "Brand: ['Audi', 'BMW', 'Bentley', 'Ferrari']\n",
      "Brand: ['Audi', 'BMW']\n"
     ]
    }
   ],
   "source": [
    "#Passing an Arbitrary Number of Arguments\n",
    "def brand_cars(*names):\n",
    "    for name in names:\n",
    "        msg = \"Brand: \" + str(name)\n",
    "        print(msg)\n",
    "brand_names = ['Audi','BMW','Bentley','Ferrari']\n",
    "brand_names_=['Audi','BMW']\n",
    "brand_cars(brand_names)\n",
    "brand_cars(brand_names_)"
   ]
  },
  {
   "cell_type": "code",
   "execution_count": 7,
   "metadata": {},
   "outputs": [
    {
     "name": "stdout",
     "output_type": "stream",
     "text": [
      "{'field': 'Astronomy', 'first_name': 'Carl', 'last_name': 'Sagan', 'location': 'USA'}\n"
     ]
    }
   ],
   "source": [
    "#Using Arbitrary Keyword Arguments\n",
    "def build_profile(first, last, **user_info):\n",
    "    profile = {}\n",
    "    profile['first_name'] = first\n",
    "    profile['last_name'] = last\n",
    "    for key, value in user_info.items():\n",
    "        profile[key] = value\n",
    "    return profile\n",
    "\n",
    "user_profile = build_profile('Carl','Sagan',\n",
    "                            location='USA',\n",
    "                            field='Astronomy')\n",
    "\n",
    "print(user_profile)"
   ]
  },
  {
   "cell_type": "markdown",
   "metadata": {},
   "source": [
    "### Storing Functions in Modules:"
   ]
  },
  {
   "cell_type": "markdown",
   "metadata": {},
   "source": [
    "#### A module is a file ending in .py that contains the code you want to import into your current program."
   ]
  },
  {
   "cell_type": "markdown",
   "metadata": {},
   "source": [
    "#### For example: a module can contain the function build_profile and we can name as profile.py\n",
    "import profile\n",
    "\n",
    "user_profile = build_profile('Carl','Sagan',\n",
    "                            location='USA',\n",
    "                            field='Astronomy')\n",
    "\n",
    "profile.build_profile(user_profile)\n",
    "\n",
    "#### The sintax is : module_name.function_name()\n",
    "where module_name is a file module_name.py"
   ]
  },
  {
   "cell_type": "markdown",
   "metadata": {},
   "source": [
    "#### Importing Specific Functions:\n",
    "from module_name import function_name"
   ]
  },
  {
   "cell_type": "markdown",
   "metadata": {},
   "source": [
    "#### Using as to give a Function an alias:\n",
    "from module_name import function_name as fn"
   ]
  },
  {
   "cell_type": "markdown",
   "metadata": {},
   "source": [
    "#### Importing all functions in a module\n",
    "from module_name import *"
   ]
  },
  {
   "cell_type": "markdown",
   "metadata": {},
   "source": [
    "### Callback Functions:"
   ]
  },
  {
   "cell_type": "code",
   "execution_count": 24,
   "metadata": {},
   "outputs": [],
   "source": [
    "def apply_async(func, args,callback):\n",
    "    result = func(*args)\n",
    "    callback(result)"
   ]
  },
  {
   "cell_type": "code",
   "execution_count": 25,
   "metadata": {},
   "outputs": [
    {
     "name": "stdout",
     "output_type": "stream",
     "text": [
      "('Value:', 5)\n"
     ]
    }
   ],
   "source": [
    "def print_result(result):\n",
    "    print('Value:',result)\n",
    "    \n",
    "def add(x, y):\n",
    "    return x + y\n",
    "\n",
    "apply_async(add, (2, 3), callback=print_result)"
   ]
  },
  {
   "cell_type": "code",
   "execution_count": 26,
   "metadata": {},
   "outputs": [
    {
     "name": "stdout",
     "output_type": "stream",
     "text": [
      "('Value:', 'hellopython')\n"
     ]
    }
   ],
   "source": [
    "apply_async(add, ('hello','python'), callback=print_result)"
   ]
  },
  {
   "cell_type": "markdown",
   "metadata": {},
   "source": [
    "## Lambda Functions:"
   ]
  },
  {
   "cell_type": "code",
   "execution_count": 27,
   "metadata": {},
   "outputs": [
    {
     "data": {
      "text/plain": [
       "11"
      ]
     },
     "execution_count": 27,
     "metadata": {},
     "output_type": "execute_result"
    }
   ],
   "source": [
    "x = 10\n",
    "a = lambda y: x + y**2\n",
    "a(1)"
   ]
  },
  {
   "cell_type": "code",
   "execution_count": 28,
   "metadata": {},
   "outputs": [
    {
     "data": {
      "text/plain": [
       "8"
      ]
     },
     "execution_count": 28,
     "metadata": {},
     "output_type": "execute_result"
    }
   ],
   "source": [
    "# function to capture a value at the point of definition and keep it\n",
    "x = 5\n",
    "a = lambda y, x=x: x + y\n",
    "x = 11\n",
    "b = lambda y, x=x: x + y\n",
    "a(3)"
   ]
  },
  {
   "cell_type": "code",
   "execution_count": 29,
   "metadata": {},
   "outputs": [
    {
     "data": {
      "text/plain": [
       "16"
      ]
     },
     "execution_count": 29,
     "metadata": {},
     "output_type": "execute_result"
    }
   ],
   "source": [
    "b(5)"
   ]
  },
  {
   "cell_type": "code",
   "execution_count": 30,
   "metadata": {},
   "outputs": [
    {
     "data": {
      "text/plain": [
       "5"
      ]
     },
     "execution_count": 30,
     "metadata": {},
     "output_type": "execute_result"
    }
   ],
   "source": [
    "line = lambda m,x,c: m*x+c\n",
    "line(2,4,-3)"
   ]
  },
  {
   "cell_type": "markdown",
   "metadata": {},
   "source": [
    "## Map and Filter:"
   ]
  },
  {
   "cell_type": "markdown",
   "metadata": {},
   "source": [
    "#### Map takes two arguments. The first argument is the name of a function and the second a sequence. map() applies the function to all the elements of the sequence."
   ]
  },
  {
   "cell_type": "code",
   "execution_count": 31,
   "metadata": {},
   "outputs": [
    {
     "name": "stdout",
     "output_type": "stream",
     "text": [
      "[97.16000000000001, 83.30000000000001, 81.14, 85.64, 88.7]\n"
     ]
    }
   ],
   "source": [
    "C = [36.2, 28.5, 27.3, 29.8, 31.5] \n",
    "F = list(map(lambda x: (float(9)/5)*x + 32, C))\n",
    "print(F)"
   ]
  },
  {
   "cell_type": "code",
   "execution_count": 32,
   "metadata": {},
   "outputs": [
    {
     "name": "stdout",
     "output_type": "stream",
     "text": [
      "[36.20000000000001, 28.500000000000007, 27.3, 29.8, 31.500000000000004]\n"
     ]
    }
   ],
   "source": [
    "C = list(map(lambda x: (float(5)/9)*(x-32), F))\n",
    "print(C)"
   ]
  },
  {
   "cell_type": "markdown",
   "metadata": {},
   "source": [
    "#### Filter offers to filter out all the elements of a sequence, for which the function returns True."
   ]
  },
  {
   "cell_type": "code",
   "execution_count": 33,
   "metadata": {},
   "outputs": [
    {
     "name": "stdout",
     "output_type": "stream",
     "text": [
      "[1, 3, 5, 7, 13]\n"
     ]
    }
   ],
   "source": [
    "numbers = [0,1,3,5,7,8,10,13,16,24,36]\n",
    "odd_numbers = list(filter(lambda x: x % 2, numbers))\n",
    "print(odd_numbers)"
   ]
  },
  {
   "cell_type": "markdown",
   "metadata": {},
   "source": [
    "## Python Built-in Functions:"
   ]
  },
  {
   "cell_type": "markdown",
   "metadata": {},
   "source": [
    "#### Range function:"
   ]
  },
  {
   "cell_type": "code",
   "execution_count": 34,
   "metadata": {},
   "outputs": [
    {
     "name": "stdout",
     "output_type": "stream",
     "text": [
      "0\n",
      "1\n",
      "2\n"
     ]
    }
   ],
   "source": [
    "for i in range(3):\n",
    "    print(i)"
   ]
  },
  {
   "cell_type": "code",
   "execution_count": 35,
   "metadata": {},
   "outputs": [
    {
     "name": "stdout",
     "output_type": "stream",
     "text": [
      "a\n",
      "b\n",
      "c\n"
     ]
    }
   ],
   "source": [
    "l = ['a','b','c']\n",
    "for i in range(len(l)):\n",
    "    print(l[i])"
   ]
  },
  {
   "cell_type": "markdown",
   "metadata": {},
   "source": [
    "#### Enumerate:"
   ]
  },
  {
   "cell_type": "code",
   "execution_count": 36,
   "metadata": {},
   "outputs": [
    {
     "name": "stdout",
     "output_type": "stream",
     "text": [
      "(0, 34)\n",
      "(1, 'House')\n",
      "(2, 12)\n",
      "(3, False)\n",
      "(4, 72.3)\n"
     ]
    }
   ],
   "source": [
    "a = [34, 'House', 12, False, 72.3]\n",
    "for (i, x) in enumerate(a):\n",
    "    print(i, x)"
   ]
  },
  {
   "cell_type": "markdown",
   "metadata": {},
   "source": [
    "#### Using Zip function:"
   ]
  },
  {
   "cell_type": "code",
   "execution_count": 37,
   "metadata": {},
   "outputs": [
    {
     "data": {
      "text/plain": [
       "{'brand': 'Audi', 'model': 'A5', 'price': 60000}"
      ]
     },
     "execution_count": 37,
     "metadata": {},
     "output_type": "execute_result"
    }
   ],
   "source": [
    "car = dict(zip(['brand','model','price'],['Audi','A5',60000]))\n",
    "car"
   ]
  },
  {
   "cell_type": "markdown",
   "metadata": {},
   "source": [
    "#### Combinations:"
   ]
  },
  {
   "cell_type": "code",
   "execution_count": 38,
   "metadata": {},
   "outputs": [
    {
     "name": "stdout",
     "output_type": "stream",
     "text": [
      "()\n",
      "(0,)\n",
      "(1,)\n",
      "(2,)\n",
      "(3,)\n",
      "(0, 1)\n",
      "(0, 2)\n",
      "(0, 3)\n",
      "(1, 2)\n",
      "(1, 3)\n",
      "(2, 3)\n",
      "(0, 1, 2)\n",
      "(0, 1, 3)\n",
      "(0, 2, 3)\n",
      "(1, 2, 3)\n"
     ]
    }
   ],
   "source": [
    "from itertools import combinations\n",
    "iterable = range(4)\n",
    "for i in range(len(iterable)):\n",
    "    for comb in combinations(iterable, i):\n",
    "        print(comb)"
   ]
  },
  {
   "cell_type": "markdown",
   "metadata": {},
   "source": [
    "### List comprehension expression: "
   ]
  },
  {
   "cell_type": "code",
   "execution_count": 39,
   "metadata": {},
   "outputs": [
    {
     "data": {
      "text/plain": [
       "[[0, 1, 2], [3, 4, 5], [6, 7, 8]]"
      ]
     },
     "execution_count": 39,
     "metadata": {},
     "output_type": "execute_result"
    }
   ],
   "source": [
    "matrix = [[0,1,2],[3,4,5],[6,7,8]]\n",
    "matrix"
   ]
  },
  {
   "cell_type": "code",
   "execution_count": 40,
   "metadata": {},
   "outputs": [
    {
     "data": {
      "text/plain": [
       "[2, 5, 8]"
      ]
     },
     "execution_count": 40,
     "metadata": {},
     "output_type": "execute_result"
    }
   ],
   "source": [
    "# Collecting the items of the column 3\n",
    "newcol = [row[2] for row in matrix]\n",
    "newcol"
   ]
  },
  {
   "cell_type": "code",
   "execution_count": 41,
   "metadata": {},
   "outputs": [
    {
     "data": {
      "text/plain": [
       "[[0, 1, 2], [3, 4, 5], [6, 7, 8]]"
      ]
     },
     "execution_count": 41,
     "metadata": {},
     "output_type": "execute_result"
    }
   ],
   "source": [
    "# the original list is not changing\n",
    "matrix"
   ]
  },
  {
   "cell_type": "code",
   "execution_count": 42,
   "metadata": {},
   "outputs": [
    {
     "data": {
      "text/plain": [
       "[2, 8]"
      ]
     },
     "execution_count": 42,
     "metadata": {},
     "output_type": "execute_result"
    }
   ],
   "source": [
    "# Filter out odd items:\n",
    "[row[2] for row in matrix if row[2] % 2 == 0]"
   ]
  },
  {
   "cell_type": "code",
   "execution_count": 43,
   "metadata": {},
   "outputs": [
    {
     "data": {
      "text/plain": [
       "[0, 1, 2, 3, 4]"
      ]
     },
     "execution_count": 43,
     "metadata": {},
     "output_type": "execute_result"
    }
   ],
   "source": [
    "# Sequence of numbers:\n",
    "list(range(5))"
   ]
  },
  {
   "cell_type": "code",
   "execution_count": 44,
   "metadata": {},
   "outputs": [
    {
     "data": {
      "text/plain": [
       "[[0, 0, 0.0],\n",
       " [1, 1, 1.0],\n",
       " [4, 8, 1.4142135623730951],\n",
       " [9, 27, 1.7320508075688772],\n",
       " [16, 64, 2.0]]"
      ]
     },
     "execution_count": 44,
     "metadata": {},
     "output_type": "execute_result"
    }
   ],
   "source": [
    "# Multiple values:\n",
    "import numpy as np\n",
    "[[x ** 2, x ** 3, np.sqrt(x)] for x in range(5)]"
   ]
  },
  {
   "cell_type": "code",
   "execution_count": 45,
   "metadata": {},
   "outputs": [
    {
     "name": "stdout",
     "output_type": "stream",
     "text": [
      "-2\n",
      "0\n",
      "2\n",
      "4\n"
     ]
    }
   ],
   "source": [
    "# range: init value to final value and the step on the sequence.\n",
    "for i in range(-2,5,2):\n",
    "    print(i)"
   ]
  },
  {
   "cell_type": "code",
   "execution_count": 46,
   "metadata": {},
   "outputs": [
    {
     "data": {
      "text/plain": [
       "[[4, 8, 1.4142135623730951], [16, 64, 2.0]]"
      ]
     },
     "execution_count": 46,
     "metadata": {},
     "output_type": "execute_result"
    }
   ],
   "source": [
    "# Multiple values with if sentence:\n",
    "[[x ** 2, x ** 3, np.sqrt(x)] for x in range(-10,5,2) if x > 0]"
   ]
  },
  {
   "cell_type": "markdown",
   "metadata": {},
   "source": [
    "## Reference:\n",
    "\n",
    "https://docs.python.org/3/library/functions.html"
   ]
  },
  {
   "cell_type": "code",
   "execution_count": null,
   "metadata": {},
   "outputs": [],
   "source": []
  }
 ],
 "metadata": {
  "kernelspec": {
   "display_name": "Python 2",
   "language": "python",
   "name": "python2"
  },
  "language_info": {
   "codemirror_mode": {
    "name": "ipython",
    "version": 2
   },
   "file_extension": ".py",
   "mimetype": "text/x-python",
   "name": "python",
   "nbconvert_exporter": "python",
   "pygments_lexer": "ipython2",
   "version": "2.7.15"
  }
 },
 "nbformat": 4,
 "nbformat_minor": 1
}
